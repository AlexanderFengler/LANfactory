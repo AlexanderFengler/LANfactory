{
 "cells": [
  {
   "cell_type": "markdown",
   "metadata": {},
   "source": [
    "### Quick Start"
   ]
  },
  {
   "cell_type": "markdown",
   "metadata": {},
   "source": [
    "The `LANfactory` package is a light-weight convenience package for training `likelihood approximation networks` (LANs) in torch (or keras), \n",
    "starting from supplied training data.\n",
    "\n",
    "[LANs](https://elifesciences.org/articles/65074), although more general in potential scope of applications, were conceived in the context of sequential sampling modeling\n",
    "to account for cognitive processes giving rise to *choice* and *reaction time* data in *n-alternative forced choice experiments* commonly encountered in the cognitive sciences.\n",
    "\n",
    "In this quick tutorial we will use the [`ssms`](https://github.com/AlexanderFengler/ssm_simulators) package to generate our training data using such a sequential sampling model (SSM). The use of of the `LANfactory` package is in no way bound to utilize this `ssms` package."
   ]
  },
  {
   "cell_type": "markdown",
   "metadata": {},
   "source": [
    "#### Install\n",
    "\n",
    "To install the `ssms` package type,\n",
    "\n",
    "`pip install git+https://github.com/AlexanderFengler/ssm_simulators`\n",
    "\n",
    "To install the `LANfactory` package type,\n",
    "\n",
    "`pip install git+https://github.com/AlexanderFengler/LANfactory`\n",
    "\n",
    "Necessary dependency should be installed automatically in the process."
   ]
  },
  {
   "cell_type": "markdown",
   "metadata": {},
   "source": [
    "#### Basic Tutorial"
   ]
  },
  {
   "cell_type": "code",
   "execution_count": 1,
   "metadata": {},
   "outputs": [],
   "source": [
    "# Load necessary packages\n",
    "import ssms\n",
    "import lanfactory \n",
    "import os\n",
    "import numpy as np\n",
    "from copy import deepcopy\n",
    "import torch"
   ]
  },
  {
   "cell_type": "markdown",
   "metadata": {},
   "source": [
    "#### Generate Training Data\n",
    "First we need to generate some training data. As mentioned above we will do so using the `ssms` python package, however without delving into a detailed explanation\n",
    "of this package. Please refer to the [basic ssms tutorial] (https://github.com/AlexanderFengler/ssm_simulators) in case you want to learn more."
   ]
  },
  {
   "cell_type": "code",
   "execution_count": 2,
   "metadata": {},
   "outputs": [],
   "source": [
    "# MAKE CONFIGS\n",
    "\n",
    "# Initialize the generator config (for MLP LANs)\n",
    "generator_config = deepcopy(ssms.config.data_generator_config['lan']['mlp'])\n",
    "# Specify generative model (one from the list of included models mentioned above)\n",
    "generator_config['dgp_list'] = 'angle' \n",
    "# Specify number of parameter sets to simulate\n",
    "generator_config['n_parameter_sets'] = 100 \n",
    "# Specify how many samples a simulation run should entail\n",
    "generator_config['n_samples'] = 1000\n",
    "# Specify folder in which to save generated data\n",
    "generator_config['output_folder'] = 'data/lan_mlp/'\n",
    "\n",
    "# Make model config dict\n",
    "model_config = ssms.config.model_config['angle']"
   ]
  },
  {
   "cell_type": "code",
   "execution_count": 3,
   "metadata": {},
   "outputs": [
    {
     "name": "stdout",
     "output_type": "stream",
     "text": [
      "n_cpus used:  6\n",
      "checking:  data/lan_mlp/\n",
      "simulation round: 1  of 10\n",
      "simulation round: 2  of 10\n",
      "simulation round: 3  of 10\n",
      "simulation round: 4  of 10\n",
      "simulation round: 5  of 10\n",
      "simulation round: 6  of 10\n",
      "simulation round: 7  of 10\n",
      "simulation round: 8  of 10\n",
      "simulation round: 9  of 10\n",
      "simulation round: 10  of 10\n",
      "Writing to file:  data/lan_mlp/training_data_0_nbins_0_n_1000/angle/training_data_angle_ef5b9e0eb76c11eca684acde48001122.pickle\n"
     ]
    }
   ],
   "source": [
    "# MAKE DATA\n",
    "\n",
    "my_dataset_generator = ssms.dataset_generators.data_generator(generator_config = generator_config,\n",
    "                                                              model_config = model_config)\n",
    "\n",
    "training_data = my_dataset_generator.generate_data_training_uniform(save = True)"
   ]
  },
  {
   "cell_type": "markdown",
   "metadata": {},
   "source": [
    "#### Prepare for Training\n",
    "\n",
    "Next we set up dataloaders for training with pytorch. The `LANfactory` uses custom dataloaders, taking into account particularities of the expected training data.\n",
    "Specifically, we expect to receive a bunch of training data files (the present example generates only one), where each file hosts a large number of training examples. \n",
    "So we want to define a dataloader which spits out batches from data with a specific training data file, and keeps checking when to load in a new file. \n",
    "The way this is implemented here, is via the `DatasetTorch` class in `lanfactory.trainers`, which inherits from `torch.utils.data.Dataset` and prespecifies a `batch_size`. Finally this is supplied to a [`DataLoader`](https://pytorch.org/docs/stable/data.html), for which we keep the `batch_size` argument at 0.\n",
    "\n",
    "The `DatasetTorch` class is then called as an iterator via the DataLoader and takes care of batching as well as file loading internally. \n",
    "\n",
    "You may choose your own way of defining the `DataLoader` classes, downstream you are simply expected to supply one."
   ]
  },
  {
   "cell_type": "code",
   "execution_count": 4,
   "metadata": {},
   "outputs": [],
   "source": [
    "# MAKE DATALOADERS\n",
    "\n",
    "# List of datafiles (here only one)\n",
    "folder_ = 'data/lan_mlp/training_data_0_nbins_0_n_1000/angle/'\n",
    "file_list_ = [folder_ + file_ for file_ in os.listdir(folder_)]\n",
    "\n",
    "# Training dataset\n",
    "torch_training_dataset = lanfactory.trainers.DatasetTorch(file_IDs = file_list_,\n",
    "                                                          batch_size = 128)\n",
    "\n",
    "torch_training_dataloader = torch.utils.data.DataLoader(torch_training_dataset,\n",
    "                                                         shuffle = True,\n",
    "                                                         batch_size = None,\n",
    "                                                         num_workers = 1,\n",
    "                                                         pin_memory = True)\n",
    "\n",
    "# Validation dataset\n",
    "torch_validation_dataset = lanfactory.trainers.DatasetTorch(file_IDs = file_list_,\n",
    "                                                          batch_size = 128)\n",
    "\n",
    "torch_validation_dataloader = torch.utils.data.DataLoader(torch_validation_dataset,\n",
    "                                                          shuffle = True,\n",
    "                                                          batch_size = None,\n",
    "                                                          num_workers = 1,\n",
    "                                                          pin_memory = True)"
   ]
  },
  {
   "cell_type": "markdown",
   "metadata": {},
   "source": [
    "Now we define two configuration dictionariers,\n",
    "\n",
    "1. The `network_config` dictionary defines the architecture and properties of the network\n",
    "2. The `train_config` dictionary defines properties concerning training hyperparameters\n",
    "\n",
    "Two examples (which we take as provided by the package, but which you can adjust according to your needs) are provided below."
   ]
  },
  {
   "cell_type": "code",
   "execution_count": 5,
   "metadata": {},
   "outputs": [
    {
     "name": "stdout",
     "output_type": "stream",
     "text": [
      "Network config: \n",
      "{'layer_types': ['dense', 'dense', 'dense'], 'layer_sizes': [100, 100, 1], 'activations': ['tanh', 'tanh', 'linear'], 'loss': ['huber'], 'callbacks': ['checkpoint', 'earlystopping', 'reducelr']}\n",
      "Train config: \n",
      "{'batch_size': 128, 'n_epochs': 10, 'optimizer': 'adam', 'learning_rate': 0.002, 'loss': 'huber', 'save_history': True, 'metrics': [<keras.losses.MeanSquaredError object at 0x12c403d30>, <keras.losses.Huber object at 0x12c1c78e0>], 'callbacks': ['checkpoint', 'earlystopping', 'reducelr']}\n"
     ]
    }
   ],
   "source": [
    "# SPECIFY NETWORK CONFIGS AND TRAINING CONFIGS\n",
    "\n",
    "network_config = lanfactory.config.network_configs.network_config_mlp\n",
    "\n",
    "print('Network config: ')\n",
    "print(network_config)\n",
    "\n",
    "train_config = lanfactory.config.network_configs.train_config_mlp\n",
    "\n",
    "print('Train config: ')\n",
    "print(train_config)"
   ]
  },
  {
   "cell_type": "markdown",
   "metadata": {},
   "source": [
    "We can now load a network, and save the configuration files for convenience."
   ]
  },
  {
   "cell_type": "code",
   "execution_count": 6,
   "metadata": {},
   "outputs": [
    {
     "name": "stdout",
     "output_type": "stream",
     "text": [
      "tanh\n",
      "linear\n"
     ]
    }
   ],
   "source": [
    "# LOAD NETWORK\n",
    "net = lanfactory.trainers.TorchMLP(network_config = deepcopy(network_config),\n",
    "                                   input_shape = torch_training_dataset.input_dim,\n",
    "                                   save_folder = '/data/torch_models/',\n",
    "                                   generative_model_id = 'angle')\n",
    "\n",
    "# SAVE CONFIGS\n",
    "lanfactory.utils.save_configs(model_id = net.model_id + '_torch_',\n",
    "                              save_folder = 'data/torch_models/angle/', \n",
    "                              network_config = network_config, \n",
    "                              train_config = train_config, \n",
    "                              allow_abs_path_folder_generation = True)"
   ]
  },
  {
   "cell_type": "markdown",
   "metadata": {},
   "source": [
    "To finally train the network we supply our network, the dataloaders and training config to the `ModelTrainerTorchMLP` class, from `lanfactory.trainers`."
   ]
  },
  {
   "cell_type": "code",
   "execution_count": 9,
   "metadata": {},
   "outputs": [
    {
     "name": "stdout",
     "output_type": "stream",
     "text": [
      "Epoch took 0 / 10,  took 11.54538607597351 seconds\n",
      "epoch 0 / 10, validation_loss: 0.3431\n",
      "Epoch took 1 / 10,  took 13.032279014587402 seconds\n",
      "epoch 1 / 10, validation_loss: 0.2732\n",
      "Epoch took 2 / 10,  took 12.421074867248535 seconds\n",
      "epoch 2 / 10, validation_loss: 0.1941\n",
      "Epoch took 3 / 10,  took 12.097641229629517 seconds\n",
      "epoch 3 / 10, validation_loss: 0.2028\n",
      "Epoch took 4 / 10,  took 12.030233144760132 seconds\n",
      "epoch 4 / 10, validation_loss: 0.184\n",
      "Epoch took 5 / 10,  took 12.695374011993408 seconds\n",
      "epoch 5 / 10, validation_loss: 0.1433\n",
      "Epoch took 6 / 10,  took 12.177874326705933 seconds\n",
      "epoch 6 / 10, validation_loss: 0.1115\n",
      "Epoch took 7 / 10,  took 11.908828258514404 seconds\n",
      "epoch 7 / 10, validation_loss: 0.1084\n",
      "Epoch took 8 / 10,  took 12.066670179367065 seconds\n",
      "epoch 8 / 10, validation_loss: 0.0864\n",
      "Epoch took 9 / 10,  took 12.37562108039856 seconds\n",
      "epoch 9 / 10, validation_loss: 0.07484\n",
      "Saving training history\n",
      "Saving model state dict\n",
      "Training finished successfully...\n"
     ]
    }
   ],
   "source": [
    "# TRAIN MODEL\n",
    "model_trainer.train_model(save_history = True,\n",
    "                          save_model = True,\n",
    "                          verbose = 0)"
   ]
  },
  {
   "cell_type": "markdown",
   "metadata": {},
   "source": [
    "#### Load Model for Inference and Call"
   ]
  },
  {
   "cell_type": "markdown",
   "metadata": {},
   "source": [
    "The `LANfactory` provides some convenience functions to use networks for inference after training. \n",
    "We can load a model using the `LoadTorchMLPInfer` class, which then allows us to run fast inference via either\n",
    "a direct call, which expects a `torch.tensor` as input, or the `predict_on_batch` method, which expects a `numpy.array` \n",
    "of `dtype`, `np.float32`. "
   ]
  },
  {
   "cell_type": "code",
   "execution_count": 10,
   "metadata": {},
   "outputs": [
    {
     "name": "stdout",
     "output_type": "stream",
     "text": [
      "tanh\n",
      "linear\n"
     ]
    }
   ],
   "source": [
    "network_path_list = os.listdir('data/torch_models/angle')\n",
    "network_file_path = ['data/torch_models/angle/' + file_ for file_ in network_path_list if 'state_dict' in file_][0]\n",
    "\n",
    "network = lanfactory.trainers.LoadTorchMLPInfer(model_file_path = network_file_path,\n",
    "                                                network_config = network_config,\n",
    "                                                input_dim = torch_training_dataset.input_dim)"
   ]
  },
  {
   "cell_type": "code",
   "execution_count": 14,
   "metadata": {},
   "outputs": [
    {
     "name": "stdout",
     "output_type": "stream",
     "text": [
      "direct call out:  tensor([-16.4997])\n",
      "predict_on_batch out:  [-16.499687]\n"
     ]
    }
   ],
   "source": [
    "# Two ways to call the network\n",
    "\n",
    "# Direct call --> need tensor input\n",
    "direct_out = network(torch.from_numpy(np.array([1, 1.5, 0.5, 1.0, 0.1, 0.65, 1], dtype  = np.float32)))\n",
    "print('direct call out: ', direct_out)\n",
    "\n",
    "# predict_on_batch method\n",
    "predict_on_batch_out = network.predict_on_batch(np.array([1, 1.5, 0.5, 1.0, 0.1, 0.65, 1], dtype  = np.float32))\n",
    "print('predict_on_batch out: ', predict_on_batch_out)\n"
   ]
  },
  {
   "cell_type": "markdown",
   "metadata": {},
   "source": [
    "#### A peek into the first passage distribution computed by the network\n",
    "\n",
    "We can compare the learned likelihood function in our `network` with simulation data from the underlying generative model.\n",
    "For this purpose we recruit the [`ssms`](https://github.com/AlexanderFengler/ssm_simulators) package again."
   ]
  },
  {
   "cell_type": "code",
   "execution_count": 40,
   "metadata": {},
   "outputs": [],
   "source": [
    "import pandas as pd\n",
    "import matplotlib.pyplot as plt\n",
    "\n",
    "data = pd.DataFrame(np.zeros((2000, 7), dtype = np.float32), columns = ['v', 'a', 'z', 't', 'theta', 'rt', 'choice'])\n",
    "data['v'] = 0.5\n",
    "data['a'] = 0.75\n",
    "data['z'] = 0.5\n",
    "data['t'] = 0.2\n",
    "data['theta'] = 0.1\n",
    "data['rt'].iloc[:1000] = np.linspace(5, 0, 1000)\n",
    "data['rt'].iloc[1000:] = np.linspace(0, 5, 1000)\n",
    "data['choice'].iloc[:1000] = -1\n",
    "data['choice'].iloc[1000:] = 1\n",
    "\n",
    "# Network predictions\n",
    "predict_on_batch_out = network.predict_on_batch(data.values.astype(np.float32))\n",
    "\n",
    "# Simulations\n",
    "from ssms.basic_simulators import simulator\n",
    "sim_out = simulator(model = 'angle', \n",
    "                    theta = data.values[0, :-2],\n",
    "                    n_samples = 2000)"
   ]
  },
  {
   "cell_type": "code",
   "execution_count": 56,
   "metadata": {},
   "outputs": [
    {
     "data": {
      "text/plain": [
       "Text(0, 0.5, 'likelihod')"
      ]
     },
     "execution_count": 56,
     "metadata": {},
     "output_type": "execute_result"
    },
    {
     "data": {
      "image/png": "[encoded data removed]",
      "text/plain": [
       "<Figure size 432x288 with 1 Axes>"
      ]
     },
     "metadata": {
      "needs_background": "light"
     },
     "output_type": "display_data"
    }
   ],
   "source": [
    "# Plot network predictions\n",
    "plt.plot(data['rt'] * data['choice'], np.exp(predict_on_batch_out), color = 'black', label = 'network')\n",
    "\n",
    "# Plot simulations\n",
    "plt.hist(sim_out['rts'] * sim_out['choices'], bins = 30, histtype = 'step', label = 'simulations', color = 'blue', density  = True)\n",
    "plt.legend()\n",
    "plt.title('SSM likelihood')\n",
    "plt.xlabel('rt')\n",
    "plt.ylabel('likelihod')"
   ]
  },
  {
   "cell_type": "markdown",
   "metadata": {},
   "source": [
    "We hope this package may be helpful in case you attempt to train [LANs](https://elifesciences.org/articles/65074) for your own research."
   ]
  },
  {
   "cell_type": "markdown",
   "metadata": {},
   "source": [
    "#### END"
   ]
  }
 ],
 "metadata": {
  "kernelspec": {
   "display_name": "Python 3.8.10 ('cssm')",
   "language": "python",
   "name": "python3"
  },
  "language_info": {
   "codemirror_mode": {
    "name": "ipython",
    "version": 3
   },
   "file_extension": ".py",
   "mimetype": "text/x-python",
   "name": "python",
   "nbconvert_exporter": "python",
   "pygments_lexer": "ipython3",
   "version": "3.8.10 (default, May 19 2021, 11:01:55) \n[Clang 10.0.0 ]"
  },
  "orig_nbformat": 4,
  "vscode": {
   "interpreter": {
    "hash": "c2404e761a8d4e2a34f63613cf4c9a9997cd3109cabb959a7904b2035989131a"
   }
  }
 },
 "nbformat": 4,
 "nbformat_minor": 2
}
