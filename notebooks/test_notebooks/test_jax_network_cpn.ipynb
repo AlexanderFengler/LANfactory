{
 "cells": [
  {
   "cell_type": "code",
   "execution_count": 48,
   "metadata": {},
   "outputs": [],
   "source": [
    "import ssms\n",
    "import lanfactory\n",
    "import os\n",
    "import numpy as np\n",
    "from copy import deepcopy\n",
    "import torch"
   ]
  },
  {
   "cell_type": "code",
   "execution_count": 49,
   "metadata": {},
   "outputs": [],
   "source": [
    "MODEL = \"ddm\"\n",
    "RUN_SIMS = False\n",
    "DEVICE = \"cpu\""
   ]
  },
  {
   "cell_type": "code",
   "execution_count": 50,
   "metadata": {},
   "outputs": [],
   "source": [
    "# Initialize the generator config (for MLP LANs)\n",
    "generator_config = deepcopy(ssms.config.data_generator_config[\"lan\"])\n",
    "# Specify generative model (one from the list of included models mentioned above)\n",
    "generator_config[\"model\"] = MODEL\n",
    "# Specify number of parameter sets to simulate\n",
    "generator_config[\"n_parameter_sets\"] = 256\n",
    "# Specify how many samples a simulation run should entail\n",
    "generator_config[\"n_samples\"] = 2000\n",
    "# Specify folder in which to save generated data\n",
    "generator_config[\"output_folder\"] = \"data/lan_mlp/\"\n",
    "\n",
    "# Make model config dict\n",
    "model_config = ssms.config.model_config[MODEL]"
   ]
  },
  {
   "cell_type": "code",
   "execution_count": 46,
   "metadata": {},
   "outputs": [
    {
     "data": {
      "text/plain": [
       "{'name': 'ddm',\n",
       " 'params': ['v', 'a', 'z', 't'],\n",
       " 'param_bounds': [[-3.0, 0.3, 0.1, 0.0], [3.0, 2.5, 0.9, 2.0]],\n",
       " 'boundary_name': 'constant',\n",
       " 'boundary': <function ssms.basic_simulators.boundary_functions.constant(t=0)>,\n",
       " 'boundary_params': [],\n",
       " 'n_params': 4,\n",
       " 'default_params': [0.0, 1.0, 0.5, 0.001],\n",
       " 'nchoices': 2,\n",
       " 'simulator': <cyfunction ddm_flexbound at 0x11aa37100>}"
      ]
     },
     "execution_count": 46,
     "metadata": {},
     "output_type": "execute_result"
    }
   ],
   "source": [
    "model_config"
   ]
  },
  {
   "cell_type": "code",
   "execution_count": 47,
   "metadata": {},
   "outputs": [
    {
     "ename": "KeyError",
     "evalue": "'dgp_list'",
     "output_type": "error",
     "traceback": [
      "\u001b[0;31m---------------------------------------------------------------------------\u001b[0m",
      "\u001b[0;31mKeyError\u001b[0m                                  Traceback (most recent call last)",
      "\u001b[1;32m/Users/afengler/Library/CloudStorage/OneDrive-Personal/project_lanfactory/LANfactory/notebooks/test_notebooks/test_jax_network_cpn.ipynb Cell 5\u001b[0m line \u001b[0;36m3\n\u001b[1;32m      <a href='vscode-notebook-cell:/Users/afengler/Library/CloudStorage/OneDrive-Personal/project_lanfactory/LANfactory/notebooks/test_notebooks/test_jax_network_cpn.ipynb#W4sZmlsZQ%3D%3D?line=0'>1</a>\u001b[0m generator_config[\u001b[39m\"\u001b[39m\u001b[39moutput_folder\u001b[39m\u001b[39m\"\u001b[39m] \u001b[39m=\u001b[39m (\n\u001b[1;32m      <a href='vscode-notebook-cell:/Users/afengler/Library/CloudStorage/OneDrive-Personal/project_lanfactory/LANfactory/notebooks/test_notebooks/test_jax_network_cpn.ipynb#W4sZmlsZQ%3D%3D?line=1'>2</a>\u001b[0m     \u001b[39m\"\u001b[39m\u001b[39mdata/lan_mlp/\u001b[39m\u001b[39m\"\u001b[39m\n\u001b[0;32m----> <a href='vscode-notebook-cell:/Users/afengler/Library/CloudStorage/OneDrive-Personal/project_lanfactory/LANfactory/notebooks/test_notebooks/test_jax_network_cpn.ipynb#W4sZmlsZQ%3D%3D?line=2'>3</a>\u001b[0m     \u001b[39m+\u001b[39m generator_config[\u001b[39m\"\u001b[39;49m\u001b[39mdgp_list\u001b[39;49m\u001b[39m\"\u001b[39;49m]\n\u001b[1;32m      <a href='vscode-notebook-cell:/Users/afengler/Library/CloudStorage/OneDrive-Personal/project_lanfactory/LANfactory/notebooks/test_notebooks/test_jax_network_cpn.ipynb#W4sZmlsZQ%3D%3D?line=3'>4</a>\u001b[0m     \u001b[39m+\u001b[39m \u001b[39m\"\u001b[39m\u001b[39m/\u001b[39m\u001b[39m\"\u001b[39m\n\u001b[1;32m      <a href='vscode-notebook-cell:/Users/afengler/Library/CloudStorage/OneDrive-Personal/project_lanfactory/LANfactory/notebooks/test_notebooks/test_jax_network_cpn.ipynb#W4sZmlsZQ%3D%3D?line=4'>5</a>\u001b[0m     \u001b[39m+\u001b[39m \u001b[39mstr\u001b[39m(generator_config[\u001b[39m\"\u001b[39m\u001b[39mn_samples\u001b[39m\u001b[39m\"\u001b[39m])\n\u001b[1;32m      <a href='vscode-notebook-cell:/Users/afengler/Library/CloudStorage/OneDrive-Personal/project_lanfactory/LANfactory/notebooks/test_notebooks/test_jax_network_cpn.ipynb#W4sZmlsZQ%3D%3D?line=5'>6</a>\u001b[0m     \u001b[39m+\u001b[39m \u001b[39m\"\u001b[39m\u001b[39m_\u001b[39m\u001b[39m\"\u001b[39m\n\u001b[1;32m      <a href='vscode-notebook-cell:/Users/afengler/Library/CloudStorage/OneDrive-Personal/project_lanfactory/LANfactory/notebooks/test_notebooks/test_jax_network_cpn.ipynb#W4sZmlsZQ%3D%3D?line=6'>7</a>\u001b[0m     \u001b[39m+\u001b[39m \u001b[39mstr\u001b[39m(generator_config[\u001b[39m\"\u001b[39m\u001b[39mn_training_samples_by_parameter_set\u001b[39m\u001b[39m\"\u001b[39m])\n\u001b[1;32m      <a href='vscode-notebook-cell:/Users/afengler/Library/CloudStorage/OneDrive-Personal/project_lanfactory/LANfactory/notebooks/test_notebooks/test_jax_network_cpn.ipynb#W4sZmlsZQ%3D%3D?line=7'>8</a>\u001b[0m     \u001b[39m+\u001b[39m \u001b[39m\"\u001b[39m\u001b[39m/\u001b[39m\u001b[39m\"\u001b[39m\n\u001b[1;32m      <a href='vscode-notebook-cell:/Users/afengler/Library/CloudStorage/OneDrive-Personal/project_lanfactory/LANfactory/notebooks/test_notebooks/test_jax_network_cpn.ipynb#W4sZmlsZQ%3D%3D?line=8'>9</a>\u001b[0m )\n",
      "\u001b[0;31mKeyError\u001b[0m: 'dgp_list'"
     ]
    }
   ],
   "source": [
    "generator_config[\"output_folder\"] = (\n",
    "    \"data/lan_mlp/\"\n",
    "    + generator_config[\"dgp_list\"]\n",
    "    + \"/\"\n",
    "    + str(generator_config[\"n_samples\"])\n",
    "    + \"_\"\n",
    "    + str(generator_config[\"n_training_samples_by_parameter_set\"])\n",
    "    + \"/\"\n",
    ")"
   ]
  },
  {
   "cell_type": "code",
   "execution_count": null,
   "metadata": {},
   "outputs": [],
   "source": [
    "if RUN_SIMS:\n",
    "    n_datafiles = 20\n",
    "    for i in range(n_datafiles):\n",
    "        print(\"Datafile: \", i)\n",
    "        my_dataset_generator = ssms.dataset_generators.lan_mlp.data_generator(\n",
    "            generator_config=generator_config, model_config=model_config\n",
    "        )\n",
    "        training_data = my_dataset_generator.generate_data_training_uniform(save=True)"
   ]
  },
  {
   "cell_type": "code",
   "execution_count": 51,
   "metadata": {},
   "outputs": [],
   "source": [
    "import pickle\n",
    "\n",
    "folder_ = \"../data/lan_mlp/\" + MODEL + \"/\"\n",
    "files_ = [folder_ + file_ for file_ in os.listdir(folder_)]\n",
    "\n",
    "my_data = pickle.load(\n",
    "    open(\n",
    "        files_[0],\n",
    "        \"rb\",\n",
    "    )\n",
    ")"
   ]
  },
  {
   "cell_type": "code",
   "execution_count": 52,
   "metadata": {},
   "outputs": [
    {
     "name": "stdout",
     "output_type": "stream",
     "text": [
      "Network config: \n",
      "{'layer_sizes': [100, 100, 100, 1], 'activations': ['tanh', 'tanh', 'tanh', 'linear'], 'train_output_type': 'logprob'}\n",
      "Train config: \n",
      "{'cpu_batch_size': 128, 'gpu_batch_size': 256, 'n_epochs': 5, 'optimizer': 'adam', 'learning_rate': 0.002, 'lr_scheduler': 'reduce_on_plateau', 'lr_scheduler_params': {}, 'weight_decay': 0.0, 'loss': 'huber', 'save_history': True}\n"
     ]
    }
   ],
   "source": [
    "network_config = deepcopy(lanfactory.config.network_configs.network_config_mlp)\n",
    "network_config[\"layer_sizes\"] = [100, 100, 100, 1]\n",
    "network_config[\"activations\"] = [\"tanh\", \"tanh\", \"tanh\", \"linear\"]\n",
    "\n",
    "print(\"Network config: \")\n",
    "print(network_config)\n",
    "\n",
    "train_config = deepcopy(lanfactory.config.network_configs.train_config_mlp)\n",
    "\n",
    "print(\"Train config: \")\n",
    "print(train_config)"
   ]
  },
  {
   "cell_type": "code",
   "execution_count": 53,
   "metadata": {},
   "outputs": [],
   "source": [
    "network_config[\"train_output_type\"] = \"logits\"\n",
    "\n",
    "\n",
    "train_config[\"loss\"] = \"bcelogit\"\n",
    "train_config[\"cpu_batch_size\"] = 1024\n",
    "train_config[\"gpu_batch_size\"] = 1024\n",
    "train_config[\"n_epochs\"] = 10"
   ]
  },
  {
   "cell_type": "code",
   "execution_count": 54,
   "metadata": {},
   "outputs": [],
   "source": [
    "folder_ = \"../data/lan_mlp/\" + MODEL + \"/\"\n",
    "file_list_ = [folder_ + file_ for file_ in os.listdir(folder_)]\n",
    "\n",
    "# Training dataset\n",
    "jax_training_dataset = lanfactory.trainers.DatasetTorch(\n",
    "    file_ids=file_list_,\n",
    "    batch_size=(\n",
    "        train_config[DEVICE + \"_batch_size\"]\n",
    "        if torch.cuda.is_available()\n",
    "        else train_config[DEVICE + \"_batch_size\"]\n",
    "    ),\n",
    "    label_lower_bound=np.log(1e-10),\n",
    "    features_key=\"cpn_data\",\n",
    "    label_key=\"cpn_labels\",\n",
    "    out_framework=\"jax\",\n",
    ")\n",
    "\n",
    "jax_training_dataloader = torch.utils.data.DataLoader(\n",
    "    jax_training_dataset, shuffle=True, batch_size=None, num_workers=1, pin_memory=True\n",
    ")\n",
    "\n",
    "# Validation dataset\n",
    "jax_validation_dataset = lanfactory.trainers.DatasetTorch(\n",
    "    file_ids=file_list_,\n",
    "    batch_size=(\n",
    "        train_config[DEVICE + \"_batch_size\"]\n",
    "        if torch.cuda.is_available()\n",
    "        else train_config[DEVICE + \"_batch_size\"]\n",
    "    ),\n",
    "    label_lower_bound=np.log(1e-10),\n",
    "    features_key=\"cpn_data\",\n",
    "    label_key=\"cpn_labels\",\n",
    "    out_framework=\"jax\",\n",
    ")\n",
    "\n",
    "jax_validation_dataloader = torch.utils.data.DataLoader(\n",
    "    jax_validation_dataset,\n",
    "    shuffle=True,\n",
    "    batch_size=None,\n",
    "    num_workers=1,\n",
    "    pin_memory=True,\n",
    ")"
   ]
  },
  {
   "cell_type": "code",
   "execution_count": 55,
   "metadata": {},
   "outputs": [
    {
     "name": "stdout",
     "output_type": "stream",
     "text": [
      "tensor([[ 0.0230,  0.8928,  0.2771,  1.8274],\n",
      "        [ 0.0773,  1.1757,  0.1404,  0.9382],\n",
      "        [-0.8907,  2.2692,  0.7324,  1.0069],\n",
      "        ...,\n",
      "        [-1.3451,  1.1634,  0.6648,  1.9732],\n",
      "        [ 2.5755,  0.7371,  0.6242,  0.0403],\n",
      "        [-1.3828,  1.4075,  0.5868,  1.0250]])\n",
      "tensor([[0.7155],\n",
      "        [0.8210],\n",
      "        [0.8890],\n",
      "        ...,\n",
      "        [0.8740],\n",
      "        [0.0070],\n",
      "        [0.9635]])\n",
      "tensor([[-2.1197,  1.4374,  0.8743,  1.9186],\n",
      "        [-1.6401,  2.4682,  0.8981,  0.8245],\n",
      "        [-2.2833,  0.9635,  0.2890,  1.5146],\n",
      "        ...,\n",
      "        [-2.2025,  0.7549,  0.2196,  0.9994],\n",
      "        [-2.9090,  1.2080,  0.8279,  0.4686],\n",
      "        [-1.4978,  0.4554,  0.1142,  1.9158]])\n",
      "tensor([[0.8000],\n",
      "        [0.8315],\n",
      "        [0.9985],\n",
      "        ...,\n",
      "        [0.9965],\n",
      "        [0.9270],\n",
      "        [0.9765]])\n",
      "tensor([[ 0.4716,  0.4065,  0.7690,  1.8287],\n",
      "        [ 0.8742,  0.9753,  0.1557,  0.0602],\n",
      "        [-1.0113,  0.6423,  0.4338,  1.5325],\n",
      "        ...,\n",
      "        [-0.7304,  0.6087,  0.6846,  1.6364],\n",
      "        [-0.1057,  0.8700,  0.3594,  0.7324],\n",
      "        [-0.9033,  2.1455,  0.4029,  1.1604]])\n",
      "tensor([[0.1710],\n",
      "        [0.5740],\n",
      "        [0.8555],\n",
      "        ...,\n",
      "        [0.5320],\n",
      "        [0.6810],\n",
      "        [0.9875]])\n",
      "tensor([[ 0.3448,  0.6420,  0.6593,  1.1213],\n",
      "        [-2.1827,  0.3602,  0.7042,  1.2803],\n",
      "        [-0.9700,  1.0939,  0.1077,  1.7086],\n",
      "        ...,\n",
      "        [ 0.4895,  0.8776,  0.6395,  1.5455],\n",
      "        [-1.2850,  1.2958,  0.1047,  0.2472],\n",
      "        [-2.6124,  0.5931,  0.7063,  0.0635]])\n",
      "tensor([[0.2680],\n",
      "        [0.6730],\n",
      "        [0.9940],\n",
      "        ...,\n",
      "        [0.1925],\n",
      "        [0.9990],\n",
      "        [0.8390]])\n",
      "tensor([[ 0.3448,  0.6420,  0.6593,  1.1213],\n",
      "        [-2.1827,  0.3602,  0.7042,  1.2803],\n",
      "        [-0.9700,  1.0939,  0.1077,  1.7086],\n",
      "        ...,\n",
      "        [ 0.4895,  0.8776,  0.6395,  1.5455],\n",
      "        [-1.2850,  1.2958,  0.1047,  0.2472],\n",
      "        [-2.6124,  0.5931,  0.7063,  0.0635]])\n",
      "tensor([[0.2680],\n",
      "        [0.6730],\n",
      "        [0.9940],\n",
      "        ...,\n",
      "        [0.1925],\n",
      "        [0.9990],\n",
      "        [0.8390]])\n",
      "tensor([[-2.7455,  0.4938,  0.2208,  0.6867],\n",
      "        [ 0.4126,  1.7031,  0.6554,  1.3090],\n",
      "        [-1.6596,  0.4897,  0.3812,  0.0976],\n",
      "        ...,\n",
      "        [ 1.8655,  0.9064,  0.6965,  1.2548],\n",
      "        [ 2.9318,  0.7008,  0.2329,  0.3484],\n",
      "        [ 2.6446,  0.6313,  0.5637,  1.0006]])\n",
      "tensor([[0.9925],\n",
      "        [0.1055],\n",
      "        [0.9030],\n",
      "        ...,\n",
      "        [0.0050],\n",
      "        [0.1375],\n",
      "        [0.0195]])\n",
      "tensor([[ 2.7574,  1.3463,  0.3169,  1.0711],\n",
      "        [ 2.6068,  1.4262,  0.2526,  1.0733],\n",
      "        [ 0.2186,  0.4270,  0.1091,  0.9134],\n",
      "        ...,\n",
      "        [-0.6603,  1.1238,  0.5937,  1.0083],\n",
      "        [ 1.1378,  0.3621,  0.5986,  1.9335],\n",
      "        [ 0.3604,  0.3021,  0.5881,  1.0940]])\n",
      "tensor([[0.0080],\n",
      "        [0.0265],\n",
      "        [0.8475],\n",
      "        ...,\n",
      "        [0.7355],\n",
      "        [0.2260],\n",
      "        [0.3620]])\n",
      "tensor([[ 1.7703,  0.5412,  0.3040,  0.5476],\n",
      "        [-1.0968,  0.6122,  0.5794,  0.7160],\n",
      "        [ 0.7944,  2.1391,  0.2862,  0.0507],\n",
      "        ...,\n",
      "        [-2.2702,  1.8492,  0.8818,  1.1966],\n",
      "        [ 1.9210,  0.4205,  0.6835,  0.1054],\n",
      "        [ 0.7131,  2.4640,  0.7410,  1.8090]])\n",
      "tensor([[0.2630],\n",
      "        [0.7235],\n",
      "        [0.1395],\n",
      "        ...,\n",
      "        [0.8700],\n",
      "        [0.0705],\n",
      "        [0.0045]])\n",
      "tensor([[-2.7455,  0.4938,  0.2208,  0.6867],\n",
      "        [ 0.4126,  1.7031,  0.6554,  1.3090],\n",
      "        [-1.6596,  0.4897,  0.3812,  0.0976],\n",
      "        ...,\n",
      "        [ 1.8655,  0.9064,  0.6965,  1.2548],\n",
      "        [ 2.9318,  0.7008,  0.2329,  0.3484],\n",
      "        [ 2.6446,  0.6313,  0.5637,  1.0006]])\n",
      "tensor([[0.9925],\n",
      "        [0.1055],\n",
      "        [0.9030],\n",
      "        ...,\n",
      "        [0.0050],\n",
      "        [0.1375],\n",
      "        [0.0195]])\n",
      "tensor([[-0.9363,  2.0375,  0.6647,  0.8784],\n",
      "        [ 2.1768,  2.0689,  0.2002,  0.0957],\n",
      "        [ 2.2178,  1.0256,  0.8118,  1.7531],\n",
      "        ...,\n",
      "        [ 1.8106,  0.5004,  0.5103,  1.1521],\n",
      "        [-0.1882,  0.4675,  0.4198,  0.2818],\n",
      "        [ 1.7692,  1.6076,  0.4338,  0.7863]])\n",
      "tensor([[0.9210],\n",
      "        [0.0285],\n",
      "        [0.0010],\n",
      "        ...,\n",
      "        [0.1255],\n",
      "        [0.6285],\n",
      "        [0.0060]])\n",
      "tensor([[-2.1197,  1.4374,  0.8743,  1.9186],\n",
      "        [-1.6401,  2.4682,  0.8981,  0.8245],\n",
      "        [-2.2833,  0.9635,  0.2890,  1.5146],\n",
      "        ...,\n",
      "        [-2.2025,  0.7549,  0.2196,  0.9994],\n",
      "        [-2.9090,  1.2080,  0.8279,  0.4686],\n",
      "        [-1.4978,  0.4554,  0.1142,  1.9158]])\n",
      "tensor([[0.8000],\n",
      "        [0.8315],\n",
      "        [0.9985],\n",
      "        ...,\n",
      "        [0.9965],\n",
      "        [0.9270],\n",
      "        [0.9765]])\n"
     ]
    }
   ],
   "source": [
    "cnt = 0\n",
    "for xb, yb in jax_training_dataloader:\n",
    "    print(xb)\n",
    "    print(yb)\n",
    "    cnt += 1\n",
    "    if cnt > 10:\n",
    "        break"
   ]
  },
  {
   "cell_type": "code",
   "execution_count": 57,
   "metadata": {},
   "outputs": [],
   "source": [
    "# LOAD NETWORK\n",
    "jax_net = lanfactory.trainers.MLPJaxFactory(network_config=network_config, train=True)\n",
    "pickle.dump(\n",
    "    network_config,\n",
    "    open(\n",
    "        \"../data/jax_models/\" + MODEL + \"/\" + MODEL + \"_jax_cpn_network_config.pickle\",\n",
    "        \"wb\",\n",
    "    ),\n",
    ")"
   ]
  },
  {
   "cell_type": "code",
   "execution_count": 58,
   "metadata": {},
   "outputs": [],
   "source": [
    "jax_trainer = lanfactory.trainers.ModelTrainerJaxMLP(\n",
    "    train_config=train_config,\n",
    "    model=jax_net,\n",
    "    train_dl=jax_training_dataloader,\n",
    "    valid_dl=jax_validation_dataloader,\n",
    "    pin_memory=True,\n",
    ")"
   ]
  },
  {
   "cell_type": "code",
   "execution_count": 59,
   "metadata": {},
   "outputs": [
    {
     "name": "stdout",
     "output_type": "stream",
     "text": [
      "Found folder:  ..\n",
      "Moving on...\n",
      "Found folder:  ../data\n",
      "Moving on...\n",
      "Found folder:  ../data/jax_models\n",
      "Moving on...\n",
      "Found folder:  ../data/jax_models/ddm\n",
      "Moving on...\n",
      "Epoch: 0 of 10\n",
      "Training - Step: 0 of 225 - Loss: 0.60183203\n",
      "Epoch 0/10 time: 10.109797954559326s\n",
      "Validation - Step: 0 of 225 - Loss: 0.3189134\n",
      "Epoch 0/10 time: 8.907364130020142s\n",
      "Epoch: 0 / 10, test_loss: 0.32131388783454895\n",
      "Epoch: 1 of 10\n",
      "Training - Step: 0 of 225 - Loss: 0.33258647\n",
      "Epoch 1/10 time: 9.075368881225586s\n",
      "Validation - Step: 0 of 225 - Loss: 0.31904417\n",
      "Epoch 1/10 time: 9.757975101470947s\n",
      "Epoch: 1 / 10, test_loss: 0.3192121684551239\n",
      "Epoch: 2 of 10\n",
      "Training - Step: 0 of 225 - Loss: 0.30525112\n",
      "Epoch 2/10 time: 8.732094049453735s\n",
      "Validation - Step: 0 of 225 - Loss: 0.3184372\n",
      "Epoch 2/10 time: 8.733233213424683s\n",
      "Epoch: 2 / 10, test_loss: 0.32003405690193176\n",
      "Epoch: 3 of 10\n",
      "Training - Step: 0 of 225 - Loss: 0.31566334\n",
      "Epoch 3/10 time: 8.568460702896118s\n",
      "Validation - Step: 0 of 225 - Loss: 0.3370237\n",
      "Epoch 3/10 time: 8.894043684005737s\n",
      "Epoch: 3 / 10, test_loss: 0.3194853961467743\n",
      "Epoch: 4 of 10\n",
      "Training - Step: 0 of 225 - Loss: 0.33415258\n",
      "Epoch 4/10 time: 8.90596604347229s\n",
      "Validation - Step: 0 of 225 - Loss: 0.31501514\n",
      "Epoch 4/10 time: 8.612452030181885s\n",
      "Epoch: 4 / 10, test_loss: 0.32039299607276917\n",
      "Epoch: 5 of 10\n",
      "Training - Step: 0 of 225 - Loss: 0.32927763\n",
      "Epoch 5/10 time: 9.014395952224731s\n",
      "Validation - Step: 0 of 225 - Loss: 0.31545284\n",
      "Epoch 5/10 time: 8.384047985076904s\n",
      "Epoch: 5 / 10, test_loss: 0.31847500801086426\n",
      "Epoch: 6 of 10\n",
      "Training - Step: 0 of 225 - Loss: 0.32268035\n",
      "Epoch 6/10 time: 8.719941139221191s\n",
      "Validation - Step: 0 of 225 - Loss: 0.32181156\n",
      "Epoch 6/10 time: 8.926185131072998s\n",
      "Epoch: 6 / 10, test_loss: 0.3206397294998169\n",
      "Epoch: 7 of 10\n",
      "Training - Step: 0 of 225 - Loss: 0.32026663\n",
      "Epoch 7/10 time: 9.069537878036499s\n",
      "Validation - Step: 0 of 225 - Loss: 0.32707316\n",
      "Epoch 7/10 time: 8.787101030349731s\n",
      "Epoch: 7 / 10, test_loss: 0.31883081793785095\n",
      "Epoch: 8 of 10\n",
      "Training - Step: 0 of 225 - Loss: 0.31532332\n",
      "Epoch 8/10 time: 8.644514083862305s\n",
      "Validation - Step: 0 of 225 - Loss: 0.32468107\n",
      "Epoch 8/10 time: 8.748849153518677s\n",
      "Epoch: 8 / 10, test_loss: 0.31939005851745605\n",
      "Epoch: 9 of 10\n",
      "Training - Step: 0 of 225 - Loss: 0.32577628\n",
      "Epoch 9/10 time: 8.57486081123352s\n",
      "Validation - Step: 0 of 225 - Loss: 0.32779425\n",
      "Epoch 9/10 time: 8.792699813842773s\n",
      "Epoch: 9 / 10, test_loss: 0.3195500373840332\n",
      "Saving training history to: ../data/jax_models/ddm//test_cpn_cpn_ddm__jax_training_history.csv\n",
      "Saving model parameters to: ../data/jax_models/ddm//test_cpn_cpn_ddm__train_state.jax\n",
      "Saving training config to: ../data/jax_models/ddm//test_cpn_cpn_ddm__train_config.pickle\n",
      "Saving training data details to: ../data/jax_models/ddm//test_cpn_cpn_ddm__data_details.pickle\n"
     ]
    }
   ],
   "source": [
    "train_state = jax_trainer.train_and_evaluate(\n",
    "    output_folder=\"../data/jax_models/\" + MODEL + \"/\",\n",
    "    output_file_id=MODEL,\n",
    "    run_id=\"test_cpn\",\n",
    "    wandb_on=False,\n",
    "    wandb_project_id=\"test_cpn\",\n",
    "    save_data_details=True,\n",
    "    verbose=1,\n",
    "    save_all=True,\n",
    ")"
   ]
  },
  {
   "cell_type": "code",
   "execution_count": null,
   "metadata": {},
   "outputs": [
    {
     "name": "stdout",
     "output_type": "stream",
     "text": [
      "{'layer_sizes': [100, 100, 1], 'activations': ['tanh', 'tanh', 'linear'], 'train_output_type': 'logits'}\n"
     ]
    }
   ],
   "source": [
    "print(network_config)"
   ]
  },
  {
   "cell_type": "code",
   "execution_count": 60,
   "metadata": {},
   "outputs": [],
   "source": [
    "# Loaded Net\n",
    "jax_infer = lanfactory.trainers.MLPJaxFactory(\n",
    "    network_config=network_config,\n",
    "    train=False,\n",
    ")"
   ]
  },
  {
   "cell_type": "code",
   "execution_count": 62,
   "metadata": {},
   "outputs": [
    {
     "name": "stdout",
     "output_type": "stream",
     "text": [
      "passing through transform\n"
     ]
    }
   ],
   "source": [
    "my_state = jax_infer.load_state_from_file(\n",
    "    file_path=\"../data/jax_models/\" + MODEL + \"/test_cpn_cpn_ddm__train_state.jax\"\n",
    ")"
   ]
  },
  {
   "cell_type": "code",
   "execution_count": 65,
   "metadata": {},
   "outputs": [
    {
     "name": "stdout",
     "output_type": "stream",
     "text": [
      "passing through transform\n"
     ]
    }
   ],
   "source": [
    "forward_pass, forward_pass_jitted = jax_infer.make_forward_partial(\n",
    "    seed=42,\n",
    "    input_dim=model_config[\"n_params\"] + 2,\n",
    "    state=\"../data/jax_models/\" + MODEL + \"/test_cpn_cpn_ddm__train_state.jax\",\n",
    "    add_jitted=True,\n",
    ")"
   ]
  },
  {
   "cell_type": "code",
   "execution_count": 78,
   "metadata": {},
   "outputs": [
    {
     "name": "stdout",
     "output_type": "stream",
     "text": [
      "-3.0\n",
      "-2.877551020408163\n",
      "-2.7551020408163267\n",
      "-2.63265306122449\n",
      "-2.510204081632653\n",
      "-2.387755102040816\n",
      "-2.2653061224489797\n",
      "-2.142857142857143\n",
      "-2.020408163265306\n",
      "-1.8979591836734695\n",
      "-1.7755102040816326\n",
      "-1.653061224489796\n",
      "-1.5306122448979593\n",
      "-1.4081632653061225\n",
      "-1.2857142857142858\n",
      "-1.163265306122449\n",
      "-1.0408163265306123\n",
      "-0.9183673469387754\n",
      "-0.795918367346939\n",
      "-0.6734693877551021\n",
      "-0.5510204081632653\n",
      "-0.4285714285714288\n",
      "-0.30612244897959195\n",
      "-0.18367346938775508\n",
      "-0.06122448979591866\n",
      "0.06122448979591821\n",
      "0.18367346938775508\n",
      "0.30612244897959195\n",
      "0.4285714285714284\n",
      "0.5510204081632653\n",
      "0.6734693877551021\n",
      "0.7959183673469385\n",
      "0.9183673469387754\n",
      "1.0408163265306118\n",
      "1.1632653061224492\n",
      "1.2857142857142856\n",
      "1.408163265306122\n",
      "1.5306122448979593\n",
      "1.6530612244897958\n",
      "1.7755102040816322\n",
      "1.8979591836734695\n",
      "2.020408163265306\n",
      "2.1428571428571423\n",
      "2.2653061224489797\n",
      "2.387755102040816\n",
      "2.5102040816326525\n",
      "2.63265306122449\n",
      "2.7551020408163263\n",
      "2.8775510204081627\n",
      "3.0\n"
     ]
    }
   ],
   "source": [
    "import jax.numpy as jnp\n",
    "import numpy as np\n",
    "\n",
    "# Test parameters:\n",
    "v, a, z, t = 0.5, 1.5, 0.5, 0.3\n",
    "v = np.linspace(-3, 3, 50)\n",
    "\n",
    "# Comparison simulator run\n",
    "choice_p_list = []\n",
    "for v_tmp in v:\n",
    "    print(v_tmp)\n",
    "    sim_out = ssms.basic_simulators.simulator.simulator(\n",
    "        model=MODEL, theta=[v_tmp, a, z, t], n_samples=2000\n",
    "    )\n",
    "    choice_p_list.append(\n",
    "        np.sum(sim_out[\"choices\"] == -1.0) / sim_out[\"choices\"].shape[0]\n",
    "    )\n",
    "\n",
    "# Make input matric\n",
    "input_mat = jnp.zeros((50, 4))\n",
    "input_mat = input_mat.at[:, 0].set(jnp.array(v))\n",
    "input_mat = input_mat.at[:, 1].set(jnp.ones(50) * a)\n",
    "input_mat = input_mat.at[:, 2].set(jnp.ones(50) * z)\n",
    "input_mat = input_mat.at[:, 3].set(jnp.ones(50) * t)\n",
    "\n",
    "net_out = forward_pass_jitted(input_mat)"
   ]
  },
  {
   "cell_type": "code",
   "execution_count": 83,
   "metadata": {},
   "outputs": [
    {
     "data": {
      "text/plain": [
       "array([[5.000e-04, 9.995e-01]])"
      ]
     },
     "execution_count": 83,
     "metadata": {},
     "output_type": "execute_result"
    }
   ],
   "source": [
    "sim_out[\"choice_p\"]"
   ]
  },
  {
   "cell_type": "code",
   "execution_count": 82,
   "metadata": {},
   "outputs": [
    {
     "data": {
      "text/plain": [
       "Text(0.5, 0, 'v')"
      ]
     },
     "execution_count": 82,
     "metadata": {},
     "output_type": "execute_result"
    },
    {
     "data": {
      "image/png": "[encoded data removed]",
      "text/plain": [
       "<Figure size 640x480 with 1 Axes>"
      ]
     },
     "metadata": {},
     "output_type": "display_data"
    }
   ],
   "source": [
    "from matplotlib import pyplot as plt\n",
    "\n",
    "plt.plot(input_mat.at[:, 0].set(jnp.array(v))[:, 0], choice_p_list)\n",
    "plt.plot(input_mat.at[:, 0].set(jnp.array(v))[:, 0], np.exp(net_out))\n",
    "plt.xlabel(\"v\")"
   ]
  },
  {
   "cell_type": "code",
   "execution_count": 72,
   "metadata": {},
   "outputs": [
    {
     "data": {
      "text/plain": [
       "array([[9.9949121e-01],\n",
       "       [9.9944276e-01],\n",
       "       [9.9937797e-01],\n",
       "       [9.9928951e-01],\n",
       "       [9.9916565e-01],\n",
       "       [9.9898762e-01],\n",
       "       [9.9872535e-01],\n",
       "       [9.9833125e-01],\n",
       "       [9.9773163e-01],\n",
       "       [9.9681586e-01],\n",
       "       [9.9542737e-01],\n",
       "       [9.9335217e-01],\n",
       "       [9.9030405e-01],\n",
       "       [9.8589939e-01],\n",
       "       [9.7961831e-01],\n",
       "       [9.7075099e-01],\n",
       "       [9.5833552e-01],\n",
       "       [9.4110185e-01],\n",
       "       [9.1743165e-01],\n",
       "       [8.8535011e-01],\n",
       "       [8.4261829e-01],\n",
       "       [7.8712934e-01],\n",
       "       [7.1787149e-01],\n",
       "       [6.3623816e-01],\n",
       "       [5.4648054e-01],\n",
       "       [4.5447949e-01],\n",
       "       [3.6594564e-01],\n",
       "       [2.8543937e-01],\n",
       "       [2.1616854e-01],\n",
       "       [1.5976143e-01],\n",
       "       [1.1601422e-01],\n",
       "       [8.3285108e-02],\n",
       "       [5.9331749e-02],\n",
       "       [4.1968789e-02],\n",
       "       [2.9401984e-02],\n",
       "       [2.0324167e-02],\n",
       "       [1.3843405e-02],\n",
       "       [9.3300734e-03],\n",
       "       [6.2859668e-03],\n",
       "       [4.2913300e-03],\n",
       "       [3.0071924e-03],\n",
       "       [2.1833957e-03],\n",
       "       [1.6502864e-03],\n",
       "       [1.2993332e-03],\n",
       "       [1.0632601e-03],\n",
       "       [9.0079551e-04],\n",
       "       [7.8651094e-04],\n",
       "       [7.0452545e-04],\n",
       "       [6.4473687e-04],\n",
       "       [6.0057559e-04]], dtype=float32)"
      ]
     },
     "execution_count": 72,
     "metadata": {},
     "output_type": "execute_result"
    }
   ],
   "source": [
    "np.exp(net_out)"
   ]
  },
  {
   "cell_type": "code",
   "execution_count": null,
   "metadata": {},
   "outputs": [],
   "source": []
  }
 ],
 "metadata": {
  "kernelspec": {
   "display_name": "ssms_dev",
   "language": "python",
   "name": "python3"
  },
  "language_info": {
   "codemirror_mode": {
    "name": "ipython",
    "version": 3
   },
   "file_extension": ".py",
   "mimetype": "text/x-python",
   "name": "python",
   "nbconvert_exporter": "python",
   "pygments_lexer": "ipython3",
   "version": "3.10.12"
  },
  "orig_nbformat": 4
 },
 "nbformat": 4,
 "nbformat_minor": 2
}
