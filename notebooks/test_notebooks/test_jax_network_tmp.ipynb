{
 "cells": [
  {
   "cell_type": "code",
   "execution_count": 1,
   "metadata": {},
   "outputs": [],
   "source": [
    "import ssms\n",
    "import lanfactory \n",
    "import os\n",
    "import numpy as np\n",
    "from copy import deepcopy\n",
    "import torch"
   ]
  },
  {
   "cell_type": "code",
   "execution_count": 2,
   "metadata": {},
   "outputs": [],
   "source": [
    "MODEL = 'angle'\n",
    "RUN_SIMS = False"
   ]
  },
  {
   "cell_type": "code",
   "execution_count": 3,
   "metadata": {},
   "outputs": [],
   "source": [
    "# Initialize the generator config (for MLP LANs)\n",
    "generator_config = deepcopy(ssms.config.data_generator_config['lan'])\n",
    "# Specify generative model (one from the list of included models mentioned above)\n",
    "generator_config['dgp_list'] = MODEL\n",
    "# Specify number of parameter sets to simulate\n",
    "generator_config['n_parameter_sets'] = 256\n",
    "# Specify how many samples a simulation run should entail\n",
    "generator_config['n_samples'] = 2000\n",
    "# Specify folder in which to save generated data\n",
    "generator_config['output_folder'] = 'data/lan_mlp/'\n",
    "\n",
    "# Make model config dict\n",
    "model_config = ssms.config.model_config[MODEL]"
   ]
  },
  {
   "cell_type": "code",
   "execution_count": 4,
   "metadata": {},
   "outputs": [
    {
     "data": {
      "text/plain": [
       "{'name': 'angle',\n",
       " 'params': ['v', 'a', 'z', 't', 'theta'],\n",
       " 'param_bounds': [[-3.0, 0.3, 0.1, 0.001, -0.1], [3.0, 3.0, 0.9, 2.0, 1.3]],\n",
       " 'boundary': <function ssms.basic_simulators.boundary_functions.angle(t=1, theta=1)>,\n",
       " 'n_params': 5,\n",
       " 'default_params': [0.0, 1.0, 0.5, 0.001, 0.0],\n",
       " 'hddm_include': ['z', 'theta'],\n",
       " 'nchoices': 2}"
      ]
     },
     "execution_count": 4,
     "metadata": {},
     "output_type": "execute_result"
    }
   ],
   "source": [
    "model_config"
   ]
  },
  {
   "cell_type": "code",
   "execution_count": 5,
   "metadata": {},
   "outputs": [],
   "source": [
    "generator_config['output_folder'] = 'data/lan_mlp/' + generator_config['dgp_list'] + '/' + \\\n",
    "                                    str(generator_config['n_samples']) + '_' + \\\n",
    "                                        str(generator_config['n_training_samples_by_parameter_set']) + '/'"
   ]
  },
  {
   "cell_type": "code",
   "execution_count": 6,
   "metadata": {},
   "outputs": [],
   "source": [
    "if RUN_SIMS:\n",
    "    n_datafiles = 20\n",
    "    for i in range(n_datafiles):\n",
    "        print('Datafile: ', i)\n",
    "        my_dataset_generator = ssms.dataset_generators.lan_mlp.data_generator(generator_config = generator_config,\n",
    "                                                                              model_config = model_config)\n",
    "        training_data = my_dataset_generator.generate_data_training_uniform(save = True)"
   ]
  },
  {
   "cell_type": "code",
   "execution_count": 7,
   "metadata": {},
   "outputs": [],
   "source": [
    "import pickle\n",
    "my_data = pickle.load(open('data/lan_mlp/angle/2000_1000/training_data_8d617928653811eebb25a0423f3e9be0.pickle' , 'rb'))"
   ]
  },
  {
   "cell_type": "code",
   "execution_count": 8,
   "metadata": {},
   "outputs": [
    {
     "data": {
      "text/plain": [
       "array([ -1.68907  ,  -1.2301161,  -1.247614 , ..., -66.77497  ,\n",
       "       -66.77497  , -66.77497  ], dtype=float32)"
      ]
     },
     "execution_count": 8,
     "metadata": {},
     "output_type": "execute_result"
    }
   ],
   "source": [
    "my_data['labels']"
   ]
  },
  {
   "cell_type": "code",
   "execution_count": 9,
   "metadata": {},
   "outputs": [
    {
     "name": "stdout",
     "output_type": "stream",
     "text": [
      "Network config: \n",
      "{'layer_sizes': [100, 100, 1], 'activations': ['tanh', 'tanh', 'linear'], 'train_output_type': 'logprob'}\n",
      "Train config: \n",
      "{'cpu_batch_size': 128, 'gpu_batch_size': 256, 'n_epochs': 5, 'optimizer': 'adam', 'learning_rate': 0.002, 'lr_scheduler': 'reduce_on_plateau', 'lr_scheduler_params': {}, 'weight_decay': 0.0, 'loss': 'huber', 'save_history': True}\n"
     ]
    }
   ],
   "source": [
    "network_config = lanfactory.config.network_configs.network_config_mlp\n",
    "\n",
    "print('Network config: ')\n",
    "print(network_config)\n",
    "\n",
    "train_config = lanfactory.config.network_configs.train_config_mlp\n",
    "\n",
    "print('Train config: ')\n",
    "print(train_config)"
   ]
  },
  {
   "cell_type": "code",
   "execution_count": 10,
   "metadata": {},
   "outputs": [],
   "source": [
    "train_config['cpu_batch_size'] = 128\n",
    "train_config['gpu_batch_size'] = 2048\n",
    "train_config['n_epochs'] = 20"
   ]
  },
  {
   "cell_type": "code",
   "execution_count": 11,
   "metadata": {},
   "outputs": [],
   "source": [
    "folder_ = 'data/lan_mlp/' + MODEL + '/2000_1000/'\n",
    "file_list_ = [folder_ + file_ for file_ in os.listdir(folder_)]\n",
    "\n",
    "# Training dataset\n",
    "jax_training_dataset = lanfactory.trainers.DatasetTorch(file_ids = file_list_,\n",
    "                                                          batch_size = train_config['gpu_batch_size'] if \\\n",
    "                                                                            torch.cuda.is_available() else train_config['cpu_batch_size'],\n",
    "                                                          label_lower_bound = np.log(1e-10),\n",
    "                                                          features_key='data',\n",
    "                                                          label_key='labels',\n",
    "                                                          out_framework='jax',\n",
    "                                                          )\n",
    "\n",
    "jax_training_dataloader = torch.utils.data.DataLoader(jax_training_dataset,\n",
    "                                                        shuffle = True,\n",
    "                                                        batch_size = None,\n",
    "                                                        num_workers = 1,\n",
    "                                                        pin_memory = True)\n",
    "\n",
    "# Validation dataset\n",
    "jax_validation_dataset = lanfactory.trainers.DatasetTorch(file_ids = file_list_,\n",
    "                                                            batch_size = train_config['gpu_batch_size'] if \\\n",
    "                                                                            torch.cuda.is_available() else train_config['cpu_batch_size'],\n",
    "                                                            \n",
    "                                                            label_lower_bound = np.log(1e-10),\n",
    "                                                            features_key='data',\n",
    "                                                            label_key='labels',\n",
    "                                                            out_framework='jax',)\n",
    "\n",
    "jax_validation_dataloader = torch.utils.data.DataLoader(jax_validation_dataset,\n",
    "                                                          shuffle = True,\n",
    "                                                          batch_size = None,\n",
    "                                                          num_workers = 1,\n",
    "                                                          pin_memory = True)"
   ]
  },
  {
   "cell_type": "code",
   "execution_count": 12,
   "metadata": {},
   "outputs": [
    {
     "name": "stdout",
     "output_type": "stream",
     "text": [
      "tensor([[ 0.4723,  2.8080,  0.6124,  ...,  1.0561, -0.9777, -1.0000],\n",
      "        [ 0.4704,  2.5968,  0.4627,  ..., -0.0078,  6.5930,  1.0000],\n",
      "        [-1.4165,  0.3726,  0.3885,  ...,  0.6151,  1.3899,  1.0000],\n",
      "        ...,\n",
      "        [ 2.7298,  0.6473,  0.2409,  ...,  0.4128,  2.2906,  1.0000],\n",
      "        [-1.0650,  1.1257,  0.3168,  ...,  1.0982,  2.1769, -1.0000],\n",
      "        [-0.2911,  1.2660,  0.8203,  ...,  0.1788,  5.8098, -1.0000]])\n",
      "tensor([[-23.0259],\n",
      "        [ -2.7120],\n",
      "        [  0.1846],\n",
      "        ...,\n",
      "        [ -0.3429],\n",
      "        [  0.7551],\n",
      "        [ -7.4625]])\n"
     ]
    }
   ],
   "source": [
    "cnt = 0 \n",
    "for xb, yb in jax_training_dataloader:\n",
    "    print(xb)\n",
    "    print(yb)\n",
    "    cnt += 1\n",
    "    if cnt > 0:\n",
    "        break"
   ]
  },
  {
   "cell_type": "code",
   "execution_count": 13,
   "metadata": {},
   "outputs": [],
   "source": [
    "# LOAD NETWORK\n",
    "jax_net = lanfactory.trainers.MLPJaxFactory(network_config = network_config,\n",
    "                                            train = True)\n"
   ]
  },
  {
   "cell_type": "code",
   "execution_count": 14,
   "metadata": {},
   "outputs": [],
   "source": [
    "jax_trainer = lanfactory.trainers.ModelTrainerJaxMLP(train_config=train_config,\n",
    "                   model = jax_net,\n",
    "                   train_dl = jax_training_dataloader,\n",
    "                   valid_dl = jax_validation_dataloader,\n",
    "                   pin_memory = True)"
   ]
  },
  {
   "cell_type": "code",
   "execution_count": 16,
   "metadata": {},
   "outputs": [
    {
     "name": "stdout",
     "output_type": "stream",
     "text": [
      "Found folder:  data\n",
      "Moving on...\n",
      "Found folder:  data/trained_model\n",
      "Moving on...\n",
      "Did not find folder:  data/trained_model/jax\n",
      "Creating it...\n"
     ]
    },
    {
     "name": "stderr",
     "output_type": "stream",
     "text": [
      "Failed to detect the name of this notebook, you can set it manually with the WANDB_NOTEBOOK_NAME environment variable to enable code saving.\n",
      "\u001b[34m\u001b[1mwandb\u001b[0m: Currently logged in as: \u001b[33mafengler\u001b[0m. Use \u001b[1m`wandb login --relogin`\u001b[0m to force relogin\n"
     ]
    },
    {
     "data": {
      "text/html": [
       "Tracking run with wandb version 0.15.12"
      ],
      "text/plain": [
       "<IPython.core.display.HTML object>"
      ]
     },
     "metadata": {},
     "output_type": "display_data"
    },
    {
     "data": {
      "text/html": [
       "Run data is saved locally in <code>/oscar/data/frankmj/afengler/proj_lanfactory/LANfactory/notebooks/test_notebooks/wandb/run-20231007_174156-a8ovx1o9</code>"
      ],
      "text/plain": [
       "<IPython.core.display.HTML object>"
      ]
     },
     "metadata": {},
     "output_type": "display_data"
    },
    {
     "data": {
      "text/html": [
       "Syncing run <strong><a href='https://wandb.ai/afengler/test_run_notebook/runs/a8ovx1o9' target=\"_blank\">wd_0.0_optim_adam_test_run_notebook</a></strong> to <a href='https://wandb.ai/afengler/test_run_notebook' target=\"_blank\">Weights & Biases</a> (<a href='https://wandb.me/run' target=\"_blank\">docs</a>)<br/>"
      ],
      "text/plain": [
       "<IPython.core.display.HTML object>"
      ]
     },
     "metadata": {},
     "output_type": "display_data"
    },
    {
     "data": {
      "text/html": [
       " View project at <a href='https://wandb.ai/afengler/test_run_notebook' target=\"_blank\">https://wandb.ai/afengler/test_run_notebook</a>"
      ],
      "text/plain": [
       "<IPython.core.display.HTML object>"
      ]
     },
     "metadata": {},
     "output_type": "display_data"
    },
    {
     "data": {
      "text/html": [
       " View run at <a href='https://wandb.ai/afengler/test_run_notebook/runs/a8ovx1o9' target=\"_blank\">https://wandb.ai/afengler/test_run_notebook/runs/a8ovx1o9</a>"
      ],
      "text/plain": [
       "<IPython.core.display.HTML object>"
      ]
     },
     "metadata": {},
     "output_type": "display_data"
    },
    {
     "name": "stdout",
     "output_type": "stream",
     "text": [
      "Epoch: 0 of 20\n",
      "Training - Step: 0 of 2440 - Loss: 4.814271\n",
      "Training - Step: 1000 of 2440 - Loss: 0.15132537\n",
      "Training - Step: 2000 of 2440 - Loss: 0.10933632\n",
      "Epoch 0/20 time: 4.711242198944092s\n",
      "Validation - Step: 0 of 2440 - Loss: 0.091268525\n",
      "Validation - Step: 1000 of 2440 - Loss: 0.09796025\n",
      "Validation - Step: 2000 of 2440 - Loss: 0.08871734\n",
      "Epoch 0/20 time: 3.4193437099456787s\n",
      "Epoch: 0 / 20, test_loss: 0.09923399984836578\n",
      "Epoch: 1 of 20\n",
      "Training - Step: 0 of 2440 - Loss: 0.12810232\n",
      "Training - Step: 1000 of 2440 - Loss: 0.06930448\n",
      "Training - Step: 2000 of 2440 - Loss: 0.06441811\n",
      "Epoch 1/20 time: 3.4112942218780518s\n",
      "Validation - Step: 0 of 2440 - Loss: 0.05547302\n",
      "Validation - Step: 1000 of 2440 - Loss: 0.073870346\n",
      "Validation - Step: 2000 of 2440 - Loss: 0.06404884\n",
      "Epoch 1/20 time: 3.155444622039795s\n",
      "Epoch: 1 / 20, test_loss: 0.0665491446852684\n",
      "Epoch: 2 of 20\n",
      "Training - Step: 0 of 2440 - Loss: 0.07638124\n",
      "Training - Step: 1000 of 2440 - Loss: 0.064256534\n",
      "Training - Step: 2000 of 2440 - Loss: 0.045312323\n",
      "Epoch 2/20 time: 3.4340736865997314s\n",
      "Validation - Step: 0 of 2440 - Loss: 0.04497742\n",
      "Validation - Step: 1000 of 2440 - Loss: 0.059310745\n",
      "Validation - Step: 2000 of 2440 - Loss: 0.08367477\n",
      "Epoch 2/20 time: 3.163365364074707s\n",
      "Epoch: 2 / 20, test_loss: 0.0653604120016098\n",
      "Epoch: 3 of 20\n",
      "Training - Step: 0 of 2440 - Loss: 0.06915213\n",
      "Training - Step: 1000 of 2440 - Loss: 0.060489286\n",
      "Training - Step: 2000 of 2440 - Loss: 0.036103733\n",
      "Epoch 3/20 time: 3.4432876110076904s\n",
      "Validation - Step: 0 of 2440 - Loss: 0.05576797\n",
      "Validation - Step: 1000 of 2440 - Loss: 0.05598861\n",
      "Validation - Step: 2000 of 2440 - Loss: 0.06480934\n",
      "Epoch 3/20 time: 3.1617283821105957s\n",
      "Epoch: 3 / 20, test_loss: 0.05575631558895111\n",
      "Epoch: 4 of 20\n",
      "Training - Step: 0 of 2440 - Loss: 0.04767933\n",
      "Training - Step: 1000 of 2440 - Loss: 0.04474604\n",
      "Training - Step: 2000 of 2440 - Loss: 0.047876246\n",
      "Epoch 4/20 time: 3.477924346923828s\n",
      "Validation - Step: 0 of 2440 - Loss: 0.047490507\n",
      "Validation - Step: 1000 of 2440 - Loss: 0.079179555\n",
      "Validation - Step: 2000 of 2440 - Loss: 0.07059411\n",
      "Epoch 4/20 time: 3.235029697418213s\n",
      "Epoch: 4 / 20, test_loss: 0.07687671482563019\n",
      "Epoch: 5 of 20\n",
      "Training - Step: 0 of 2440 - Loss: 0.070396975\n",
      "Training - Step: 1000 of 2440 - Loss: 0.065070674\n",
      "Training - Step: 2000 of 2440 - Loss: 0.038090326\n",
      "Epoch 5/20 time: 3.427980899810791s\n",
      "Validation - Step: 0 of 2440 - Loss: 0.06473258\n",
      "Validation - Step: 1000 of 2440 - Loss: 0.058255494\n",
      "Validation - Step: 2000 of 2440 - Loss: 0.047399335\n",
      "Epoch 5/20 time: 3.218679428100586s\n",
      "Epoch: 5 / 20, test_loss: 0.052231449633836746\n",
      "Epoch: 6 of 20\n",
      "Training - Step: 0 of 2440 - Loss: 0.0649778\n",
      "Training - Step: 1000 of 2440 - Loss: 0.055785805\n",
      "Training - Step: 2000 of 2440 - Loss: 0.027071614\n",
      "Epoch 6/20 time: 3.5062763690948486s\n",
      "Validation - Step: 0 of 2440 - Loss: 0.038705334\n",
      "Validation - Step: 1000 of 2440 - Loss: 0.054791603\n",
      "Validation - Step: 2000 of 2440 - Loss: 0.044608906\n",
      "Epoch 6/20 time: 3.1844935417175293s\n",
      "Epoch: 6 / 20, test_loss: 0.049297627061605453\n",
      "Epoch: 7 of 20\n",
      "Training - Step: 0 of 2440 - Loss: 0.040495016\n",
      "Training - Step: 1000 of 2440 - Loss: 0.04374087\n",
      "Training - Step: 2000 of 2440 - Loss: 0.03416252\n",
      "Epoch 7/20 time: 3.4502055644989014s\n",
      "Validation - Step: 0 of 2440 - Loss: 0.06958442\n",
      "Validation - Step: 1000 of 2440 - Loss: 0.047820568\n",
      "Validation - Step: 2000 of 2440 - Loss: 0.054242734\n",
      "Epoch 7/20 time: 3.225255012512207s\n",
      "Epoch: 7 / 20, test_loss: 0.04773799702525139\n",
      "Epoch: 8 of 20\n",
      "Training - Step: 0 of 2440 - Loss: 0.049183182\n",
      "Training - Step: 1000 of 2440 - Loss: 0.02480207\n",
      "Training - Step: 2000 of 2440 - Loss: 0.036462996\n",
      "Epoch 8/20 time: 3.4886460304260254s\n",
      "Validation - Step: 0 of 2440 - Loss: 0.053709514\n",
      "Validation - Step: 1000 of 2440 - Loss: 0.048172116\n",
      "Validation - Step: 2000 of 2440 - Loss: 0.025840472\n",
      "Epoch 8/20 time: 3.252951145172119s\n",
      "Epoch: 8 / 20, test_loss: 0.046080581843853\n",
      "Epoch: 9 of 20\n",
      "Training - Step: 0 of 2440 - Loss: 0.05141115\n",
      "Training - Step: 1000 of 2440 - Loss: 0.03128893\n",
      "Training - Step: 2000 of 2440 - Loss: 0.047350124\n",
      "Epoch 9/20 time: 3.488361120223999s\n",
      "Validation - Step: 0 of 2440 - Loss: 0.04011675\n",
      "Validation - Step: 1000 of 2440 - Loss: 0.03256759\n",
      "Validation - Step: 2000 of 2440 - Loss: 0.05307262\n",
      "Epoch 9/20 time: 3.2579002380371094s\n",
      "Epoch: 9 / 20, test_loss: 0.041330598294734955\n",
      "Epoch: 10 of 20\n",
      "Training - Step: 0 of 2440 - Loss: 0.038513526\n",
      "Training - Step: 1000 of 2440 - Loss: 0.028597074\n",
      "Training - Step: 2000 of 2440 - Loss: 0.048450656\n",
      "Epoch 10/20 time: 3.494835138320923s\n",
      "Validation - Step: 0 of 2440 - Loss: 0.044837136\n",
      "Validation - Step: 1000 of 2440 - Loss: 0.046430275\n",
      "Validation - Step: 2000 of 2440 - Loss: 0.038515225\n",
      "Epoch 10/20 time: 3.2829177379608154s\n",
      "Epoch: 10 / 20, test_loss: 0.04460320994257927\n",
      "Epoch: 11 of 20\n",
      "Training - Step: 0 of 2440 - Loss: 0.042916745\n",
      "Training - Step: 1000 of 2440 - Loss: 0.03628941\n",
      "Training - Step: 2000 of 2440 - Loss: 0.03221064\n",
      "Epoch 11/20 time: 3.510864496231079s\n",
      "Validation - Step: 0 of 2440 - Loss: 0.02602974\n",
      "Validation - Step: 1000 of 2440 - Loss: 0.054452818\n",
      "Validation - Step: 2000 of 2440 - Loss: 0.027292747\n",
      "Epoch 11/20 time: 3.252474308013916s\n",
      "Epoch: 11 / 20, test_loss: 0.03697919473052025\n",
      "Epoch: 12 of 20\n",
      "Training - Step: 0 of 2440 - Loss: 0.040421676\n",
      "Training - Step: 1000 of 2440 - Loss: 0.03358624\n",
      "Training - Step: 2000 of 2440 - Loss: 0.02309851\n",
      "Epoch 12/20 time: 3.5113139152526855s\n",
      "Validation - Step: 0 of 2440 - Loss: 0.059114076\n",
      "Validation - Step: 1000 of 2440 - Loss: 0.026889974\n",
      "Validation - Step: 2000 of 2440 - Loss: 0.029081669\n",
      "Epoch 12/20 time: 3.247004747390747s\n",
      "Epoch: 12 / 20, test_loss: 0.03902295231819153\n",
      "Epoch: 13 of 20\n",
      "Training - Step: 0 of 2440 - Loss: 0.027581831\n",
      "Training - Step: 1000 of 2440 - Loss: 0.024498735\n",
      "Training - Step: 2000 of 2440 - Loss: 0.05012859\n",
      "Epoch 13/20 time: 3.5216939449310303s\n",
      "Validation - Step: 0 of 2440 - Loss: 0.045161948\n",
      "Validation - Step: 1000 of 2440 - Loss: 0.030587137\n",
      "Validation - Step: 2000 of 2440 - Loss: 0.028910197\n",
      "Epoch 13/20 time: 3.237758159637451s\n",
      "Epoch: 13 / 20, test_loss: 0.03573465347290039\n",
      "Epoch: 14 of 20\n",
      "Training - Step: 0 of 2440 - Loss: 0.04022984\n",
      "Training - Step: 1000 of 2440 - Loss: 0.026408402\n",
      "Training - Step: 2000 of 2440 - Loss: 0.032301247\n",
      "Epoch 14/20 time: 3.534419298171997s\n",
      "Validation - Step: 0 of 2440 - Loss: 0.02439085\n",
      "Validation - Step: 1000 of 2440 - Loss: 0.03198389\n",
      "Validation - Step: 2000 of 2440 - Loss: 0.027969863\n",
      "Epoch 14/20 time: 3.262946367263794s\n",
      "Epoch: 14 / 20, test_loss: 0.032937970012426376\n",
      "Epoch: 15 of 20\n",
      "Training - Step: 0 of 2440 - Loss: 0.028470512\n",
      "Training - Step: 1000 of 2440 - Loss: 0.025565222\n",
      "Training - Step: 2000 of 2440 - Loss: 0.026033586\n",
      "Epoch 15/20 time: 3.5283122062683105s\n",
      "Validation - Step: 0 of 2440 - Loss: 0.020798892\n",
      "Validation - Step: 1000 of 2440 - Loss: 0.033307333\n",
      "Validation - Step: 2000 of 2440 - Loss: 0.017063085\n",
      "Epoch 15/20 time: 3.2949154376983643s\n",
      "Epoch: 15 / 20, test_loss: 0.029451332986354828\n",
      "Epoch: 16 of 20\n",
      "Training - Step: 0 of 2440 - Loss: 0.026551984\n",
      "Training - Step: 1000 of 2440 - Loss: 0.027025728\n",
      "Training - Step: 2000 of 2440 - Loss: 0.03852597\n",
      "Epoch 16/20 time: 3.582956552505493s\n",
      "Validation - Step: 0 of 2440 - Loss: 0.027050093\n",
      "Validation - Step: 1000 of 2440 - Loss: 0.023210628\n",
      "Validation - Step: 2000 of 2440 - Loss: 0.032041844\n",
      "Epoch 16/20 time: 3.2808642387390137s\n",
      "Epoch: 16 / 20, test_loss: 0.027923421934247017\n",
      "Epoch: 17 of 20\n",
      "Training - Step: 0 of 2440 - Loss: 0.022785528\n",
      "Training - Step: 1000 of 2440 - Loss: 0.015370237\n",
      "Training - Step: 2000 of 2440 - Loss: 0.025660247\n",
      "Epoch 17/20 time: 3.560438632965088s\n",
      "Validation - Step: 0 of 2440 - Loss: 0.02210635\n",
      "Validation - Step: 1000 of 2440 - Loss: 0.022269512\n",
      "Validation - Step: 2000 of 2440 - Loss: 0.022837099\n",
      "Epoch 17/20 time: 3.290738582611084s\n",
      "Epoch: 17 / 20, test_loss: 0.02908911742269993\n",
      "Epoch: 18 of 20\n",
      "Training - Step: 0 of 2440 - Loss: 0.026716674\n",
      "Training - Step: 1000 of 2440 - Loss: 0.030435756\n",
      "Training - Step: 2000 of 2440 - Loss: 0.0207324\n",
      "Epoch 18/20 time: 3.5635476112365723s\n",
      "Validation - Step: 0 of 2440 - Loss: 0.025734771\n",
      "Validation - Step: 1000 of 2440 - Loss: 0.017467013\n",
      "Validation - Step: 2000 of 2440 - Loss: 0.019391045\n",
      "Epoch 18/20 time: 3.2982113361358643s\n",
      "Epoch: 18 / 20, test_loss: 0.02590946853160858\n",
      "Epoch: 19 of 20\n",
      "Training - Step: 0 of 2440 - Loss: 0.022783827\n",
      "Training - Step: 1000 of 2440 - Loss: 0.02764837\n",
      "Training - Step: 2000 of 2440 - Loss: 0.028443338\n",
      "Epoch 19/20 time: 3.5416903495788574s\n",
      "Validation - Step: 0 of 2440 - Loss: 0.023515116\n",
      "Validation - Step: 1000 of 2440 - Loss: 0.032911815\n",
      "Validation - Step: 2000 of 2440 - Loss: 0.04883863\n",
      "Epoch 19/20 time: 3.303652763366699s\n",
      "Epoch: 19 / 20, test_loss: 0.025121556594967842\n",
      "Saving training history to: data/trained_model/jax//test_run_notebook_lan_angle__jax_training_history.csv\n",
      "Saving model parameters to: data/trained_model/jax//test_run_notebook_lan_angle__train_state.jax\n",
      "Saving training config to: data/trained_model/jax//test_run_notebook_lan_angle__train_config.pickle\n",
      "Saving training data details to: data/trained_model/jax//test_run_notebook_lan_angle__data_details.pickle\n"
     ]
    }
   ],
   "source": [
    "train_state = jax_trainer.train_and_evaluate(output_folder = \"data/trained_model/jax/\",\n",
    "                               output_file_id = MODEL,\n",
    "                               run_id = 'test_run_notebook',\n",
    "                               wandb_on = True,\n",
    "                               wandb_project_id = 'test_run_notebook',\n",
    "                               save_data_details = True,\n",
    "                               verbose = 1,\n",
    "                               save_all = True)"
   ]
  },
  {
   "cell_type": "code",
   "execution_count": 16,
   "metadata": {},
   "outputs": [],
   "source": [
    "# Loaded Net\n",
    "jax_infer = lanfactory.trainers.MLPJaxFactory(network_config = 'data/torch_models/angle/angle_torch_network_config.pickle',\n",
    "                                              train = False)"
   ]
  },
  {
   "cell_type": "code",
   "execution_count": 17,
   "metadata": {},
   "outputs": [],
   "source": [
    "forward_pass, forward_pass_jitted = jax_infer.make_forward_partial(seed = 42,\n",
    "                                            input_dim = model_config['n_params'] + 2,\n",
    "                                            state = 'data/trained_model/jax/test_run_notebook_lan_angle__train_state.jax',\n",
    "                                            add_jitted = True,\n",
    "                                            )"
   ]
  },
  {
   "cell_type": "code",
   "execution_count": 24,
   "metadata": {},
   "outputs": [],
   "source": [
    "import jax.numpy as jnp\n",
    "# Test parameters:\n",
    "v, a, z, t, theta = 0.5, 1.5, 0.5, 0.3, 0.3\n",
    "\n",
    "# Comparison simulator run\n",
    "sim_out = ssms.basic_simulators.simulator.simulator(model = MODEL, \n",
    "                                          theta = [v,a,z,t,theta],\n",
    "                                          n_samples = 50000)\n",
    "\n",
    "# Make input matric\n",
    "input_mat = jnp.zeros((2000, 7))\n",
    "input_mat = input_mat.at[:, 0].set(jnp.ones(2000) * v)\n",
    "input_mat = input_mat.at[:, 1].set(jnp.ones(2000) * a)\n",
    "input_mat = input_mat.at[:, 2].set(jnp.ones(2000) * z)\n",
    "input_mat = input_mat.at[:, 3].set(jnp.ones(2000) * t)\n",
    "input_mat = input_mat.at[:, 4].set(jnp.ones(2000) * theta)\n",
    "input_mat = input_mat.at[:, 5].set(jnp.array(np.concatenate([np.linspace(5, 0, 1000).astype(np.float32),\n",
    "                                              np.linspace(0, 5, 1000).astype(np.float32)])))\n",
    "input_mat = input_mat.at[:, 6].set(jnp.array(np.concatenate([np.repeat(-1., 1000), np.repeat(1., 1000)]).astype(np.float32)))\n",
    "\n",
    "net_out = forward_pass_jitted(input_mat)"
   ]
  },
  {
   "cell_type": "code",
   "execution_count": 31,
   "metadata": {},
   "outputs": [
    {
     "data": {
      "text/plain": [
       "Array([[-10.9201765],\n",
       "       [-10.892712 ],\n",
       "       [-10.864927 ],\n",
       "       ...,\n",
       "       [-10.891985 ],\n",
       "       [-10.910214 ],\n",
       "       [-10.928265 ]], dtype=float32)"
      ]
     },
     "execution_count": 31,
     "metadata": {},
     "output_type": "execute_result"
    }
   ],
   "source": [
    "net_out"
   ]
  },
  {
   "cell_type": "code",
   "execution_count": 32,
   "metadata": {},
   "outputs": [
    {
     "data": {
      "text/plain": [
       "(array([4.69769437e-04, 8.22096514e-04, 1.64419303e-03, 5.05002144e-03,\n",
       "        1.11570241e-02, 1.56198338e-02, 2.24314906e-02, 3.03001287e-02,\n",
       "        4.07524986e-02, 5.19095227e-02, 6.55328364e-02, 8.18573243e-02,\n",
       "        8.94910777e-02, 1.05345796e-01, 1.12509780e-01, 1.30478461e-01,\n",
       "        1.36233137e-01, 1.41165716e-01, 1.48916911e-01, 1.36468021e-01,\n",
       "        9.31317908e-02, 1.98477587e-02, 0.00000000e+00, 0.00000000e+00,\n",
       "        0.00000000e+00, 0.00000000e+00, 7.04654155e-04, 1.05110911e-01,\n",
       "        3.65832949e-01, 5.13927764e-01, 5.39999967e-01, 5.00891662e-01,\n",
       "        4.50978659e-01, 3.92140037e-01, 3.35297935e-01, 2.85502375e-01,\n",
       "        2.31478890e-01, 1.86968236e-01, 1.51265759e-01, 1.18734225e-01,\n",
       "        9.13701554e-02, 6.34188739e-02, 4.07524986e-02, 2.65419732e-02,\n",
       "        1.70291421e-02, 7.98608042e-03, 3.40582841e-03, 1.29186595e-03,\n",
       "        2.34884718e-04, 1.17442359e-04]),\n",
       " array([-4.17047739, -4.00018108, -3.82988478, -3.65958847, -3.48929216,\n",
       "        -3.31899586, -3.14869955, -2.97840324, -2.80810694, -2.63781063,\n",
       "        -2.46751432, -2.29721802, -2.12692171, -1.9566254 , -1.7863291 ,\n",
       "        -1.61603279, -1.44573648, -1.27544018, -1.10514387, -0.93484756,\n",
       "        -0.76455126, -0.59425495, -0.42395864, -0.25366234, -0.08336603,\n",
       "         0.08693027,  0.25722658,  0.42752289,  0.59781919,  0.7681155 ,\n",
       "         0.93841181,  1.10870811,  1.27900442,  1.44930073,  1.61959703,\n",
       "         1.78989334,  1.96018965,  2.13048595,  2.30078226,  2.47107857,\n",
       "         2.64137487,  2.81167118,  2.98196749,  3.15226379,  3.3225601 ,\n",
       "         3.49285641,  3.66315271,  3.83344902,  4.00374533,  4.17404163,\n",
       "         4.34433794]),\n",
       " [<matplotlib.patches.Polygon at 0x7fc07dad4820>])"
      ]
     },
     "execution_count": 32,
     "metadata": {},
     "output_type": "execute_result"
    },
    {
     "data": {
      "image/png": "[encoded data removed]",
      "text/plain": [
       "<Figure size 640x480 with 1 Axes>"
      ]
     },
     "metadata": {},
     "output_type": "display_data"
    }
   ],
   "source": [
    "from matplotlib import pyplot as plt\n",
    "plt.plot(np.linspace(-5, 5, 2000).astype(np.float32), \n",
    "         np.exp(net_out))\n",
    "\n",
    "plt.hist(sim_out['rts'] * sim_out['choices'], bins = 50, histtype = 'step', fill = None, density = True)"
   ]
  }
 ],
 "metadata": {
  "kernelspec": {
   "display_name": "lan_pipe",
   "language": "python",
   "name": "lan_pipe"
  },
  "language_info": {
   "codemirror_mode": {
    "name": "ipython",
    "version": 3
   },
   "file_extension": ".py",
   "mimetype": "text/x-python",
   "name": "python",
   "nbconvert_exporter": "python",
   "pygments_lexer": "ipython3",
   "version": "3.10.13"
  },
  "orig_nbformat": 4
 },
 "nbformat": 4,
 "nbformat_minor": 2
}
