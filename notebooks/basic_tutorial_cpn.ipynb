{
 "cells": [
  {
   "cell_type": "markdown",
   "metadata": {},
   "source": [
    "### Quick Start"
   ]
  },
  {
   "cell_type": "markdown",
   "metadata": {},
   "source": [
    "The `LANfactory` package is a light-weight convenience package for training `likelihood approximation networks` (LANs) in torch (or keras), \n",
    "starting from supplied training data.\n",
    "\n",
    "[LANs](https://elifesciences.org/articles/65074), although more general in potential scope of applications, were conceived in the context of sequential sampling modeling\n",
    "to account for cognitive processes giving rise to *choice* and *reaction time* data in *n-alternative forced choice experiments* commonly encountered in the cognitive sciences.\n",
    "\n",
    "In this quick tutorial we will use the [`ssms`](https://github.com/AlexanderFengler/ssm_simulators) package to generate our training data using such a sequential sampling model (SSM). The use of of the `LANfactory` package is in no way bound to utilize this `ssms` package."
   ]
  },
  {
   "cell_type": "markdown",
   "metadata": {},
   "source": [
    "#### Install\n",
    "\n",
    "To install the `ssms` package type,\n",
    "\n",
    "`pip install git+https://github.com/AlexanderFengler/ssm_simulators`\n",
    "\n",
    "To install the `LANfactory` package type,\n",
    "\n",
    "`pip install git+https://github.com/AlexanderFengler/LANfactory`\n",
    "\n",
    "Necessary dependency should be installed automatically in the process."
   ]
  },
  {
   "cell_type": "markdown",
   "metadata": {},
   "source": [
    "#### Basic Tutorial"
   ]
  },
  {
   "cell_type": "code",
   "execution_count": 4,
   "metadata": {},
   "outputs": [
    {
     "name": "stdout",
     "output_type": "stream",
     "text": [
      "passing 1\n",
      "wandb not available\n",
      "wandb not available\n"
     ]
    }
   ],
   "source": [
    "# Load necessary packages\n",
    "import ssms\n",
    "import lanfactory\n",
    "import os\n",
    "import numpy as np\n",
    "from copy import deepcopy\n",
    "import torch"
   ]
  },
  {
   "cell_type": "markdown",
   "metadata": {},
   "source": [
    "#### Generate Training Data\n",
    "First we need to generate some training data. As mentioned above we will do so using the `ssms` python package, however without delving into a detailed explanation\n",
    "of this package. Please refer to the [basic ssms tutorial] (https://github.com/AlexanderFengler/ssm_simulators) in case you want to learn more."
   ]
  },
  {
   "cell_type": "code",
   "execution_count": 5,
   "metadata": {},
   "outputs": [],
   "source": [
    "# MAKE CONFIGS\n",
    "model = \"ddm_deadline\"\n",
    "# Initialize the generator config (for MLP LANs)\n",
    "generator_config = deepcopy(ssms.config.data_generator_config[\"lan\"])\n",
    "# Specify generative model (one from the list of included models mentioned above)\n",
    "generator_config[\"model\"] = model\n",
    "# Specify number of parameter sets to simulate\n",
    "generator_config[\"n_parameter_sets\"] = 10000\n",
    "# Specify how many samples a simulation run should entail\n",
    "generator_config[\"n_samples\"] = 1000\n",
    "# Specify folder in which to save generated data\n",
    "generator_config[\"output_folder\"] = \"data/lan_mlp/\" + model + \"/\"\n",
    "\n",
    "# Make model config dict\n",
    "model_config = ssms.config.model_config[model.split(\"_deadline\")[0]]"
   ]
  },
  {
   "cell_type": "code",
   "execution_count": 9,
   "metadata": {},
   "outputs": [
    {
     "name": "stdout",
     "output_type": "stream",
     "text": [
      "{'name': 'ddm_deadline', 'params': ['v', 'a', 'z', 't', 'deadline'], 'param_bounds': [[-3.0, 0.3, 0.1, 0.0, 0.001], [3.0, 2.5, 0.9, 2.0, 10]], 'boundary_name': 'constant', 'boundary': <function constant at 0x111b4ec20>, 'boundary_params': [], 'n_params': 5, 'default_params': [0.0, 1.0, 0.5, 0.001, 10], 'nchoices': 2, 'simulator': <cyfunction ddm_flexbound at 0x177b3e4d0>}\n",
      "n_cpus used:  12\n",
      "checking:  data/lan_mlp/ddm_deadline/\n",
      "0\n",
      "simulation round: 1  of 10\n"
     ]
    },
    {
     "name": "stdout",
     "output_type": "stream",
     "text": [
      "simulation round: 2  of 10\n",
      "simulation round: 3  of 10\n",
      "simulation round: 4  of 10\n",
      "simulation round: 5  of 10\n",
      "simulation round: 6  of 10\n",
      "simulation round: 7  of 10\n",
      "simulation round: 8  of 10\n",
      "simulation round: 9  of 10\n",
      "simulation round: 10  of 10\n",
      "Writing to file:  data/lan_mlp/ddm_deadline//training_data_2740c416c0b711eeaa2f6ae25f443f62.pickle\n",
      "1\n",
      "simulation round: 1  of 10\n",
      "simulation round: 2  of 10\n",
      "simulation round: 3  of 10\n",
      "simulation round: 4  of 10\n",
      "simulation round: 5  of 10\n",
      "simulation round: 6  of 10\n",
      "simulation round: 7  of 10\n",
      "simulation round: 8  of 10\n",
      "simulation round: 9  of 10\n",
      "simulation round: 10  of 10\n",
      "Writing to file:  data/lan_mlp/ddm_deadline//training_data_4efa2682c0b711eeaa2f6ae25f443f62.pickle\n",
      "2\n",
      "simulation round: 1  of 10\n",
      "simulation round: 2  of 10\n",
      "simulation round: 3  of 10\n",
      "simulation round: 4  of 10\n",
      "simulation round: 5  of 10\n",
      "simulation round: 6  of 10\n",
      "simulation round: 7  of 10\n",
      "simulation round: 8  of 10\n",
      "simulation round: 9  of 10\n",
      "simulation round: 10  of 10\n",
      "Writing to file:  data/lan_mlp/ddm_deadline//training_data_765cd94ac0b711eeaa2f6ae25f443f62.pickle\n",
      "3\n",
      "simulation round: 1  of 10\n",
      "simulation round: 2  of 10\n",
      "simulation round: 3  of 10\n",
      "simulation round: 4  of 10\n",
      "simulation round: 5  of 10\n",
      "simulation round: 6  of 10\n",
      "simulation round: 7  of 10\n",
      "simulation round: 8  of 10\n",
      "simulation round: 9  of 10\n",
      "simulation round: 10  of 10\n",
      "Writing to file:  data/lan_mlp/ddm_deadline//training_data_9e5957a2c0b711eeaa2f6ae25f443f62.pickle\n",
      "4\n",
      "simulation round: 1  of 10\n",
      "simulation round: 2  of 10\n",
      "simulation round: 3  of 10\n",
      "simulation round: 4  of 10\n",
      "simulation round: 5  of 10\n",
      "simulation round: 6  of 10\n",
      "simulation round: 7  of 10\n",
      "simulation round: 8  of 10\n",
      "simulation round: 9  of 10\n",
      "simulation round: 10  of 10\n",
      "Writing to file:  data/lan_mlp/ddm_deadline//training_data_c5e80f98c0b711eeaa2f6ae25f443f62.pickle\n",
      "5\n",
      "simulation round: 1  of 10\n",
      "simulation round: 2  of 10\n",
      "simulation round: 3  of 10\n",
      "simulation round: 4  of 10\n",
      "simulation round: 5  of 10\n",
      "simulation round: 6  of 10\n",
      "simulation round: 7  of 10\n",
      "simulation round: 8  of 10\n",
      "simulation round: 9  of 10\n",
      "simulation round: 10  of 10\n",
      "Writing to file:  data/lan_mlp/ddm_deadline//training_data_ed450992c0b711eeaa2f6ae25f443f62.pickle\n",
      "6\n",
      "simulation round: 1  of 10\n",
      "simulation round: 2  of 10\n",
      "simulation round: 3  of 10\n",
      "simulation round: 4  of 10\n",
      "simulation round: 5  of 10\n",
      "simulation round: 6  of 10\n",
      "simulation round: 7  of 10\n",
      "simulation round: 8  of 10\n",
      "simulation round: 9  of 10\n",
      "simulation round: 10  of 10\n",
      "Writing to file:  data/lan_mlp/ddm_deadline//training_data_15363534c0b811eeaa2f6ae25f443f62.pickle\n",
      "7\n",
      "simulation round: 1  of 10\n",
      "simulation round: 2  of 10\n",
      "simulation round: 3  of 10\n",
      "simulation round: 4  of 10\n",
      "simulation round: 5  of 10\n",
      "simulation round: 6  of 10\n",
      "simulation round: 7  of 10\n",
      "simulation round: 8  of 10\n",
      "simulation round: 9  of 10\n",
      "simulation round: 10  of 10\n",
      "Writing to file:  data/lan_mlp/ddm_deadline//training_data_3cc66290c0b811eeaa2f6ae25f443f62.pickle\n",
      "8\n",
      "simulation round: 1  of 10\n",
      "simulation round: 2  of 10\n",
      "simulation round: 3  of 10\n",
      "simulation round: 4  of 10\n",
      "simulation round: 5  of 10\n",
      "simulation round: 6  of 10\n",
      "simulation round: 7  of 10\n",
      "simulation round: 8  of 10\n",
      "simulation round: 9  of 10\n",
      "simulation round: 10  of 10\n",
      "Writing to file:  data/lan_mlp/ddm_deadline//training_data_64028fb4c0b811eeaa2f6ae25f443f62.pickle\n",
      "9\n",
      "simulation round: 1  of 10\n",
      "simulation round: 2  of 10\n",
      "simulation round: 3  of 10\n",
      "simulation round: 4  of 10\n",
      "simulation round: 5  of 10\n",
      "simulation round: 6  of 10\n",
      "simulation round: 7  of 10\n",
      "simulation round: 8  of 10\n",
      "simulation round: 9  of 10\n",
      "simulation round: 10  of 10\n",
      "Writing to file:  data/lan_mlp/ddm_deadline//training_data_a9959346c0b811eeaa2f6ae25f443f62.pickle\n",
      "10\n",
      "simulation round: 1  of 10\n",
      "simulation round: 2  of 10\n",
      "simulation round: 3  of 10\n",
      "simulation round: 4  of 10\n",
      "simulation round: 5  of 10\n",
      "simulation round: 6  of 10\n",
      "simulation round: 7  of 10\n",
      "simulation round: 8  of 10\n",
      "simulation round: 9  of 10\n",
      "simulation round: 10  of 10\n",
      "Writing to file:  data/lan_mlp/ddm_deadline//training_data_d7c1eda0c0b811eeaa2f6ae25f443f62.pickle\n",
      "11\n",
      "simulation round: 1  of 10\n",
      "simulation round: 2  of 10\n",
      "simulation round: 3  of 10\n",
      "simulation round: 4  of 10\n",
      "simulation round: 5  of 10\n",
      "simulation round: 6  of 10\n",
      "simulation round: 7  of 10\n",
      "simulation round: 8  of 10\n",
      "simulation round: 9  of 10\n",
      "simulation round: 10  of 10\n",
      "Writing to file:  data/lan_mlp/ddm_deadline//training_data_080a1802c0b911eeaa2f6ae25f443f62.pickle\n",
      "12\n",
      "simulation round: 1  of 10\n",
      "simulation round: 2  of 10\n",
      "simulation round: 3  of 10\n",
      "simulation round: 4  of 10\n",
      "simulation round: 5  of 10\n",
      "simulation round: 6  of 10\n",
      "simulation round: 7  of 10\n",
      "simulation round: 8  of 10\n",
      "simulation round: 9  of 10\n",
      "simulation round: 10  of 10\n",
      "Writing to file:  data/lan_mlp/ddm_deadline//training_data_37b590ccc0b911eeaa2f6ae25f443f62.pickle\n",
      "13\n",
      "simulation round: 1  of 10\n",
      "simulation round: 2  of 10\n",
      "simulation round: 3  of 10\n",
      "simulation round: 4  of 10\n",
      "simulation round: 5  of 10\n",
      "simulation round: 6  of 10\n",
      "simulation round: 7  of 10\n",
      "simulation round: 8  of 10\n",
      "simulation round: 9  of 10\n",
      "simulation round: 10  of 10\n",
      "Writing to file:  data/lan_mlp/ddm_deadline//training_data_653f8b42c0b911eeaa2f6ae25f443f62.pickle\n",
      "14\n",
      "simulation round: 1  of 10\n",
      "simulation round: 2  of 10\n",
      "simulation round: 3  of 10\n",
      "simulation round: 4  of 10\n",
      "simulation round: 5  of 10\n",
      "simulation round: 6  of 10\n",
      "simulation round: 7  of 10\n",
      "simulation round: 8  of 10\n",
      "simulation round: 9  of 10\n",
      "simulation round: 10  of 10\n",
      "Writing to file:  data/lan_mlp/ddm_deadline//training_data_94e2e98ec0b911eeaa2f6ae25f443f62.pickle\n",
      "15\n",
      "simulation round: 1  of 10\n",
      "simulation round: 2  of 10\n",
      "simulation round: 3  of 10\n",
      "simulation round: 4  of 10\n",
      "simulation round: 5  of 10\n",
      "simulation round: 6  of 10\n",
      "simulation round: 7  of 10\n",
      "simulation round: 8  of 10\n",
      "simulation round: 9  of 10\n",
      "simulation round: 10  of 10\n",
      "Writing to file:  data/lan_mlp/ddm_deadline//training_data_c08d4ea8c0b911eeaa2f6ae25f443f62.pickle\n",
      "16\n",
      "simulation round: 1  of 10\n",
      "simulation round: 2  of 10\n",
      "simulation round: 3  of 10\n",
      "simulation round: 4  of 10\n",
      "simulation round: 5  of 10\n",
      "simulation round: 6  of 10\n",
      "simulation round: 7  of 10\n",
      "simulation round: 8  of 10\n",
      "simulation round: 9  of 10\n",
      "simulation round: 10  of 10\n",
      "Writing to file:  data/lan_mlp/ddm_deadline//training_data_eda3be22c0b911eeaa2f6ae25f443f62.pickle\n",
      "17\n",
      "simulation round: 1  of 10\n",
      "simulation round: 2  of 10\n",
      "simulation round: 3  of 10\n",
      "simulation round: 4  of 10\n",
      "simulation round: 5  of 10\n",
      "simulation round: 6  of 10\n",
      "simulation round: 7  of 10\n",
      "simulation round: 8  of 10\n",
      "simulation round: 9  of 10\n",
      "simulation round: 10  of 10\n",
      "Writing to file:  data/lan_mlp/ddm_deadline//training_data_1b205374c0ba11eeaa2f6ae25f443f62.pickle\n",
      "18\n",
      "simulation round: 1  of 10\n",
      "simulation round: 2  of 10\n",
      "simulation round: 3  of 10\n",
      "simulation round: 4  of 10\n",
      "simulation round: 5  of 10\n",
      "simulation round: 6  of 10\n",
      "simulation round: 7  of 10\n",
      "simulation round: 8  of 10\n",
      "simulation round: 9  of 10\n",
      "simulation round: 10  of 10\n",
      "Writing to file:  data/lan_mlp/ddm_deadline//training_data_489a54f8c0ba11eeaa2f6ae25f443f62.pickle\n",
      "19\n",
      "simulation round: 1  of 10\n",
      "simulation round: 2  of 10\n",
      "simulation round: 3  of 10\n",
      "simulation round: 4  of 10\n",
      "simulation round: 5  of 10\n",
      "simulation round: 6  of 10\n",
      "simulation round: 7  of 10\n",
      "simulation round: 8  of 10\n",
      "simulation round: 9  of 10\n",
      "simulation round: 10  of 10\n",
      "Writing to file:  data/lan_mlp/ddm_deadline//training_data_739175cec0ba11eeaa2f6ae25f443f62.pickle\n",
      "20\n",
      "simulation round: 1  of 10\n",
      "simulation round: 2  of 10\n",
      "simulation round: 3  of 10\n",
      "simulation round: 4  of 10\n",
      "simulation round: 5  of 10\n",
      "simulation round: 6  of 10\n",
      "simulation round: 7  of 10\n",
      "simulation round: 8  of 10\n",
      "simulation round: 9  of 10\n",
      "simulation round: 10  of 10\n",
      "Writing to file:  data/lan_mlp/ddm_deadline//training_data_9e009dd0c0ba11eeaa2f6ae25f443f62.pickle\n",
      "21\n",
      "simulation round: 1  of 10\n",
      "simulation round: 2  of 10\n",
      "simulation round: 3  of 10\n",
      "simulation round: 4  of 10\n",
      "simulation round: 5  of 10\n",
      "simulation round: 6  of 10\n",
      "simulation round: 7  of 10\n",
      "simulation round: 8  of 10\n",
      "simulation round: 9  of 10\n",
      "simulation round: 10  of 10\n",
      "Writing to file:  data/lan_mlp/ddm_deadline//training_data_c808bf4ac0ba11eeaa2f6ae25f443f62.pickle\n",
      "22\n",
      "simulation round: 1  of 10\n",
      "simulation round: 2  of 10\n",
      "simulation round: 3  of 10\n",
      "simulation round: 4  of 10\n",
      "simulation round: 5  of 10\n",
      "simulation round: 6  of 10\n",
      "simulation round: 7  of 10\n",
      "simulation round: 8  of 10\n",
      "simulation round: 9  of 10\n",
      "simulation round: 10  of 10\n",
      "Writing to file:  data/lan_mlp/ddm_deadline//training_data_f1eda992c0ba11eeaa2f6ae25f443f62.pickle\n",
      "23\n",
      "simulation round: 1  of 10\n",
      "simulation round: 2  of 10\n",
      "simulation round: 3  of 10\n",
      "simulation round: 4  of 10\n",
      "simulation round: 5  of 10\n",
      "simulation round: 6  of 10\n",
      "simulation round: 7  of 10\n",
      "simulation round: 8  of 10\n",
      "simulation round: 9  of 10\n",
      "simulation round: 10  of 10\n",
      "Writing to file:  data/lan_mlp/ddm_deadline//training_data_1a5fbe88c0bb11eeaa2f6ae25f443f62.pickle\n",
      "24\n",
      "simulation round: 1  of 10\n",
      "simulation round: 2  of 10\n",
      "simulation round: 3  of 10\n",
      "simulation round: 4  of 10\n",
      "simulation round: 5  of 10\n",
      "simulation round: 6  of 10\n",
      "simulation round: 7  of 10\n",
      "simulation round: 8  of 10\n",
      "simulation round: 9  of 10\n",
      "simulation round: 10  of 10\n",
      "Writing to file:  data/lan_mlp/ddm_deadline//training_data_4372f2ccc0bb11eeaa2f6ae25f443f62.pickle\n"
     ]
    }
   ],
   "source": [
    "# MAKE DATA\n",
    "\n",
    "my_dataset_generator = ssms.dataset_generators.lan_mlp.data_generator(\n",
    "    generator_config=generator_config, model_config=model_config\n",
    ")\n",
    "\n",
    "for i in range(25):\n",
    "    print(i)\n",
    "    training_data = my_dataset_generator.generate_data_training_uniform(save=True)"
   ]
  },
  {
   "cell_type": "code",
   "execution_count": null,
   "metadata": {},
   "outputs": [
    {
     "data": {
      "text/plain": [
       "'Dataset completed'"
      ]
     },
     "execution_count": 4,
     "metadata": {},
     "output_type": "execute_result"
    }
   ],
   "source": [
    "# training_data"
   ]
  },
  {
   "cell_type": "markdown",
   "metadata": {},
   "source": [
    "#### Prepare for Training\n",
    "\n",
    "Next we set up dataloaders for training with pytorch. The `LANfactory` uses custom dataloaders, taking into account particularities of the expected training data.\n",
    "Specifically, we expect to receive a bunch of training data files (the present example generates only one), where each file hosts a large number of training examples. \n",
    "So we want to define a dataloader which spits out batches from data with a specific training data file, and keeps checking when to load in a new file. \n",
    "The way this is implemented here, is via the `DatasetTorch` class in `lanfactory.trainers`, which inherits from `torch.utils.data.Dataset` and prespecifies a `batch_size`. Finally this is supplied to a [`DataLoader`](https://pytorch.org/docs/stable/data.html), for which we keep the `batch_size` argument at 0.\n",
    "\n",
    "The `DatasetTorch` class is then called as an iterator via the DataLoader and takes care of batching as well as file loading internally. \n",
    "\n",
    "You may choose your own way of defining the `DataLoader` classes, downstream you are simply expected to supply one."
   ]
  },
  {
   "cell_type": "code",
   "execution_count": 9,
   "metadata": {},
   "outputs": [],
   "source": [
    "# MAKE DATALOADERS\n",
    "\n",
    "# List of datafiles (here only one)\n",
    "folder_ = \"data/lan_mlp/\" + model + \"/\"  # + \"/training_data_0_nbins_0_n_1000/\"\n",
    "file_list_ = [folder_ + file_ for file_ in os.listdir(folder_)]\n",
    "feature_key = \"cpn_data\"\n",
    "label_key = \"cpn_labels\"\n",
    "\n",
    "# Training dataset\n",
    "torch_training_dataset = lanfactory.trainers.DatasetTorch(\n",
    "    file_ids=file_list_,\n",
    "    batch_size=1024,\n",
    "    features_key=feature_key,\n",
    "    label_key=label_key,\n",
    ")\n",
    "\n",
    "torch_training_dataloader = torch.utils.data.DataLoader(\n",
    "    torch_training_dataset,\n",
    "    shuffle=True,\n",
    "    batch_size=None,\n",
    "    num_workers=1,\n",
    "    pin_memory=True,\n",
    ")\n",
    "\n",
    "# Validation dataset\n",
    "torch_validation_dataset = lanfactory.trainers.DatasetTorch(\n",
    "    file_ids=file_list_,\n",
    "    batch_size=1024,\n",
    "    features_key=feature_key,\n",
    "    label_key=label_key,\n",
    ")\n",
    "\n",
    "torch_validation_dataloader = torch.utils.data.DataLoader(\n",
    "    torch_validation_dataset,\n",
    "    shuffle=True,\n",
    "    batch_size=None,\n",
    "    num_workers=1,\n",
    "    pin_memory=True,\n",
    ")"
   ]
  },
  {
   "cell_type": "markdown",
   "metadata": {},
   "source": [
    "Now we define two configuration dictionariers,\n",
    "\n",
    "1. The `network_config` dictionary defines the architecture and properties of the network\n",
    "2. The `train_config` dictionary defines properties concerning training hyperparameters\n",
    "\n",
    "Two examples (which we take as provided by the package, but which you can adjust according to your needs) are provided below."
   ]
  },
  {
   "cell_type": "code",
   "execution_count": 6,
   "metadata": {},
   "outputs": [
    {
     "name": "stdout",
     "output_type": "stream",
     "text": [
      "Network config: \n",
      "{'layer_sizes': [100, 100, 1], 'activations': ['tanh', 'tanh', 'linear'], 'train_output_type': 'logits'}\n",
      "Train config: \n",
      "{'cpu_batch_size': 128, 'gpu_batch_size': 256, 'n_epochs': 5, 'optimizer': 'adam', 'learning_rate': 0.002, 'lr_scheduler': 'reduce_on_plateau', 'lr_scheduler_params': {}, 'weight_decay': 0.0, 'loss': 'bcelogit', 'save_history': True}\n"
     ]
    }
   ],
   "source": [
    "# SPECIFY NETWORK CONFIGS AND TRAINING CONFIGS\n",
    "network_type = \"cpn\"\n",
    "if network_type == \"cpn\":\n",
    "    network_config = lanfactory.config.network_configs.network_config_cpn\n",
    "    train_config = lanfactory.config.network_configs.train_config_cpn\n",
    "elif network_type == \"lan\":\n",
    "    network_config = lanfactory.config.network_configs.network_config_mlp\n",
    "    train_config = lanfactory.config.network_configs.train_config_mlp\n",
    "elif network_type == \"opn\":\n",
    "    network_config = lanfactory.config.network_configs.network_config_cpn\n",
    "    train_config = lanfactory.config.network_configs.train_config_cpn\n",
    "\n",
    "print(\"Network config: \")\n",
    "print(network_config)\n",
    "\n",
    "print(\"Train config: \")\n",
    "print(train_config)"
   ]
  },
  {
   "cell_type": "markdown",
   "metadata": {},
   "source": [
    "We can now load a network, and save the configuration files for convenience."
   ]
  },
  {
   "cell_type": "code",
   "execution_count": 5,
   "metadata": {},
   "outputs": [
    {
     "name": "stdout",
     "output_type": "stream",
     "text": [
      "tanh\n",
      "tanh\n",
      "linear\n",
      "Found folder:  data\n",
      "Moving on...\n",
      "Found folder:  data/torch_models\n",
      "Moving on...\n",
      "Found folder:  data/torch_models/ddm_deadline\n",
      "Moving on...\n",
      "Saved network config\n",
      "Saved train config\n"
     ]
    }
   ],
   "source": [
    "# LOAD NETWORK\n",
    "net = lanfactory.trainers.TorchMLP(\n",
    "    network_config=deepcopy(network_config),\n",
    "    input_shape=torch_training_dataset.input_dim,\n",
    "    save_folder=\"data/torch_models/\" + model + \"/\",\n",
    "    generative_model_id=\"angle\",\n",
    ")\n",
    "\n",
    "# SAVE CONFIGS\n",
    "lanfactory.utils.save_configs(\n",
    "    model_id=\"angle\" + \"_torch_\",\n",
    "    save_folder=\"data/torch_models/\" + model + \"/\",\n",
    "    network_config=network_config,\n",
    "    train_config=train_config,\n",
    "    allow_abs_path_folder_generation=True,\n",
    ")"
   ]
  },
  {
   "cell_type": "code",
   "execution_count": 52,
   "metadata": {},
   "outputs": [
    {
     "name": "stdout",
     "output_type": "stream",
     "text": [
      "Help on function train_and_evaluate in module lanfactory.trainers.torch_mlp:\n",
      "\n",
      "train_and_evaluate(self, output_folder='data/', output_file_id='fileid', run_id='runid', wandb_on=True, wandb_project_id='projectid', save_history=True, save_model=True, save_config=True, save_all=True, save_data_details=True, verbose=1)\n",
      "    Train and evaluate the model.\n",
      "    \n",
      "    Arguments\n",
      "    ---------\n",
      "        output_folder (str):\n",
      "            Output folder.\n",
      "        output_file_id (str):\n",
      "            Output file ID.\n",
      "        run_id (str):\n",
      "            Run ID.\n",
      "        wandb_on (bool):\n",
      "            Whether to use wandb.\n",
      "        wandb_project_id (str):\n",
      "            Wandb project ID.\n",
      "        save_history (bool):\n",
      "            Whether to save the training history.\n",
      "        save_model (bool):\n",
      "            Whether to save the model.\n",
      "        save_config (bool):\n",
      "            Whether to save the training configuration.\n",
      "        save_all (bool):\n",
      "            Whether to save all.\n",
      "        save_data_details (bool):\n",
      "            Whether to save the data details.\n",
      "        verbose (int):\n",
      "            Verbosity level.\n",
      "\n"
     ]
    }
   ],
   "source": [
    "help(lanfactory.trainers.ModelTrainerTorchMLP.train_and_evaluate)"
   ]
  },
  {
   "cell_type": "code",
   "execution_count": 70,
   "metadata": {},
   "outputs": [],
   "source": [
    "# train_config\n",
    "\n",
    "# train_config[\"n_epochs\"] = 25"
   ]
  },
  {
   "cell_type": "markdown",
   "metadata": {},
   "source": [
    "To finally train the network we supply our network, the dataloaders and training config to the `ModelTrainerTorchMLP` class, from `lanfactory.trainers`."
   ]
  },
  {
   "cell_type": "code",
   "execution_count": 7,
   "metadata": {},
   "outputs": [
    {
     "ename": "NameError",
     "evalue": "name 'net' is not defined",
     "output_type": "error",
     "traceback": [
      "\u001b[0;31m---------------------------------------------------------------------------\u001b[0m",
      "\u001b[0;31mNameError\u001b[0m                                 Traceback (most recent call last)",
      "\u001b[1;32m/Users/afengler/Library/CloudStorage/OneDrive-Personal/project_lanfactory/LANfactory/notebooks/basic_tutorial_cpn.ipynb Cell 19\u001b[0m line \u001b[0;36m6\n\u001b[1;32m      <a href='vscode-notebook-cell:/Users/afengler/Library/CloudStorage/OneDrive-Personal/project_lanfactory/LANfactory/notebooks/basic_tutorial_cpn.ipynb#Y206sZmlsZQ%3D%3D?line=1'>2</a>\u001b[0m n_epochs \u001b[39m=\u001b[39m \u001b[39m20\u001b[39m\n\u001b[1;32m      <a href='vscode-notebook-cell:/Users/afengler/Library/CloudStorage/OneDrive-Personal/project_lanfactory/LANfactory/notebooks/basic_tutorial_cpn.ipynb#Y206sZmlsZQ%3D%3D?line=2'>3</a>\u001b[0m train_config[\u001b[39m\"\u001b[39m\u001b[39mn_epochs\u001b[39m\u001b[39m\"\u001b[39m] \u001b[39m=\u001b[39m n_epochs\n\u001b[1;32m      <a href='vscode-notebook-cell:/Users/afengler/Library/CloudStorage/OneDrive-Personal/project_lanfactory/LANfactory/notebooks/basic_tutorial_cpn.ipynb#Y206sZmlsZQ%3D%3D?line=4'>5</a>\u001b[0m model_trainer \u001b[39m=\u001b[39m lanfactory\u001b[39m.\u001b[39mtrainers\u001b[39m.\u001b[39mModelTrainerTorchMLP(\n\u001b[0;32m----> <a href='vscode-notebook-cell:/Users/afengler/Library/CloudStorage/OneDrive-Personal/project_lanfactory/LANfactory/notebooks/basic_tutorial_cpn.ipynb#Y206sZmlsZQ%3D%3D?line=5'>6</a>\u001b[0m     model\u001b[39m=\u001b[39mnet,\n\u001b[1;32m      <a href='vscode-notebook-cell:/Users/afengler/Library/CloudStorage/OneDrive-Personal/project_lanfactory/LANfactory/notebooks/basic_tutorial_cpn.ipynb#Y206sZmlsZQ%3D%3D?line=6'>7</a>\u001b[0m     train_config\u001b[39m=\u001b[39mtrain_config,\n\u001b[1;32m      <a href='vscode-notebook-cell:/Users/afengler/Library/CloudStorage/OneDrive-Personal/project_lanfactory/LANfactory/notebooks/basic_tutorial_cpn.ipynb#Y206sZmlsZQ%3D%3D?line=7'>8</a>\u001b[0m     train_dl\u001b[39m=\u001b[39mtorch_training_dataloader,\n\u001b[1;32m      <a href='vscode-notebook-cell:/Users/afengler/Library/CloudStorage/OneDrive-Personal/project_lanfactory/LANfactory/notebooks/basic_tutorial_cpn.ipynb#Y206sZmlsZQ%3D%3D?line=8'>9</a>\u001b[0m     valid_dl\u001b[39m=\u001b[39mtorch_validation_dataloader,\n\u001b[1;32m     <a href='vscode-notebook-cell:/Users/afengler/Library/CloudStorage/OneDrive-Personal/project_lanfactory/LANfactory/notebooks/basic_tutorial_cpn.ipynb#Y206sZmlsZQ%3D%3D?line=9'>10</a>\u001b[0m     allow_abs_path_folder_generation\u001b[39m=\u001b[39m\u001b[39mFalse\u001b[39;00m,\n\u001b[1;32m     <a href='vscode-notebook-cell:/Users/afengler/Library/CloudStorage/OneDrive-Personal/project_lanfactory/LANfactory/notebooks/basic_tutorial_cpn.ipynb#Y206sZmlsZQ%3D%3D?line=10'>11</a>\u001b[0m     pin_memory\u001b[39m=\u001b[39m\u001b[39mTrue\u001b[39;00m,\n\u001b[1;32m     <a href='vscode-notebook-cell:/Users/afengler/Library/CloudStorage/OneDrive-Personal/project_lanfactory/LANfactory/notebooks/basic_tutorial_cpn.ipynb#Y206sZmlsZQ%3D%3D?line=11'>12</a>\u001b[0m     seed\u001b[39m=\u001b[39m\u001b[39mNone\u001b[39;00m,\n\u001b[1;32m     <a href='vscode-notebook-cell:/Users/afengler/Library/CloudStorage/OneDrive-Personal/project_lanfactory/LANfactory/notebooks/basic_tutorial_cpn.ipynb#Y206sZmlsZQ%3D%3D?line=12'>13</a>\u001b[0m )\n\u001b[1;32m     <a href='vscode-notebook-cell:/Users/afengler/Library/CloudStorage/OneDrive-Personal/project_lanfactory/LANfactory/notebooks/basic_tutorial_cpn.ipynb#Y206sZmlsZQ%3D%3D?line=14'>15</a>\u001b[0m \u001b[39m# model_trainer.train_model(save_history=True, save_model=True, verbose=0)\u001b[39;00m\n\u001b[1;32m     <a href='vscode-notebook-cell:/Users/afengler/Library/CloudStorage/OneDrive-Personal/project_lanfactory/LANfactory/notebooks/basic_tutorial_cpn.ipynb#Y206sZmlsZQ%3D%3D?line=15'>16</a>\u001b[0m model_trainer\u001b[39m.\u001b[39mtrain_and_evaluate(\n\u001b[1;32m     <a href='vscode-notebook-cell:/Users/afengler/Library/CloudStorage/OneDrive-Personal/project_lanfactory/LANfactory/notebooks/basic_tutorial_cpn.ipynb#Y206sZmlsZQ%3D%3D?line=16'>17</a>\u001b[0m     wandb_on\u001b[39m=\u001b[39m\u001b[39mFalse\u001b[39;00m,\n\u001b[1;32m     <a href='vscode-notebook-cell:/Users/afengler/Library/CloudStorage/OneDrive-Personal/project_lanfactory/LANfactory/notebooks/basic_tutorial_cpn.ipynb#Y206sZmlsZQ%3D%3D?line=17'>18</a>\u001b[0m     output_folder\u001b[39m=\u001b[39m\u001b[39m\"\u001b[39m\u001b[39mdata/torch_models/\u001b[39m\u001b[39m\"\u001b[39m \u001b[39m+\u001b[39m model \u001b[39m+\u001b[39m \u001b[39m\"\u001b[39m\u001b[39m_cpn\u001b[39m\u001b[39m\"\u001b[39m \u001b[39m+\u001b[39m \u001b[39m\"\u001b[39m\u001b[39m/\u001b[39m\u001b[39m\"\u001b[39m,\n\u001b[1;32m     <a href='vscode-notebook-cell:/Users/afengler/Library/CloudStorage/OneDrive-Personal/project_lanfactory/LANfactory/notebooks/basic_tutorial_cpn.ipynb#Y206sZmlsZQ%3D%3D?line=18'>19</a>\u001b[0m     output_file_id\u001b[39m=\u001b[39mmodel,\n\u001b[1;32m     <a href='vscode-notebook-cell:/Users/afengler/Library/CloudStorage/OneDrive-Personal/project_lanfactory/LANfactory/notebooks/basic_tutorial_cpn.ipynb#Y206sZmlsZQ%3D%3D?line=19'>20</a>\u001b[0m )\n",
      "\u001b[0;31mNameError\u001b[0m: name 'net' is not defined"
     ]
    }
   ],
   "source": [
    "# TRAIN MODEL\n",
    "n_epochs = 20\n",
    "train_config[\"n_epochs\"] = n_epochs\n",
    "\n",
    "model_trainer = lanfactory.trainers.ModelTrainerTorchMLP(\n",
    "    model=net,\n",
    "    train_config=train_config,\n",
    "    train_dl=torch_training_dataloader,\n",
    "    valid_dl=torch_validation_dataloader,\n",
    "    allow_abs_path_folder_generation=False,\n",
    "    pin_memory=True,\n",
    "    seed=None,\n",
    ")\n",
    "\n",
    "# model_trainer.train_model(save_history=True, save_model=True, verbose=0)\n",
    "model_trainer.train_and_evaluate(\n",
    "    wandb_on=False,\n",
    "    output_folder=\"data/torch_models/\" + model + \"_cpn\" + \"/\",\n",
    "    output_file_id=model,\n",
    ")\n",
    "# LOAD MODEL"
   ]
  },
  {
   "cell_type": "markdown",
   "metadata": {},
   "source": [
    "#### Load Model for Inference and Call"
   ]
  },
  {
   "cell_type": "markdown",
   "metadata": {},
   "source": [
    "The `LANfactory` provides some convenience functions to use networks for inference after training. \n",
    "We can load a model using the `LoadTorchMLPInfer` class, which then allows us to run fast inference via either\n",
    "a direct call, which expects a `torch.tensor` as input, or the `predict_on_batch` method, which expects a `numpy.array` \n",
    "of `dtype`, `np.float32`. "
   ]
  },
  {
   "cell_type": "code",
   "execution_count": 10,
   "metadata": {},
   "outputs": [
    {
     "name": "stdout",
     "output_type": "stream",
     "text": [
      "tanh\n",
      "tanh\n",
      "linear\n"
     ]
    }
   ],
   "source": [
    "network_path_list = os.listdir(\"data/torch_models/\" + model + \"_cpn\")\n",
    "network_file_path = [\n",
    "    \"data/torch_models/\" + model + \"_cpn\" + \"/\" + file_\n",
    "    for file_ in network_path_list\n",
    "    if \"state_dict\" in file_\n",
    "][0]\n",
    "\n",
    "network = lanfactory.trainers.LoadTorchMLPInfer(\n",
    "    model_file_path=network_file_path,\n",
    "    network_config=network_config,\n",
    "    input_dim=torch_training_dataset.input_dim,\n",
    ")"
   ]
  },
  {
   "cell_type": "code",
   "execution_count": 11,
   "metadata": {},
   "outputs": [
    {
     "data": {
      "text/plain": [
       "'data/torch_models/ddm_deadline_cpn/ddm_deadline_cpn_runid_train_state_dict_torch.pt'"
      ]
     },
     "execution_count": 11,
     "metadata": {},
     "output_type": "execute_result"
    }
   ],
   "source": [
    "network_file_path"
   ]
  },
  {
   "cell_type": "code",
   "execution_count": 12,
   "metadata": {},
   "outputs": [
    {
     "name": "stdout",
     "output_type": "stream",
     "text": [
      "direct call out:  tensor([-0.8193])\n",
      "predict_on_batch out:  [-0.8192596]\n"
     ]
    }
   ],
   "source": [
    "# Two ways to call the network\n",
    "\n",
    "# Direct call --> need tensor input\n",
    "direct_out = network(\n",
    "    torch.from_numpy(np.array([1, 1.5, 0.5, 1.0, 1], dtype=np.float32))\n",
    ")\n",
    "print(\"direct call out: \", direct_out)\n",
    "\n",
    "# predict_on_batch method\n",
    "predict_on_batch_out = network.predict_on_batch(\n",
    "    np.array([1, 1.5, 0.5, 1.0, 1], dtype=np.float32)\n",
    ")\n",
    "print(\"predict_on_batch out: \", predict_on_batch_out)"
   ]
  },
  {
   "cell_type": "markdown",
   "metadata": {},
   "source": [
    "#### A peek into the first passage distribution computed by the network\n",
    "\n",
    "We can compare the learned likelihood function in our `network` with simulation data from the underlying generative model.\n",
    "For this purpose we recruit the [`ssms`](https://github.com/AlexanderFengler/ssm_simulators) package again."
   ]
  },
  {
   "cell_type": "code",
   "execution_count": 13,
   "metadata": {},
   "outputs": [
    {
     "name": "stderr",
     "output_type": "stream",
     "text": [
      "/Users/afengler/Library/CloudStorage/OneDrive-Personal/proj_ssm_simulators/ssm-simulators/ssms/basic_simulators/simulator.py:399: UserWarning: Deadline model request, and theta not supplied as dict.Make sure to supply the deadline parameters in last position!\n",
      "  warnings.warn(\n"
     ]
    }
   ],
   "source": [
    "import pandas as pd\n",
    "import matplotlib.pyplot as plt\n",
    "from ssms.basic_simulators.simulator import simulator\n",
    "\n",
    "data = pd.DataFrame(\n",
    "    np.zeros((2000, 5), dtype=np.float32),\n",
    "    columns=[\"v\", \"a\", \"z\", \"t\", \"deadline\"],\n",
    ")\n",
    "data[\"v\"] = np.linspace(-2.0, 2.0, 2000)\n",
    "data[\"a\"] = 1.5\n",
    "data[\"z\"] = 0.5\n",
    "data[\"t\"] = 0.2\n",
    "# data[\"theta\"] = 0.1\n",
    "data[\"deadline\"] = 2.0\n",
    "\n",
    "# Network predictions\n",
    "network_predictions = []\n",
    "\n",
    "# Simulations\n",
    "choice_p_vec = np.zeros((10, 20))  # np.zeros(20, 20)\n",
    "for i, deadline in enumerate(np.linspace(0.5, 2.5, 10)):\n",
    "    data[\"v\"] = np.linspace(-2.0, 2.0, 2000)\n",
    "    data[\"deadline\"] = deadline\n",
    "    network_predictions.append(network.predict_on_batch(data.values.astype(np.float32)))\n",
    "    for j, v in enumerate(np.linspace(-2.0, 2.0, 20)):\n",
    "        data[\"v\"] = v\n",
    "        sim_out = simulator(model=model, theta=data.values[0, :], n_samples=10000)\n",
    "        choice_p_vec[i, j] = sim_out[\"choice_p\"][0, 0]"
   ]
  },
  {
   "cell_type": "code",
   "execution_count": 14,
   "metadata": {},
   "outputs": [
    {
     "data": {
      "text/plain": [
       "Text(0, 0.5, 'likelihod')"
      ]
     },
     "execution_count": 14,
     "metadata": {},
     "output_type": "execute_result"
    },
    {
     "data": {
      "image/png": "[encoded data removed]",
      "text/plain": [
       "<Figure size 640x480 with 1 Axes>"
      ]
     },
     "metadata": {},
     "output_type": "display_data"
    }
   ],
   "source": [
    "# Plot network predictions\n",
    "# Plot simulations\n",
    "for i in range(10):\n",
    "    plt.plot(\n",
    "        np.linspace(-2, 2, 2000),\n",
    "        np.exp(network_predictions[i][:, 0]),\n",
    "        color=\"black\",\n",
    "        label=None if i > 0 else \"network\",\n",
    "        alpha=i / 20,\n",
    "    )\n",
    "\n",
    "    plt.plot(\n",
    "        np.linspace(-2, 2, 20),\n",
    "        np.array(choice_p_vec[i, :]),\n",
    "        color=\"red\",\n",
    "        label=None if i > 0 else \"simulations\",\n",
    "        alpha=i / 20,\n",
    "    )\n",
    "\n",
    "plt.legend()\n",
    "plt.title(\"SSM likelihood\")\n",
    "plt.xlabel(\"rt\")\n",
    "plt.ylabel(\"likelihod\")"
   ]
  },
  {
   "cell_type": "code",
   "execution_count": null,
   "metadata": {},
   "outputs": [
    {
     "name": "stderr",
     "output_type": "stream",
     "text": [
      "/var/folders/gx/s43vynx550qbypcxm83fv56dzq4hgg/T/ipykernel_25238/1241343318.py:13: SettingWithCopyWarning: \n",
      "A value is trying to be set on a copy of a slice from a DataFrame\n",
      "\n",
      "See the caveats in the documentation: https://pandas.pydata.org/pandas-docs/stable/user_guide/indexing.html#returning-a-view-versus-a-copy\n",
      "  data[\"rt\"].iloc[:1000] = np.linspace(20, 0, 1000)\n",
      "/var/folders/gx/s43vynx550qbypcxm83fv56dzq4hgg/T/ipykernel_25238/1241343318.py:13: FutureWarning: Setting an item of incompatible dtype is deprecated and will raise in a future error of pandas. Value '[20.         19.97997998 19.95995996 19.93993994 19.91991992 19.8998999\n",
      " 19.87987988 19.85985986 19.83983984 19.81981982 19.7997998  19.77977978\n",
      " 19.75975976 19.73973974 19.71971972 19.6996997  19.67967968 19.65965966\n",
      " 19.63963964 19.61961962 19.5995996  19.57957958 19.55955956 19.53953954\n",
      " 19.51951952 19.4994995  19.47947948 19.45945946 19.43943944 19.41941942\n",
      " 19.3993994  19.37937938 19.35935936 19.33933934 19.31931932 19.2992993\n",
      " 19.27927928 19.25925926 19.23923924 19.21921922 19.1991992  19.17917918\n",
      " 19.15915916 19.13913914 19.11911912 19.0990991  19.07907908 19.05905906\n",
      " 19.03903904 19.01901902 18.998999   18.97897898 18.95895896 18.93893894\n",
      " 18.91891892 18.8988989  18.87887888 18.85885886 18.83883884 18.81881882\n",
      " 18.7987988  18.77877878 18.75875876 18.73873874 18.71871872 18.6986987\n",
      " 18.67867868 18.65865866 18.63863864 18.61861862 18.5985986  18.57857858\n",
      " 18.55855856 18.53853854 18.51851852 18.4984985  18.47847848 18.45845846\n",
      " 18.43843844 18.41841842 18.3983984  18.37837838 18.35835836 18.33833834\n",
      " 18.31831832 18.2982983  18.27827828 18.25825826 18.23823824 18.21821822\n",
      " 18.1981982  18.17817818 18.15815816 18.13813814 18.11811812 18.0980981\n",
      " 18.07807808 18.05805806 18.03803804 18.01801802 17.997998   17.97797798\n",
      " 17.95795796 17.93793794 17.91791792 17.8978979  17.87787788 17.85785786\n",
      " 17.83783784 17.81781782 17.7977978  17.77777778 17.75775776 17.73773774\n",
      " 17.71771772 17.6976977  17.67767768 17.65765766 17.63763764 17.61761762\n",
      " 17.5975976  17.57757758 17.55755756 17.53753754 17.51751752 17.4974975\n",
      " 17.47747748 17.45745746 17.43743744 17.41741742 17.3973974  17.37737738\n",
      " 17.35735736 17.33733734 17.31731732 17.2972973  17.27727728 17.25725726\n",
      " 17.23723724 17.21721722 17.1971972  17.17717718 17.15715716 17.13713714\n",
      " 17.11711712 17.0970971  17.07707708 17.05705706 17.03703704 17.01701702\n",
      " 16.996997   16.97697698 16.95695696 16.93693694 16.91691692 16.8968969\n",
      " 16.87687688 16.85685686 16.83683684 16.81681682 16.7967968  16.77677678\n",
      " 16.75675676 16.73673674 16.71671672 16.6966967  16.67667668 16.65665666\n",
      " 16.63663664 16.61661662 16.5965966  16.57657658 16.55655656 16.53653654\n",
      " 16.51651652 16.4964965  16.47647648 16.45645646 16.43643644 16.41641642\n",
      " 16.3963964  16.37637638 16.35635636 16.33633634 16.31631632 16.2962963\n",
      " 16.27627628 16.25625626 16.23623624 16.21621622 16.1961962  16.17617618\n",
      " 16.15615616 16.13613614 16.11611612 16.0960961  16.07607608 16.05605606\n",
      " 16.03603604 16.01601602 15.995996   15.97597598 15.95595596 15.93593594\n",
      " 15.91591592 15.8958959  15.87587588 15.85585586 15.83583584 15.81581582\n",
      " 15.7957958  15.77577578 15.75575576 15.73573574 15.71571572 15.6956957\n",
      " 15.67567568 15.65565566 15.63563564 15.61561562 15.5955956  15.57557558\n",
      " 15.55555556 15.53553554 15.51551552 15.4954955  15.47547548 15.45545546\n",
      " 15.43543544 15.41541542 15.3953954  15.37537538 15.35535536 15.33533534\n",
      " 15.31531532 15.2952953  15.27527528 15.25525526 15.23523524 15.21521522\n",
      " 15.1951952  15.17517518 15.15515516 15.13513514 15.11511512 15.0950951\n",
      " 15.07507508 15.05505506 15.03503504 15.01501502 14.99499499 14.97497497\n",
      " 14.95495495 14.93493493 14.91491491 14.89489489 14.87487487 14.85485485\n",
      " 14.83483483 14.81481481 14.79479479 14.77477477 14.75475475 14.73473473\n",
      " 14.71471471 14.69469469 14.67467467 14.65465465 14.63463463 14.61461461\n",
      " 14.59459459 14.57457457 14.55455455 14.53453453 14.51451451 14.49449449\n",
      " 14.47447447 14.45445445 14.43443443 14.41441441 14.39439439 14.37437437\n",
      " 14.35435435 14.33433433 14.31431431 14.29429429 14.27427427 14.25425425\n",
      " 14.23423423 14.21421421 14.19419419 14.17417417 14.15415415 14.13413413\n",
      " 14.11411411 14.09409409 14.07407407 14.05405405 14.03403403 14.01401401\n",
      " 13.99399399 13.97397397 13.95395395 13.93393393 13.91391391 13.89389389\n",
      " 13.87387387 13.85385385 13.83383383 13.81381381 13.79379379 13.77377377\n",
      " 13.75375375 13.73373373 13.71371371 13.69369369 13.67367367 13.65365365\n",
      " 13.63363363 13.61361361 13.59359359 13.57357357 13.55355355 13.53353353\n",
      " 13.51351351 13.49349349 13.47347347 13.45345345 13.43343343 13.41341341\n",
      " 13.39339339 13.37337337 13.35335335 13.33333333 13.31331331 13.29329329\n",
      " 13.27327327 13.25325325 13.23323323 13.21321321 13.19319319 13.17317317\n",
      " 13.15315315 13.13313313 13.11311311 13.09309309 13.07307307 13.05305305\n",
      " 13.03303303 13.01301301 12.99299299 12.97297297 12.95295295 12.93293293\n",
      " 12.91291291 12.89289289 12.87287287 12.85285285 12.83283283 12.81281281\n",
      " 12.79279279 12.77277277 12.75275275 12.73273273 12.71271271 12.69269269\n",
      " 12.67267267 12.65265265 12.63263263 12.61261261 12.59259259 12.57257257\n",
      " 12.55255255 12.53253253 12.51251251 12.49249249 12.47247247 12.45245245\n",
      " 12.43243243 12.41241241 12.39239239 12.37237237 12.35235235 12.33233233\n",
      " 12.31231231 12.29229229 12.27227227 12.25225225 12.23223223 12.21221221\n",
      " 12.19219219 12.17217217 12.15215215 12.13213213 12.11211211 12.09209209\n",
      " 12.07207207 12.05205205 12.03203203 12.01201201 11.99199199 11.97197197\n",
      " 11.95195195 11.93193193 11.91191191 11.89189189 11.87187187 11.85185185\n",
      " 11.83183183 11.81181181 11.79179179 11.77177177 11.75175175 11.73173173\n",
      " 11.71171171 11.69169169 11.67167167 11.65165165 11.63163163 11.61161161\n",
      " 11.59159159 11.57157157 11.55155155 11.53153153 11.51151151 11.49149149\n",
      " 11.47147147 11.45145145 11.43143143 11.41141141 11.39139139 11.37137137\n",
      " 11.35135135 11.33133133 11.31131131 11.29129129 11.27127127 11.25125125\n",
      " 11.23123123 11.21121121 11.19119119 11.17117117 11.15115115 11.13113113\n",
      " 11.11111111 11.09109109 11.07107107 11.05105105 11.03103103 11.01101101\n",
      " 10.99099099 10.97097097 10.95095095 10.93093093 10.91091091 10.89089089\n",
      " 10.87087087 10.85085085 10.83083083 10.81081081 10.79079079 10.77077077\n",
      " 10.75075075 10.73073073 10.71071071 10.69069069 10.67067067 10.65065065\n",
      " 10.63063063 10.61061061 10.59059059 10.57057057 10.55055055 10.53053053\n",
      " 10.51051051 10.49049049 10.47047047 10.45045045 10.43043043 10.41041041\n",
      " 10.39039039 10.37037037 10.35035035 10.33033033 10.31031031 10.29029029\n",
      " 10.27027027 10.25025025 10.23023023 10.21021021 10.19019019 10.17017017\n",
      " 10.15015015 10.13013013 10.11011011 10.09009009 10.07007007 10.05005005\n",
      " 10.03003003 10.01001001  9.98998999  9.96996997  9.94994995  9.92992993\n",
      "  9.90990991  9.88988989  9.86986987  9.84984985  9.82982983  9.80980981\n",
      "  9.78978979  9.76976977  9.74974975  9.72972973  9.70970971  9.68968969\n",
      "  9.66966967  9.64964965  9.62962963  9.60960961  9.58958959  9.56956957\n",
      "  9.54954955  9.52952953  9.50950951  9.48948949  9.46946947  9.44944945\n",
      "  9.42942943  9.40940941  9.38938939  9.36936937  9.34934935  9.32932933\n",
      "  9.30930931  9.28928929  9.26926927  9.24924925  9.22922923  9.20920921\n",
      "  9.18918919  9.16916917  9.14914915  9.12912913  9.10910911  9.08908909\n",
      "  9.06906907  9.04904905  9.02902903  9.00900901  8.98898899  8.96896897\n",
      "  8.94894895  8.92892893  8.90890891  8.88888889  8.86886887  8.84884885\n",
      "  8.82882883  8.80880881  8.78878879  8.76876877  8.74874875  8.72872873\n",
      "  8.70870871  8.68868869  8.66866867  8.64864865  8.62862863  8.60860861\n",
      "  8.58858859  8.56856857  8.54854855  8.52852853  8.50850851  8.48848849\n",
      "  8.46846847  8.44844845  8.42842843  8.40840841  8.38838839  8.36836837\n",
      "  8.34834835  8.32832833  8.30830831  8.28828829  8.26826827  8.24824825\n",
      "  8.22822823  8.20820821  8.18818819  8.16816817  8.14814815  8.12812813\n",
      "  8.10810811  8.08808809  8.06806807  8.04804805  8.02802803  8.00800801\n",
      "  7.98798799  7.96796797  7.94794795  7.92792793  7.90790791  7.88788789\n",
      "  7.86786787  7.84784785  7.82782783  7.80780781  7.78778779  7.76776777\n",
      "  7.74774775  7.72772773  7.70770771  7.68768769  7.66766767  7.64764765\n",
      "  7.62762763  7.60760761  7.58758759  7.56756757  7.54754755  7.52752753\n",
      "  7.50750751  7.48748749  7.46746747  7.44744745  7.42742743  7.40740741\n",
      "  7.38738739  7.36736737  7.34734735  7.32732733  7.30730731  7.28728729\n",
      "  7.26726727  7.24724725  7.22722723  7.20720721  7.18718719  7.16716717\n",
      "  7.14714715  7.12712713  7.10710711  7.08708709  7.06706707  7.04704705\n",
      "  7.02702703  7.00700701  6.98698699  6.96696697  6.94694695  6.92692693\n",
      "  6.90690691  6.88688689  6.86686687  6.84684685  6.82682683  6.80680681\n",
      "  6.78678679  6.76676677  6.74674675  6.72672673  6.70670671  6.68668669\n",
      "  6.66666667  6.64664665  6.62662663  6.60660661  6.58658659  6.56656657\n",
      "  6.54654655  6.52652653  6.50650651  6.48648649  6.46646647  6.44644645\n",
      "  6.42642643  6.40640641  6.38638639  6.36636637  6.34634635  6.32632633\n",
      "  6.30630631  6.28628629  6.26626627  6.24624625  6.22622623  6.20620621\n",
      "  6.18618619  6.16616617  6.14614615  6.12612613  6.10610611  6.08608609\n",
      "  6.06606607  6.04604605  6.02602603  6.00600601  5.98598599  5.96596597\n",
      "  5.94594595  5.92592593  5.90590591  5.88588589  5.86586587  5.84584585\n",
      "  5.82582583  5.80580581  5.78578579  5.76576577  5.74574575  5.72572573\n",
      "  5.70570571  5.68568569  5.66566567  5.64564565  5.62562563  5.60560561\n",
      "  5.58558559  5.56556557  5.54554555  5.52552553  5.50550551  5.48548549\n",
      "  5.46546547  5.44544545  5.42542543  5.40540541  5.38538539  5.36536537\n",
      "  5.34534535  5.32532533  5.30530531  5.28528529  5.26526527  5.24524525\n",
      "  5.22522523  5.20520521  5.18518519  5.16516517  5.14514515  5.12512513\n",
      "  5.10510511  5.08508509  5.06506507  5.04504505  5.02502503  5.00500501\n",
      "  4.98498498  4.96496496  4.94494494  4.92492492  4.9049049   4.88488488\n",
      "  4.86486486  4.84484484  4.82482482  4.8048048   4.78478478  4.76476476\n",
      "  4.74474474  4.72472472  4.7047047   4.68468468  4.66466466  4.64464464\n",
      "  4.62462462  4.6046046   4.58458458  4.56456456  4.54454454  4.52452452\n",
      "  4.5045045   4.48448448  4.46446446  4.44444444  4.42442442  4.4044044\n",
      "  4.38438438  4.36436436  4.34434434  4.32432432  4.3043043   4.28428428\n",
      "  4.26426426  4.24424424  4.22422422  4.2042042   4.18418418  4.16416416\n",
      "  4.14414414  4.12412412  4.1041041   4.08408408  4.06406406  4.04404404\n",
      "  4.02402402  4.004004    3.98398398  3.96396396  3.94394394  3.92392392\n",
      "  3.9039039   3.88388388  3.86386386  3.84384384  3.82382382  3.8038038\n",
      "  3.78378378  3.76376376  3.74374374  3.72372372  3.7037037   3.68368368\n",
      "  3.66366366  3.64364364  3.62362362  3.6036036   3.58358358  3.56356356\n",
      "  3.54354354  3.52352352  3.5035035   3.48348348  3.46346346  3.44344344\n",
      "  3.42342342  3.4034034   3.38338338  3.36336336  3.34334334  3.32332332\n",
      "  3.3033033   3.28328328  3.26326326  3.24324324  3.22322322  3.2032032\n",
      "  3.18318318  3.16316316  3.14314314  3.12312312  3.1031031   3.08308308\n",
      "  3.06306306  3.04304304  3.02302302  3.003003    2.98298298  2.96296296\n",
      "  2.94294294  2.92292292  2.9029029   2.88288288  2.86286286  2.84284284\n",
      "  2.82282282  2.8028028   2.78278278  2.76276276  2.74274274  2.72272272\n",
      "  2.7027027   2.68268268  2.66266266  2.64264264  2.62262262  2.6026026\n",
      "  2.58258258  2.56256256  2.54254254  2.52252252  2.5025025   2.48248248\n",
      "  2.46246246  2.44244244  2.42242242  2.4024024   2.38238238  2.36236236\n",
      "  2.34234234  2.32232232  2.3023023   2.28228228  2.26226226  2.24224224\n",
      "  2.22222222  2.2022022   2.18218218  2.16216216  2.14214214  2.12212212\n",
      "  2.1021021   2.08208208  2.06206206  2.04204204  2.02202202  2.002002\n",
      "  1.98198198  1.96196196  1.94194194  1.92192192  1.9019019   1.88188188\n",
      "  1.86186186  1.84184184  1.82182182  1.8018018   1.78178178  1.76176176\n",
      "  1.74174174  1.72172172  1.7017017   1.68168168  1.66166166  1.64164164\n",
      "  1.62162162  1.6016016   1.58158158  1.56156156  1.54154154  1.52152152\n",
      "  1.5015015   1.48148148  1.46146146  1.44144144  1.42142142  1.4014014\n",
      "  1.38138138  1.36136136  1.34134134  1.32132132  1.3013013   1.28128128\n",
      "  1.26126126  1.24124124  1.22122122  1.2012012   1.18118118  1.16116116\n",
      "  1.14114114  1.12112112  1.1011011   1.08108108  1.06106106  1.04104104\n",
      "  1.02102102  1.001001    0.98098098  0.96096096  0.94094094  0.92092092\n",
      "  0.9009009   0.88088088  0.86086086  0.84084084  0.82082082  0.8008008\n",
      "  0.78078078  0.76076076  0.74074074  0.72072072  0.7007007   0.68068068\n",
      "  0.66066066  0.64064064  0.62062062  0.6006006   0.58058058  0.56056056\n",
      "  0.54054054  0.52052052  0.5005005   0.48048048  0.46046046  0.44044044\n",
      "  0.42042042  0.4004004   0.38038038  0.36036036  0.34034034  0.32032032\n",
      "  0.3003003   0.28028028  0.26026026  0.24024024  0.22022022  0.2002002\n",
      "  0.18018018  0.16016016  0.14014014  0.12012012  0.1001001   0.08008008\n",
      "  0.06006006  0.04004004  0.02002002  0.        ]' has dtype incompatible with float32, please explicitly cast to a compatible dtype first.\n",
      "  data[\"rt\"].iloc[:1000] = np.linspace(20, 0, 1000)\n",
      "/var/folders/gx/s43vynx550qbypcxm83fv56dzq4hgg/T/ipykernel_25238/1241343318.py:15: SettingWithCopyWarning: \n",
      "A value is trying to be set on a copy of a slice from a DataFrame\n",
      "\n",
      "See the caveats in the documentation: https://pandas.pydata.org/pandas-docs/stable/user_guide/indexing.html#returning-a-view-versus-a-copy\n",
      "  data[\"choice\"].iloc[:1000] = -1\n",
      "/var/folders/gx/s43vynx550qbypcxm83fv56dzq4hgg/T/ipykernel_25238/1241343318.py:16: SettingWithCopyWarning: \n",
      "A value is trying to be set on a copy of a slice from a DataFrame\n",
      "\n",
      "See the caveats in the documentation: https://pandas.pydata.org/pandas-docs/stable/user_guide/indexing.html#returning-a-view-versus-a-copy\n",
      "  data[\"choice\"].iloc[1000:] = 1\n"
     ]
    }
   ],
   "source": [
    "import pandas as pd\n",
    "import matplotlib.pyplot as plt\n",
    "\n",
    "data = pd.DataFrame(\n",
    "    np.zeros((2000, 7), dtype=np.float32),\n",
    "    columns=[\"v\", \"a\", \"z\", \"t\", \"theta\", \"rt\", \"choice\"],\n",
    ")\n",
    "data[\"v\"] = 0.5\n",
    "data[\"a\"] = 0.75\n",
    "data[\"z\"] = 0.5\n",
    "data[\"t\"] = 0.2\n",
    "data[\"theta\"] = 0.1\n",
    "data[\"rt\"].iloc[:1000] = np.linspace(20, 0, 1000)\n",
    "data[\"rt\"].iloc[1000:] = np.linspace(0, 20, 1000)\n",
    "data[\"choice\"].iloc[:1000] = -1\n",
    "data[\"choice\"].iloc[1000:] = 1\n",
    "\n",
    "# Network predictions\n",
    "predict_on_batch_out = network.predict_on_batch(data.values.astype(np.float32))\n",
    "\n",
    "# Simulations\n",
    "from ssms.basic_simulators.simulator import simulator\n",
    "\n",
    "sim_out = simulator(model=\"angle\", theta=data.values[0, :-2], n_samples=2000)"
   ]
  },
  {
   "cell_type": "code",
   "execution_count": null,
   "metadata": {},
   "outputs": [
    {
     "data": {
      "text/plain": [
       "Text(0, 0.5, 'likelihod')"
      ]
     },
     "execution_count": 17,
     "metadata": {},
     "output_type": "execute_result"
    },
    {
     "data": {
      "image/png": "[encoded data removed]",
      "text/plain": [
       "<Figure size 640x480 with 1 Axes>"
      ]
     },
     "metadata": {},
     "output_type": "display_data"
    }
   ],
   "source": [
    "# Plot network predictions\n",
    "plt.plot(\n",
    "    data[\"rt\"] * data[\"choice\"],\n",
    "    predict_on_batch_out,\n",
    "    color=\"black\",\n",
    "    label=\"network\",\n",
    ")\n",
    "\n",
    "# Plot simulations\n",
    "# plt.hist(\n",
    "#     sim_out[\"rts\"] * sim_out[\"choices\"],\n",
    "#     bins=100,\n",
    "#     histtype=\"step\",\n",
    "#     label=\"simulations\",\n",
    "#     color=\"blue\",\n",
    "#     density=True,\n",
    "# )\n",
    "plt.legend()\n",
    "plt.title(\"SSM likelihood\")\n",
    "plt.xlabel(\"rt\")\n",
    "plt.ylabel(\"likelihod\")"
   ]
  },
  {
   "cell_type": "markdown",
   "metadata": {},
   "source": [
    "We hope this package may be helpful in case you attempt to train [LANs](https://elifesciences.org/articles/65074) for your own research."
   ]
  },
  {
   "cell_type": "markdown",
   "metadata": {},
   "source": [
    "#### END"
   ]
  }
 ],
 "metadata": {
  "kernelspec": {
   "display_name": "Python 3.8.10 ('cssm')",
   "language": "python",
   "name": "python3"
  },
  "language_info": {
   "codemirror_mode": {
    "name": "ipython",
    "version": 3
   },
   "file_extension": ".py",
   "mimetype": "text/x-python",
   "name": "python",
   "nbconvert_exporter": "python",
   "pygments_lexer": "ipython3",
   "version": "3.10.12"
  },
  "orig_nbformat": 4,
  "vscode": {
   "interpreter": {
    "hash": "c2404e761a8d4e2a34f63613cf4c9a9997cd3109cabb959a7904b2035989131a"
   }
  }
 },
 "nbformat": 4,
 "nbformat_minor": 2
}
