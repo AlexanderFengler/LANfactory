{
 "cells": [
  {
   "cell_type": "markdown",
   "metadata": {},
   "source": [
    "### Basic Tutorial: Jax Version"
   ]
  },
  {
   "cell_type": "markdown",
   "metadata": {},
   "source": [
    "\n",
    "The `LANfactory` package is a light-weight convenience package for training `likelihood approximation networks` (LANs) in torch (or keras), \n",
    "starting from supplied training data.\n",
    "\n",
    "[LANs](https://elifesciences.org/articles/65074), although more general in potential scope of applications, were conceived in the context of sequential sampling modeling\n",
    "to account for cognitive processes giving rise to *choice* and *reaction time* data in *n-alternative forced choice experiments* commonly encountered in the cognitive sciences.\n",
    "\n",
    "In this quick tutorial we will use the [`ssms`](https://github.com/AlexanderFengler/ssm_simulators) package to generate our training data using such a sequential sampling model (SSM). The use of of the `LANfactory` package is in no way bound to utilize this `ssms` package."
   ]
  },
  {
   "cell_type": "markdown",
   "metadata": {},
   "source": [
    "#### Install\n",
    "\n",
    "To install the `ssms` package type,\n",
    "\n",
    "`pip install git+https://github.com/AlexanderFengler/ssm_simulators`\n",
    "\n",
    "To install the `LANfactory` package type,\n",
    "\n",
    "`pip install git+https://github.com/AlexanderFengler/LANfactory`\n",
    "\n",
    "Necessary dependency should be installed automatically in the process."
   ]
  },
  {
   "cell_type": "code",
   "execution_count": 43,
   "metadata": {},
   "outputs": [],
   "source": [
    "import ssms\n",
    "import lanfactory\n",
    "import os\n",
    "import numpy as np\n",
    "from copy import deepcopy\n",
    "import torch\n",
    "import pickle"
   ]
  },
  {
   "cell_type": "code",
   "execution_count": 44,
   "metadata": {},
   "outputs": [],
   "source": [
    "MODEL = \"angle\"\n",
    "RUN_SIMS = False\n",
    "DEVICE = \"cpu\""
   ]
  },
  {
   "cell_type": "code",
   "execution_count": 46,
   "metadata": {},
   "outputs": [],
   "source": [
    "# MAKE CONFIGS\n",
    "model = MODEL\n",
    "# Initialize the generator config (for MLP LANs)\n",
    "generator_config = deepcopy(ssms.config.data_generator_config[\"lan\"])\n",
    "# Specify generative model (one from the list of included models mentioned above)\n",
    "generator_config[\"model\"] = model\n",
    "# Specify number of parameter sets to simulate\n",
    "generator_config[\"n_parameter_sets\"] = 256\n",
    "# Specify how many samples a simulation run should entail\n",
    "generator_config[\"n_samples\"] = 1000\n",
    "# Specify folder in which to save generated data\n",
    "generator_config[\"output_folder\"] = \"data/lan_mlp/\" + model + \"/\"\n",
    "\n",
    "# Make model config dict\n",
    "model_config = ssms.config.model_config[model]"
   ]
  },
  {
   "cell_type": "code",
   "execution_count": 49,
   "metadata": {},
   "outputs": [],
   "source": [
    "# MAKE DATA\n",
    "if RUN_SIMS:\n",
    "    n_datafiles = 10\n",
    "    for i in range(n_datafiles):\n",
    "        my_dataset_generator = ssms.dataset_generators.lan_mlp.data_generator(\n",
    "            generator_config=generator_config, model_config=model_config\n",
    "        )\n",
    "        training_data = my_dataset_generator.generate_data_training_uniform(save=True)"
   ]
  },
  {
   "cell_type": "code",
   "execution_count": 51,
   "metadata": {},
   "outputs": [
    {
     "name": "stdout",
     "output_type": "stream",
     "text": [
      "Network config: \n",
      "{'layer_sizes': [100, 100, 100, 1], 'activations': ['tanh', 'tanh', 'tanh', 'linear'], 'train_output_type': 'logprob'}\n",
      "Train config: \n",
      "{'cpu_batch_size': 128, 'gpu_batch_size': 256, 'n_epochs': 5, 'optimizer': 'adam', 'learning_rate': 2e-06, 'lr_scheduler': 'reduce_on_plateau', 'lr_scheduler_params': {}, 'weight_decay': 0.0, 'loss': 'huber', 'save_history': True}\n"
     ]
    }
   ],
   "source": [
    "from copy import deepcopy\n",
    "\n",
    "network_config = deepcopy(lanfactory.config.network_configs.network_config_mlp)\n",
    "network_config[\"layer_sizes\"] = [100, 100, 100, 1]\n",
    "network_config[\"activations\"] = [\"tanh\", \"tanh\", \"tanh\", \"linear\"]\n",
    "\n",
    "print(\"Network config: \")\n",
    "print(network_config)\n",
    "\n",
    "train_config = deepcopy(lanfactory.config.network_configs.train_config_mlp)\n",
    "train_config[\"learning_rate\"] = 0.000002\n",
    "\n",
    "print(\"Train config: \")\n",
    "print(train_config)"
   ]
  },
  {
   "cell_type": "code",
   "execution_count": 52,
   "metadata": {},
   "outputs": [
    {
     "data": {
      "text/plain": [
       "{'layer_sizes': [100, 100, 100, 1],\n",
       " 'activations': ['tanh', 'tanh', 'tanh', 'linear'],\n",
       " 'train_output_type': 'logprob'}"
      ]
     },
     "execution_count": 52,
     "metadata": {},
     "output_type": "execute_result"
    }
   ],
   "source": [
    "network_config"
   ]
  },
  {
   "cell_type": "code",
   "execution_count": 53,
   "metadata": {},
   "outputs": [],
   "source": [
    "train_config[\"cpu_batch_size\"] = 128\n",
    "train_config[\"gpu_batch_size\"] = 256\n",
    "train_config[\"n_epochs\"] = 5"
   ]
  },
  {
   "cell_type": "code",
   "execution_count": 54,
   "metadata": {},
   "outputs": [
    {
     "data": {
      "text/plain": [
       "{'cpu_batch_size': 128,\n",
       " 'gpu_batch_size': 256,\n",
       " 'n_epochs': 5,\n",
       " 'optimizer': 'adam',\n",
       " 'learning_rate': 2e-06,\n",
       " 'lr_scheduler': 'reduce_on_plateau',\n",
       " 'lr_scheduler_params': {},\n",
       " 'weight_decay': 0.0,\n",
       " 'loss': 'huber',\n",
       " 'save_history': True}"
      ]
     },
     "execution_count": 54,
     "metadata": {},
     "output_type": "execute_result"
    }
   ],
   "source": [
    "train_config"
   ]
  },
  {
   "cell_type": "markdown",
   "metadata": {},
   "source": [
    "#### Prepare for Training\n",
    "\n",
    "Next we set up dataloaders for training with pytorch. The `LANfactory` uses custom dataloaders, taking into account particularities of the expected training data.\n",
    "Specifically, we expect to receive a bunch of training data files (the present example generates only one), where each file hosts a large number of training examples. \n",
    "So we want to define a dataloader which spits out batches from data with a specific training data file, and keeps checking when to load in a new file. \n",
    "The way this is implemented here, is via the `DatasetTorch` class in `lanfactory.trainers`, which inherits from `torch.utils.data.Dataset` and prespecifies a `batch_size`. Finally this is supplied to a [`DataLoader`](https://pytorch.org/docs/stable/data.html), for which we keep the `batch_size` argument at 0.\n",
    "\n",
    "The `DatasetTorch` class is then called as an iterator via the DataLoader and takes care of batching as well as file loading internally. \n",
    "\n",
    "You may choose your own way of defining the `DataLoader` classes, downstream you are simply expected to supply one."
   ]
  },
  {
   "cell_type": "code",
   "execution_count": 74,
   "metadata": {},
   "outputs": [],
   "source": [
    "folder_ = os.path.join(\"data\", \"lan_mlp\", MODEL)\n",
    "file_list_ = [folder_ + '/' + file_ for file_ in os.listdir(folder_)]\n",
    "\n",
    "# Training dataset\n",
    "jax_training_dataset = lanfactory.trainers.DatasetTorch(\n",
    "    file_ids=file_list_,\n",
    "    batch_size=(\n",
    "        train_config[DEVICE + \"_batch_size\"]\n",
    "        if torch.cuda.is_available()\n",
    "        else train_config[DEVICE + \"_batch_size\"]\n",
    "    ),\n",
    "    label_lower_bound=np.log(1e-10),\n",
    "    features_key=\"lan_data\",\n",
    "    label_key=\"lan_labels\",\n",
    "    out_framework=\"jax\",\n",
    ")\n",
    "\n",
    "jax_training_dataloader = torch.utils.data.DataLoader(\n",
    "    jax_training_dataset, shuffle=True, batch_size=None, num_workers=1, pin_memory=True\n",
    ")\n",
    "\n",
    "# Validation dataset\n",
    "jax_validation_dataset = lanfactory.trainers.DatasetTorch(\n",
    "    file_ids=file_list_,\n",
    "    batch_size=(\n",
    "        train_config[DEVICE + \"_batch_size\"]\n",
    "        if torch.cuda.is_available()\n",
    "        else train_config[DEVICE + \"_batch_size\"]\n",
    "    ),\n",
    "    label_lower_bound=np.log(1e-10),\n",
    "    features_key=\"lan_data\",\n",
    "    label_key=\"lan_labels\",\n",
    "    out_framework=\"jax\",\n",
    ")\n",
    "\n",
    "jax_validation_dataloader = torch.utils.data.DataLoader(\n",
    "    jax_validation_dataset,\n",
    "    shuffle=True,\n",
    "    batch_size=None,\n",
    "    num_workers=1,\n",
    "    pin_memory=True,\n",
    ")"
   ]
  },
  {
   "cell_type": "markdown",
   "metadata": {},
   "source": [
    "#### Define Network"
   ]
  },
  {
   "cell_type": "code",
   "execution_count": 75,
   "metadata": {},
   "outputs": [],
   "source": [
    "# LOAD NETWORK\n",
    "jax_net = lanfactory.trainers.MLPJaxFactory(network_config=network_config, train=True)\n",
    "\n",
    "# Save model config\n",
    "model_folder = os.path.join(\"data\", \"jax_models\", MODEL)\n",
    "os.makedirs(model_folder, exist_ok = True)\n",
    "\n",
    "pickle.dump(\n",
    "    network_config,\n",
    "    open(os.path.join(model_folder,\n",
    "\t\t\t\t\t  \"jax_network_config.pickle\"), \"wb\")\n",
    "\t\t)"
   ]
  },
  {
   "cell_type": "markdown",
   "metadata": {},
   "source": [
    "#### Train "
   ]
  },
  {
   "cell_type": "code",
   "execution_count": 76,
   "metadata": {},
   "outputs": [],
   "source": [
    "jax_trainer = lanfactory.trainers.ModelTrainerJaxMLP(\n",
    "    train_config=train_config,\n",
    "    model=jax_net,\n",
    "    train_dl=jax_training_dataloader,\n",
    "    valid_dl=jax_validation_dataloader,\n",
    "    pin_memory=True,\n",
    ")"
   ]
  },
  {
   "cell_type": "code",
   "execution_count": 77,
   "metadata": {},
   "outputs": [
    {
     "name": "stdout",
     "output_type": "stream",
     "text": [
      "Found folder:  data\n",
      "Moving on...\n",
      "Found folder:  data/jax_models\n",
      "Moving on...\n",
      "Found folder:  data/jax_models/angle\n",
      "Moving on...\n",
      "Epoch: 0 of 5\n"
     ]
    },
    {
     "name": "stdout",
     "output_type": "stream",
     "text": [
      "wandb not available\n",
      "wandb not available\n",
      "Epoch 0/5 time: 11.623109817504883s\n",
      "wandb not available\n",
      "wandb not available\n",
      "Epoch 0/5 time: 9.441575050354004s\n",
      "Epoch: 0 / 5, test_loss: 0.3224255442619324\n",
      "Epoch: 1 of 5\n",
      "wandb not available\n",
      "wandb not available\n",
      "Epoch 1/5 time: 10.513047933578491s\n",
      "wandb not available\n",
      "wandb not available\n",
      "Epoch 1/5 time: 9.00931715965271s\n",
      "Epoch: 1 / 5, test_loss: 0.24499981105327606\n",
      "Epoch: 2 of 5\n",
      "wandb not available\n",
      "wandb not available\n",
      "Epoch 2/5 time: 10.794881105422974s\n",
      "wandb not available\n",
      "wandb not available\n",
      "Epoch 2/5 time: 9.984634160995483s\n",
      "Epoch: 2 / 5, test_loss: 0.24103233218193054\n",
      "Epoch: 3 of 5\n",
      "wandb not available\n",
      "wandb not available\n",
      "Epoch 3/5 time: 10.678745746612549s\n",
      "wandb not available\n",
      "wandb not available\n",
      "Epoch 3/5 time: 9.038577795028687s\n",
      "Epoch: 3 / 5, test_loss: 0.1361701339483261\n",
      "Epoch: 4 of 5\n",
      "wandb not available\n",
      "wandb not available\n",
      "Epoch 4/5 time: 10.902143001556396s\n",
      "wandb not available\n",
      "wandb not available\n",
      "Epoch 4/5 time: 8.973923206329346s\n",
      "Epoch: 4 / 5, test_loss: 0.11248210817575455\n",
      "Saving training history to: data/jax_models/angle/jax_lan_angle__jax_training_history.csv\n",
      "Saving model parameters to: data/jax_models/angle/jax_lan_angle__train_state.jax\n",
      "Saving training config to: data/jax_models/angle/jax_lan_angle__train_config.pickle\n",
      "Saving training data details to: data/jax_models/angle/jax_lan_angle__data_details.pickle\n"
     ]
    }
   ],
   "source": [
    "train_state = jax_trainer.train_and_evaluate(\n",
    "    output_folder=model_folder,\n",
    "    output_file_id=MODEL,\n",
    "    run_id=\"jax\",\n",
    "    wandb_on=False,\n",
    "    wandb_project_id=\"jax\",\n",
    "    save_data_details=True,\n",
    "    verbose=-1,\n",
    "    save_all=True,\n",
    ")"
   ]
  },
  {
   "cell_type": "markdown",
   "metadata": {},
   "source": [
    "#### Check Trained Network\n",
    "\n",
    "We can now re-instantiate our network from the trained weights and check that the output are reasonable."
   ]
  },
  {
   "cell_type": "code",
   "execution_count": 78,
   "metadata": {},
   "outputs": [],
   "source": [
    "# Loaded Net\n",
    "jax_infer = lanfactory.trainers.MLPJaxFactory(\n",
    "\t            network_config=network_config,\n",
    "                train=False,\n",
    "            )"
   ]
  },
  {
   "cell_type": "code",
   "execution_count": 79,
   "metadata": {},
   "outputs": [],
   "source": [
    "forward_pass, forward_pass_jitted = jax_infer.make_forward_partial(\n",
    "    seed=42,\n",
    "    input_dim=model_config[\"n_params\"] + 2,\n",
    "    state=os.path.join(\"data\", \n",
    "\t\t\t\t\t   \"jax_models\",\n",
    "\t\t\t\t\t   MODEL,\n",
    "\t\t\t\t\t   \"lan_\" + MODEL + \"__train_state.jax\"),\n",
    "    add_jitted=True,\n",
    ")"
   ]
  },
  {
   "cell_type": "code",
   "execution_count": 83,
   "metadata": {},
   "outputs": [],
   "source": [
    "import jax.numpy as jnp\n",
    "\n",
    "# Test parameters:\n",
    "theta = deepcopy(ssms.config.model_config[MODEL][\"default_params\"])\n",
    "\n",
    "# Comparison simulator run\n",
    "sim_out = ssms.basic_simulators.simulator.simulator(\n",
    "    model=MODEL, theta=theta, n_samples=50000\n",
    ")\n",
    "\n",
    "# Make input metric\n",
    "input_mat = jnp.zeros((2000, len(theta) + 2))\n",
    "for i in range(len(theta)):\n",
    "    input_mat = input_mat.at[:, i].set(jnp.ones(2000) * theta[i])\n",
    "\n",
    "input_mat = input_mat.at[:, len(theta)].set(\n",
    "    jnp.array(\n",
    "        np.concatenate(\n",
    "            [\n",
    "                np.linspace(5, 0, 1000).astype(np.float32),\n",
    "                np.linspace(0, 5, 1000).astype(np.float32),\n",
    "            ]\n",
    "        )\n",
    "    )\n",
    ")\n",
    "input_mat = input_mat.at[:, len(theta) + 1].set(\n",
    "    jnp.array(\n",
    "        np.concatenate([np.repeat(-1.0, 1000), np.repeat(1.0, 1000)]).astype(np.float32)\n",
    "    )\n",
    ")\n",
    "\n",
    "net_out = forward_pass_jitted(input_mat)"
   ]
  },
  {
   "cell_type": "code",
   "execution_count": 84,
   "metadata": {},
   "outputs": [
    {
     "data": {
      "text/plain": [
       "(array([1.23785937e-04, 1.23785937e-04, 2.47571873e-04, 2.47571873e-04,\n",
       "        0.00000000e+00, 0.00000000e+00, 3.71357810e-04, 4.95143746e-04,\n",
       "        4.95143746e-04, 2.47571873e-04, 3.71357810e-04, 4.95143746e-04,\n",
       "        1.23785937e-04, 1.23785937e-04, 7.42715619e-04, 6.18929683e-04,\n",
       "        1.11407343e-03, 1.11407343e-03, 1.73300311e-03, 1.85678905e-03,\n",
       "        1.98057499e-03, 2.84707654e-03, 2.59950467e-03, 4.70386559e-03,\n",
       "        5.81793902e-03, 4.70386559e-03, 8.66501556e-03, 9.65530305e-03,\n",
       "        1.27499515e-02, 1.37402390e-02, 1.88154624e-02, 2.01771077e-02,\n",
       "        2.35193279e-02, 3.14416279e-02, 3.67644232e-02, 3.96114997e-02,\n",
       "        4.93905887e-02, 6.64730479e-02, 8.23176478e-02, 9.90287493e-02,\n",
       "        1.17844212e-01, 1.40001894e-01, 1.69710519e-01, 2.04370581e-01,\n",
       "        2.50418950e-01, 2.93867813e-01, 3.60836005e-01, 4.14806673e-01,\n",
       "        4.34364851e-01, 1.86669192e-01, 5.44658121e-03, 2.73319348e-01,\n",
       "        4.29660986e-01, 4.09112520e-01, 3.26299729e-01, 2.89411520e-01,\n",
       "        2.29499126e-01, 1.98428856e-01, 1.57579497e-01, 1.31089307e-01,\n",
       "        1.11035985e-01, 8.78880150e-02, 6.75871214e-02, 5.81793902e-02,\n",
       "        5.24852371e-02, 4.44391512e-02, 3.18129857e-02, 2.85945513e-02,\n",
       "        2.40144717e-02, 1.98057499e-02, 1.52256702e-02, 1.55970280e-02,\n",
       "        1.07693765e-02, 9.53151712e-03, 9.40773118e-03, 5.94172496e-03,\n",
       "        5.19900934e-03, 3.83736403e-03, 2.22814686e-03, 3.21843435e-03,\n",
       "        1.98057499e-03, 2.22814686e-03, 1.23785937e-03, 1.23785937e-03,\n",
       "        9.90287493e-04, 6.18929683e-04, 6.18929683e-04, 8.66501556e-04,\n",
       "        9.90287493e-04, 7.42715619e-04, 4.95143746e-04, 2.47571873e-04,\n",
       "        0.00000000e+00, 2.47571873e-04, 1.23785937e-04, 3.71357810e-04,\n",
       "        2.47571873e-04, 2.47571873e-04, 2.47571873e-04, 3.71357810e-04]),\n",
       " array([-8.14096546, -7.97939622, -7.81782698, -7.65625773, -7.49468849,\n",
       "        -7.33311925, -7.17155001, -7.00998076, -6.84841152, -6.68684228,\n",
       "        -6.52527304, -6.36370379, -6.20213455, -6.04056531, -5.87899607,\n",
       "        -5.71742682, -5.55585758, -5.39428834, -5.2327191 , -5.07114985,\n",
       "        -4.90958061, -4.74801137, -4.58644213, -4.42487288, -4.26330364,\n",
       "        -4.1017344 , -3.94016516, -3.77859591, -3.61702667, -3.45545743,\n",
       "        -3.29388819, -3.13231894, -2.9707497 , -2.80918046, -2.64761122,\n",
       "        -2.48604198, -2.32447273, -2.16290349, -2.00133425, -1.83976501,\n",
       "        -1.67819576, -1.51662652, -1.35505728, -1.19348804, -1.03191879,\n",
       "        -0.87034955, -0.70878031, -0.54721107, -0.38564182, -0.22407258,\n",
       "        -0.06250334,  0.0990659 ,  0.26063515,  0.42220439,  0.58377363,\n",
       "         0.74534287,  0.90691212,  1.06848136,  1.2300506 ,  1.39161984,\n",
       "         1.55318909,  1.71475833,  1.87632757,  2.03789681,  2.19946606,\n",
       "         2.3610353 ,  2.52260454,  2.68417378,  2.84574303,  3.00731227,\n",
       "         3.16888151,  3.33045075,  3.49202   ,  3.65358924,  3.81515848,\n",
       "         3.97672772,  4.13829697,  4.29986621,  4.46143545,  4.62300469,\n",
       "         4.78457394,  4.94614318,  5.10771242,  5.26928166,  5.43085091,\n",
       "         5.59242015,  5.75398939,  5.91555863,  6.07712788,  6.23869712,\n",
       "         6.40026636,  6.5618356 ,  6.72340485,  6.88497409,  7.04654333,\n",
       "         7.20811257,  7.36968182,  7.53125106,  7.6928203 ,  7.85438954,\n",
       "         8.01595879]),\n",
       " [<matplotlib.patches.Polygon at 0x2ca6b6610>])"
      ]
     },
     "execution_count": 84,
     "metadata": {},
     "output_type": "execute_result"
    },
    {
     "data": {
      "image/png": "[encoded data removed]",
      "text/plain": [
       "<Figure size 640x480 with 1 Axes>"
      ]
     },
     "metadata": {},
     "output_type": "display_data"
    }
   ],
   "source": [
    "from matplotlib import pyplot as plt\n",
    "\n",
    "# Plot network log likelihood\n",
    "plt.plot(np.linspace(-5, 5, 2000).astype(np.float32), np.exp(net_out))\n",
    "\n",
    "# Plot simulation histogram\n",
    "plt.hist(\n",
    "    sim_out[\"rts\"] * sim_out[\"choices\"],\n",
    "    bins=100,\n",
    "    histtype=\"step\",\n",
    "    fill=None,\n",
    "    density=True,\n",
    ")"
   ]
  }
 ],
 "metadata": {
  "kernelspec": {
   "display_name": "ssms_dev",
   "language": "python",
   "name": "python3"
  },
  "language_info": {
   "codemirror_mode": {
    "name": "ipython",
    "version": 3
   },
   "file_extension": ".py",
   "mimetype": "text/x-python",
   "name": "python",
   "nbconvert_exporter": "python",
   "pygments_lexer": "ipython3",
   "version": "3.11.10"
  },
  "orig_nbformat": 4
 },
 "nbformat": 4,
 "nbformat_minor": 2
}
