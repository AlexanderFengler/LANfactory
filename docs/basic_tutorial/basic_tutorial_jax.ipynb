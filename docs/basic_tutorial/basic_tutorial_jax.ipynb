{
 "cells": [
  {
   "cell_type": "markdown",
   "metadata": {},
   "source": [
    "### Basic Tutorial: Jax Version"
   ]
  },
  {
   "cell_type": "markdown",
   "metadata": {},
   "source": [
    "\n",
    "The `LANfactory` package is a light-weight convenience package for training `likelihood approximation networks` (LANs) in torch (or keras), \n",
    "starting from supplied training data.\n",
    "\n",
    "[LANs](https://elifesciences.org/articles/65074), although more general in potential scope of applications, were conceived in the context of sequential sampling modeling\n",
    "to account for cognitive processes giving rise to *choice* and *reaction time* data in *n-alternative forced choice experiments* commonly encountered in the cognitive sciences.\n",
    "\n",
    "In this quick tutorial we will use the [`ssms`](https://github.com/AlexanderFengler/ssm_simulators) package to generate our training data using such a sequential sampling model (SSM). The use of of the `LANfactory` package is in no way bound to utilize this `ssms` package."
   ]
  },
  {
   "cell_type": "markdown",
   "metadata": {},
   "source": [
    "#### Install\n",
    "\n",
    "To install the `ssms` package type,\n",
    "\n",
    "`pip install git+https://github.com/AlexanderFengler/ssm_simulators`\n",
    "\n",
    "To install the `LANfactory` package type,\n",
    "\n",
    "`pip install git+https://github.com/AlexanderFengler/LANfactory`\n",
    "\n",
    "Necessary dependency should be installed automatically in the process."
   ]
  },
  {
   "cell_type": "code",
   "execution_count": 1,
   "metadata": {},
   "outputs": [
    {
     "name": "stdout",
     "output_type": "stream",
     "text": [
      "wandb not available\n",
      "wandb not available\n"
     ]
    }
   ],
   "source": [
    "import ssms\n",
    "import lanfactory\n",
    "import os\n",
    "import numpy as np\n",
    "from copy import deepcopy\n",
    "import torch\n",
    "import pickle"
   ]
  },
  {
   "cell_type": "code",
   "execution_count": 2,
   "metadata": {},
   "outputs": [],
   "source": [
    "MODEL = \"angle\"\n",
    "RUN_SIMS = False\n",
    "DEVICE = \"cpu\""
   ]
  },
  {
   "cell_type": "code",
   "execution_count": 3,
   "metadata": {},
   "outputs": [],
   "source": [
    "# MAKE CONFIGS\n",
    "model = MODEL\n",
    "# Initialize the generator config (for MLP LANs)\n",
    "generator_config = deepcopy(ssms.config.data_generator_config[\"lan\"])\n",
    "# Specify generative model (one from the list of included models mentioned above)\n",
    "generator_config[\"model\"] = model\n",
    "# Specify number of parameter sets to simulate\n",
    "generator_config[\"n_parameter_sets\"] = 256\n",
    "# Specify how many samples a simulation run should entail\n",
    "generator_config[\"n_samples\"] = 1000\n",
    "# Specify folder in which to save generated data\n",
    "generator_config[\"output_folder\"] = \"data/lan_mlp/\" + model + \"/\"\n",
    "\n",
    "# Make model config dict\n",
    "model_config = ssms.config.model_config[model]"
   ]
  },
  {
   "cell_type": "code",
   "execution_count": 4,
   "metadata": {},
   "outputs": [],
   "source": [
    "# MAKE DATA\n",
    "if RUN_SIMS:\n",
    "    n_datafiles = 10\n",
    "    for i in range(n_datafiles):\n",
    "        my_dataset_generator = ssms.dataset_generators.lan_mlp.data_generator(\n",
    "            generator_config=generator_config, model_config=model_config\n",
    "        )\n",
    "        training_data = my_dataset_generator.generate_data_training_uniform(save=True)"
   ]
  },
  {
   "cell_type": "code",
   "execution_count": 5,
   "metadata": {},
   "outputs": [
    {
     "name": "stdout",
     "output_type": "stream",
     "text": [
      "Network config: \n",
      "{'layer_sizes': [100, 100, 100, 1], 'activations': ['tanh', 'tanh', 'tanh', 'linear'], 'train_output_type': 'logprob'}\n",
      "Train config: \n",
      "{'cpu_batch_size': 128, 'gpu_batch_size': 256, 'n_epochs': 5, 'optimizer': 'adam', 'learning_rate': 2e-06, 'lr_scheduler': 'reduce_on_plateau', 'lr_scheduler_params': {}, 'weight_decay': 0.0, 'loss': 'huber', 'save_history': True}\n"
     ]
    }
   ],
   "source": [
    "from copy import deepcopy\n",
    "\n",
    "network_config = deepcopy(lanfactory.config.network_configs.network_config_mlp)\n",
    "network_config[\"layer_sizes\"] = [100, 100, 100, 1]\n",
    "network_config[\"activations\"] = [\"tanh\", \"tanh\", \"tanh\", \"linear\"]\n",
    "\n",
    "print(\"Network config: \")\n",
    "print(network_config)\n",
    "\n",
    "train_config = deepcopy(lanfactory.config.network_configs.train_config_mlp)\n",
    "train_config[\"learning_rate\"] = 0.000002\n",
    "\n",
    "print(\"Train config: \")\n",
    "print(train_config)"
   ]
  },
  {
   "cell_type": "code",
   "execution_count": 6,
   "metadata": {},
   "outputs": [
    {
     "data": {
      "text/plain": [
       "{'layer_sizes': [100, 100, 100, 1],\n",
       " 'activations': ['tanh', 'tanh', 'tanh', 'linear'],\n",
       " 'train_output_type': 'logprob'}"
      ]
     },
     "execution_count": 6,
     "metadata": {},
     "output_type": "execute_result"
    }
   ],
   "source": [
    "network_config"
   ]
  },
  {
   "cell_type": "code",
   "execution_count": 7,
   "metadata": {},
   "outputs": [],
   "source": [
    "train_config[\"cpu_batch_size\"] = 128\n",
    "train_config[\"gpu_batch_size\"] = 256\n",
    "train_config[\"n_epochs\"] = 5"
   ]
  },
  {
   "cell_type": "code",
   "execution_count": 8,
   "metadata": {},
   "outputs": [
    {
     "data": {
      "text/plain": [
       "{'cpu_batch_size': 128,\n",
       " 'gpu_batch_size': 256,\n",
       " 'n_epochs': 5,\n",
       " 'optimizer': 'adam',\n",
       " 'learning_rate': 2e-06,\n",
       " 'lr_scheduler': 'reduce_on_plateau',\n",
       " 'lr_scheduler_params': {},\n",
       " 'weight_decay': 0.0,\n",
       " 'loss': 'huber',\n",
       " 'save_history': True}"
      ]
     },
     "execution_count": 8,
     "metadata": {},
     "output_type": "execute_result"
    }
   ],
   "source": [
    "train_config"
   ]
  },
  {
   "cell_type": "markdown",
   "metadata": {},
   "source": [
    "#### Prepare for Training\n",
    "\n",
    "Next we set up dataloaders for training with pytorch. The `LANfactory` uses custom dataloaders, taking into account particularities of the expected training data.\n",
    "Specifically, we expect to receive a bunch of training data files (the present example generates only one), where each file hosts a large number of training examples. \n",
    "So we want to define a dataloader which spits out batches from data with a specific training data file, and keeps checking when to load in a new file. \n",
    "The way this is implemented here, is via the `DatasetTorch` class in `lanfactory.trainers`, which inherits from `torch.utils.data.Dataset` and prespecifies a `batch_size`. Finally this is supplied to a [`DataLoader`](https://pytorch.org/docs/stable/data.html), for which we keep the `batch_size` argument at 0.\n",
    "\n",
    "The `DatasetTorch` class is then called as an iterator via the DataLoader and takes care of batching as well as file loading internally. \n",
    "\n",
    "You may choose your own way of defining the `DataLoader` classes, downstream you are simply expected to supply one."
   ]
  },
  {
   "cell_type": "code",
   "execution_count": 9,
   "metadata": {},
   "outputs": [],
   "source": [
    "folder_ = os.path.join(\"data\", \"lan_mlp\", MODEL)\n",
    "file_list_ = [folder_ + '/' + file_ for file_ in os.listdir(folder_)]\n",
    "\n",
    "# Training dataset\n",
    "jax_training_dataset = lanfactory.trainers.DatasetTorch(\n",
    "    file_ids=file_list_,\n",
    "    batch_size=(\n",
    "        train_config[DEVICE + \"_batch_size\"]\n",
    "        if torch.cuda.is_available()\n",
    "        else train_config[DEVICE + \"_batch_size\"]\n",
    "    ),\n",
    "    label_lower_bound=np.log(1e-10),\n",
    "    features_key=\"lan_data\",\n",
    "    label_key=\"lan_labels\",\n",
    "    out_framework=\"jax\",\n",
    ")\n",
    "\n",
    "jax_training_dataloader = torch.utils.data.DataLoader(\n",
    "    jax_training_dataset, shuffle=True, batch_size=None, num_workers=1, pin_memory=True\n",
    ")\n",
    "\n",
    "# Validation dataset\n",
    "jax_validation_dataset = lanfactory.trainers.DatasetTorch(\n",
    "    file_ids=file_list_,\n",
    "    batch_size=(\n",
    "        train_config[DEVICE + \"_batch_size\"]\n",
    "        if torch.cuda.is_available()\n",
    "        else train_config[DEVICE + \"_batch_size\"]\n",
    "    ),\n",
    "    label_lower_bound=np.log(1e-10),\n",
    "    features_key=\"lan_data\",\n",
    "    label_key=\"lan_labels\",\n",
    "    out_framework=\"jax\",\n",
    ")\n",
    "\n",
    "jax_validation_dataloader = torch.utils.data.DataLoader(\n",
    "    jax_validation_dataset,\n",
    "    shuffle=True,\n",
    "    batch_size=None,\n",
    "    num_workers=1,\n",
    "    pin_memory=True,\n",
    ")"
   ]
  },
  {
   "cell_type": "markdown",
   "metadata": {},
   "source": [
    "#### Define Network"
   ]
  },
  {
   "cell_type": "code",
   "execution_count": 10,
   "metadata": {},
   "outputs": [],
   "source": [
    "# LOAD NETWORK\n",
    "jax_net = lanfactory.trainers.MLPJaxFactory(network_config=network_config, train=True)\n",
    "\n",
    "# Save model config\n",
    "model_folder = os.path.join(\"data\", \"jax_models\", MODEL)\n",
    "os.makedirs(model_folder, exist_ok = True)\n",
    "\n",
    "pickle.dump(\n",
    "    network_config,\n",
    "    open(os.path.join(model_folder,\n",
    "\t\t\t\t\t  \"jax_network_config.pickle\"), \"wb\")\n",
    "\t\t)"
   ]
  },
  {
   "cell_type": "markdown",
   "metadata": {},
   "source": [
    "#### Train "
   ]
  },
  {
   "cell_type": "code",
   "execution_count": 11,
   "metadata": {},
   "outputs": [],
   "source": [
    "jax_trainer = lanfactory.trainers.ModelTrainerJaxMLP(\n",
    "    train_config=train_config,\n",
    "    model=jax_net,\n",
    "    train_dl=jax_training_dataloader,\n",
    "    valid_dl=jax_validation_dataloader,\n",
    "    pin_memory=True,\n",
    ")"
   ]
  },
  {
   "cell_type": "code",
   "execution_count": 12,
   "metadata": {},
   "outputs": [
    {
     "data": {
      "text/plain": [
       "['data/lan_mlp/angle/training_data_fc137e42bc6911eea0236ae25f443f62.pickle',\n",
       " 'data/lan_mlp/angle/training_data_47aaa024bbf211eea0236ae25f443f62.pickle',\n",
       " 'data/lan_mlp/angle/training_data_6c3d3918ae0611efaf8d6ae25f443f63.pickle',\n",
       " 'data/lan_mlp/angle/training_data_fa8a5d4ebbf511eea0236ae25f443f62.pickle',\n",
       " 'data/lan_mlp/angle/training_data_ecd8a05cbbf511eea0236ae25f443f62.pickle',\n",
       " 'data/lan_mlp/angle/training_data_53621442bc7911eebbda6ae25f443f62.pickle',\n",
       " 'data/lan_mlp/angle/training_data_ae628f74ae0511efb3976ae25f443f63.pickle',\n",
       " 'data/lan_mlp/angle/training_data_bca0114cae0511efa6ba6ae25f443f63.pickle']"
      ]
     },
     "execution_count": 12,
     "metadata": {},
     "output_type": "execute_result"
    }
   ],
   "source": [
    "jax_trainer.train_dl.dataset.file_ids"
   ]
  },
  {
   "cell_type": "code",
   "execution_count": 13,
   "metadata": {},
   "outputs": [
    {
     "name": "stdout",
     "output_type": "stream",
     "text": [
      "Found folder:  data\n",
      "Moving on...\n",
      "Found folder:  data/jax_models\n",
      "Moving on...\n",
      "Found folder:  data/jax_models/angle\n",
      "Moving on...\n",
      "Epoch: 0 of 5\n",
      "wandb not available\n",
      "wandb not available\n",
      "Epoch 0/5 time: 10.221325635910034s\n",
      "wandb not available\n",
      "wandb not available\n",
      "Epoch 0/5 time: 9.605355978012085s\n",
      "Epoch: 0 / 5, test_loss: 0.30221882462501526\n",
      "Epoch: 1 of 5\n",
      "wandb not available\n",
      "wandb not available\n",
      "Epoch 1/5 time: 10.743075847625732s\n",
      "wandb not available\n",
      "wandb not available\n",
      "Epoch 1/5 time: 8.995309829711914s\n",
      "Epoch: 1 / 5, test_loss: 0.24911217391490936\n",
      "Epoch: 2 of 5\n",
      "wandb not available\n",
      "wandb not available\n",
      "Epoch 2/5 time: 11.280319929122925s\n",
      "wandb not available\n",
      "wandb not available\n",
      "Epoch 2/5 time: 9.122586965560913s\n",
      "Epoch: 2 / 5, test_loss: 0.17990097403526306\n",
      "Epoch: 3 of 5\n",
      "wandb not available\n",
      "wandb not available\n",
      "Epoch 3/5 time: 10.675911903381348s\n",
      "wandb not available\n",
      "wandb not available\n",
      "Epoch 3/5 time: 8.781609058380127s\n",
      "Epoch: 3 / 5, test_loss: 0.12020830810070038\n",
      "Epoch: 4 of 5\n",
      "wandb not available\n",
      "wandb not available\n",
      "Epoch 4/5 time: 10.83060598373413s\n",
      "wandb not available\n",
      "wandb not available\n",
      "Epoch 4/5 time: 9.108967065811157s\n",
      "Epoch: 4 / 5, test_loss: 0.09067059308290482\n",
      "Saving training history to: data/jax_models/angle/jax_lan_angle__jax_training_history.csv\n",
      "Saving model parameters to: data/jax_models/angle/jax_lan_angle__train_state.jax\n",
      "Saving training config to: data/jax_models/angle/jax_lan_angle__train_config.pickle\n",
      "Saving training data details to: data/jax_models/angle/jax_lan_angle__data_details.pickle\n"
     ]
    }
   ],
   "source": [
    "train_state = jax_trainer.train_and_evaluate(\n",
    "    output_folder=model_folder,\n",
    "    output_file_id=MODEL,\n",
    "    run_id=\"jax\",\n",
    "    wandb_on=False,\n",
    "    wandb_project_id=\"jax\",\n",
    "    save_data_details=True,\n",
    "    verbose=-1,\n",
    "    save_all=True,\n",
    ")"
   ]
  },
  {
   "cell_type": "markdown",
   "metadata": {},
   "source": [
    "#### Check Trained Network\n",
    "\n",
    "We can now re-instantiate our network from the trained weights and check that the output are reasonable."
   ]
  },
  {
   "cell_type": "code",
   "execution_count": 14,
   "metadata": {},
   "outputs": [],
   "source": [
    "# Loaded Net\n",
    "jax_infer = lanfactory.trainers.MLPJaxFactory(\n",
    "\t            network_config=network_config,\n",
    "                train=False,\n",
    "            )"
   ]
  },
  {
   "cell_type": "code",
   "execution_count": 15,
   "metadata": {},
   "outputs": [],
   "source": [
    "forward_pass, forward_pass_jitted = jax_infer.make_forward_partial(\n",
    "    seed=42,\n",
    "    input_dim=model_config[\"n_params\"] + 2,\n",
    "    state=os.path.join(\"data\", \n",
    "\t\t\t\t\t   \"jax_models\",\n",
    "\t\t\t\t\t   MODEL,\n",
    "\t\t\t\t\t   \"lan_\" + MODEL + \"__train_state.jax\"),\n",
    "    add_jitted=True,\n",
    ")"
   ]
  },
  {
   "cell_type": "code",
   "execution_count": 16,
   "metadata": {},
   "outputs": [],
   "source": [
    "import jax.numpy as jnp\n",
    "\n",
    "# Test parameters:\n",
    "theta = deepcopy(ssms.config.model_config[MODEL][\"default_params\"])\n",
    "\n",
    "# Comparison simulator run\n",
    "sim_out = ssms.basic_simulators.simulator.simulator(\n",
    "    model=MODEL, theta=theta, n_samples=50000\n",
    ")\n",
    "\n",
    "# Make input metric\n",
    "input_mat = jnp.zeros((2000, len(theta) + 2))\n",
    "for i in range(len(theta)):\n",
    "    input_mat = input_mat.at[:, i].set(jnp.ones(2000) * theta[i])\n",
    "\n",
    "input_mat = input_mat.at[:, len(theta)].set(\n",
    "    jnp.array(\n",
    "        np.concatenate(\n",
    "            [\n",
    "                np.linspace(5, 0, 1000).astype(np.float32),\n",
    "                np.linspace(0, 5, 1000).astype(np.float32),\n",
    "            ]\n",
    "        )\n",
    "    )\n",
    ")\n",
    "input_mat = input_mat.at[:, len(theta) + 1].set(\n",
    "    jnp.array(\n",
    "        np.concatenate([np.repeat(-1.0, 1000), np.repeat(1.0, 1000)]).astype(np.float32)\n",
    "    )\n",
    ")\n",
    "\n",
    "net_out = forward_pass_jitted(input_mat)"
   ]
  },
  {
   "cell_type": "code",
   "execution_count": 17,
   "metadata": {},
   "outputs": [
    {
     "data": {
      "text/plain": [
       "(array([1.02608629e-04, 0.00000000e+00, 0.00000000e+00, 1.02608629e-04,\n",
       "        0.00000000e+00, 0.00000000e+00, 0.00000000e+00, 2.05217258e-04,\n",
       "        0.00000000e+00, 0.00000000e+00, 1.02608629e-04, 4.10434517e-04,\n",
       "        3.07825888e-04, 2.05217258e-04, 5.13043146e-04, 5.13043146e-04,\n",
       "        4.10434517e-04, 6.15651775e-04, 1.02608629e-03, 1.64173807e-03,\n",
       "        1.43652081e-03, 1.94956395e-03, 2.77043299e-03, 4.10434517e-03,\n",
       "        4.41217106e-03, 5.64347461e-03, 5.74608323e-03, 8.61912485e-03,\n",
       "        1.04660802e-02, 1.12869492e-02, 1.59043375e-02, 1.98034654e-02,\n",
       "        2.32921588e-02, 3.04747629e-02, 4.17617121e-02, 4.99704024e-02,\n",
       "        6.27964811e-02, 8.07529912e-02, 1.01069500e-01, 1.26208614e-01,\n",
       "        1.61403374e-01, 2.03678129e-01, 2.57034616e-01, 3.24961529e-01,\n",
       "        3.93401484e-01, 4.34650153e-01, 1.68483369e-01, 5.36643131e-02,\n",
       "        3.95761483e-01, 4.21208423e-01, 3.52050207e-01, 2.81865904e-01,\n",
       "        2.25431158e-01, 1.78949449e-01, 1.34212087e-01, 1.13587753e-01,\n",
       "        8.50625536e-02, 6.83373470e-02, 5.62295288e-02, 4.07356258e-02,\n",
       "        3.30399786e-02, 2.60625918e-02, 2.32921588e-02, 1.79565101e-02,\n",
       "        1.26208614e-02, 1.05686888e-02, 8.31129896e-03, 6.25912638e-03,\n",
       "        3.89912791e-03, 5.84869186e-03, 2.87304162e-03, 3.28347613e-03,\n",
       "        1.33391218e-03, 2.46260710e-03, 1.12869492e-03, 1.53912944e-03,\n",
       "        1.23130355e-03, 8.20869034e-04, 4.10434517e-04, 6.15651775e-04,\n",
       "        5.13043146e-04, 0.00000000e+00, 2.05217258e-04, 1.02608629e-04,\n",
       "        0.00000000e+00, 1.02608629e-04, 1.02608629e-04, 0.00000000e+00,\n",
       "        0.00000000e+00, 1.02608629e-04, 1.02608629e-04, 0.00000000e+00,\n",
       "        0.00000000e+00, 0.00000000e+00, 1.02608629e-04, 0.00000000e+00,\n",
       "        0.00000000e+00, 0.00000000e+00, 1.02608629e-04, 1.02608629e-04]),\n",
       " array([-9.19489861, -8.99998322, -8.80506784, -8.61015246, -8.41523708,\n",
       "        -8.2203217 , -8.02540632, -7.83049094, -7.63557556, -7.44066018,\n",
       "        -7.2457448 , -7.05082942, -6.85591404, -6.66099866, -6.46608328,\n",
       "        -6.2711679 , -6.07625252, -5.88133714, -5.68642176, -5.49150638,\n",
       "        -5.296591  , -5.10167562, -4.90676023, -4.71184485, -4.51692947,\n",
       "        -4.32201409, -4.12709871, -3.93218333, -3.73726795, -3.54235257,\n",
       "        -3.34743719, -3.15252181, -2.95760643, -2.76269105, -2.56777567,\n",
       "        -2.37286029, -2.17794491, -1.98302953, -1.78811415, -1.59319877,\n",
       "        -1.39828339, -1.20336801, -1.00845263, -0.81353724, -0.61862186,\n",
       "        -0.42370648, -0.2287911 , -0.03387572,  0.16103966,  0.35595504,\n",
       "         0.55087042,  0.7457858 ,  0.94070118,  1.13561656,  1.33053194,\n",
       "         1.52544732,  1.7203627 ,  1.91527808,  2.11019346,  2.30510884,\n",
       "         2.50002422,  2.6949396 ,  2.88985498,  3.08477036,  3.27968575,\n",
       "         3.47460113,  3.66951651,  3.86443189,  4.05934727,  4.25426265,\n",
       "         4.44917803,  4.64409341,  4.83900879,  5.03392417,  5.22883955,\n",
       "         5.42375493,  5.61867031,  5.81358569,  6.00850107,  6.20341645,\n",
       "         6.39833183,  6.59324721,  6.78816259,  6.98307797,  7.17799335,\n",
       "         7.37290874,  7.56782412,  7.7627395 ,  7.95765488,  8.15257026,\n",
       "         8.34748564,  8.54240102,  8.7373164 ,  8.93223178,  9.12714716,\n",
       "         9.32206254,  9.51697792,  9.7118933 ,  9.90680868, 10.10172406,\n",
       "        10.29663944]),\n",
       " [<matplotlib.patches.Polygon at 0x2e9a33310>])"
      ]
     },
     "execution_count": 17,
     "metadata": {},
     "output_type": "execute_result"
    },
    {
     "data": {
      "image/png": "[encoded data removed]",
      "text/plain": [
       "<Figure size 640x480 with 1 Axes>"
      ]
     },
     "metadata": {},
     "output_type": "display_data"
    }
   ],
   "source": [
    "from matplotlib import pyplot as plt\n",
    "\n",
    "# Plot network log likelihood\n",
    "plt.plot(np.linspace(-5, 5, 2000).astype(np.float32), np.exp(net_out))\n",
    "\n",
    "# Plot simulation histogram\n",
    "plt.hist(\n",
    "    sim_out[\"rts\"] * sim_out[\"choices\"],\n",
    "    bins=100,\n",
    "    histtype=\"step\",\n",
    "    fill=None,\n",
    "    density=True,\n",
    ")"
   ]
  }
 ],
 "metadata": {
  "kernelspec": {
   "display_name": "lanfactory",
   "language": "python",
   "name": "lanfactory"
  },
  "language_info": {
   "codemirror_mode": {
    "name": "ipython",
    "version": 3
   },
   "file_extension": ".py",
   "mimetype": "text/x-python",
   "name": "python",
   "nbconvert_exporter": "python",
   "pygments_lexer": "ipython3",
   "version": "3.11.10"
  }
 },
 "nbformat": 4,
 "nbformat_minor": 4
}
