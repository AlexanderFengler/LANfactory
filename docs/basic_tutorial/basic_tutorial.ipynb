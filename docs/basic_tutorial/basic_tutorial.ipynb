{
 "cells": [
  {
   "cell_type": "markdown",
   "metadata": {},
   "source": [
    "### Quick Start"
   ]
  },
  {
   "cell_type": "markdown",
   "metadata": {},
   "source": [
    "The `LANfactory` package is a light-weight convenience package for training `likelihood approximation networks` (LANs) in torch (or keras), \n",
    "starting from supplied training data.\n",
    "\n",
    "[LANs](https://elifesciences.org/articles/65074), although more general in potential scope of applications, were conceived in the context of sequential sampling modeling\n",
    "to account for cognitive processes giving rise to *choice* and *reaction time* data in *n-alternative forced choice experiments* commonly encountered in the cognitive sciences.\n",
    "\n",
    "In this quick tutorial we will use the [`ssms`](https://github.com/AlexanderFengler/ssm_simulators) package to generate our training data using such a sequential sampling model (SSM). The use of of the `LANfactory` package is in no way bound to utilize this `ssms` package."
   ]
  },
  {
   "cell_type": "markdown",
   "metadata": {},
   "source": [
    "#### Install\n",
    "\n",
    "To install the `ssms` package type,\n",
    "\n",
    "`pip install git+https://github.com/AlexanderFengler/ssm_simulators`\n",
    "\n",
    "To install the `LANfactory` package type,\n",
    "\n",
    "`pip install git+https://github.com/AlexanderFengler/LANfactory`\n",
    "\n",
    "Necessary dependency should be installed automatically in the process."
   ]
  },
  {
   "cell_type": "markdown",
   "metadata": {},
   "source": [
    "#### Basic Tutorial"
   ]
  },
  {
   "cell_type": "code",
   "execution_count": 1,
   "metadata": {},
   "outputs": [
    {
     "name": "stdout",
     "output_type": "stream",
     "text": [
      "wandb not available\n",
      "wandb not available\n"
     ]
    }
   ],
   "source": [
    "# Load necessary packages\n",
    "import ssms\n",
    "import lanfactory\n",
    "import os\n",
    "import numpy as np\n",
    "from copy import deepcopy\n",
    "import torch"
   ]
  },
  {
   "cell_type": "markdown",
   "metadata": {},
   "source": [
    "#### Generate Training Data\n",
    "First we need to generate some training data. As mentioned above we will do so using the `ssms` python package, however without delving into a detailed explanation\n",
    "of this package. Please refer to the [basic ssms tutorial] (https://github.com/AlexanderFengler/ssm_simulators) in case you want to learn more."
   ]
  },
  {
   "cell_type": "code",
   "execution_count": 2,
   "metadata": {},
   "outputs": [],
   "source": [
    "# MAKE CONFIGS\n",
    "model = \"angle\"\n",
    "# Initialize the generator config (for MLP LANs)\n",
    "generator_config = deepcopy(ssms.config.data_generator_config[\"lan\"])\n",
    "# Specify generative model (one from the list of included models mentioned above)\n",
    "generator_config[\"model\"] = model\n",
    "# Specify number of parameter sets to simulate\n",
    "generator_config[\"n_parameter_sets\"] = 100\n",
    "# Specify how many samples a simulation run should entail\n",
    "generator_config[\"n_samples\"] = 1000\n",
    "# Specify folder in which to save generated data\n",
    "generator_config[\"output_folder\"] = \"data/lan_mlp/\" + model + \"/\"\n",
    "\n",
    "# Make model config dict\n",
    "model_config = ssms.config.model_config[model]"
   ]
  },
  {
   "cell_type": "code",
   "execution_count": 3,
   "metadata": {},
   "outputs": [
    {
     "name": "stdout",
     "output_type": "stream",
     "text": [
      "n_cpus used:  12\n",
      "checking:  data/lan_mlp/angle/\n",
      "simulation round: 1  of 10\n",
      "simulation round: 2  of 10\n",
      "simulation round: 3  of 10\n",
      "simulation round: 4  of 10\n",
      "simulation round: 5  of 10\n",
      "simulation round: 6  of 10\n",
      "simulation round: 7  of 10\n",
      "simulation round: 8  of 10\n",
      "simulation round: 9  of 10\n",
      "simulation round: 10  of 10\n",
      "Writing to file:  data/lan_mlp/angle//training_data_6c3d3918ae0611efaf8d6ae25f443f63.pickle\n"
     ]
    }
   ],
   "source": [
    "# MAKE DATA\n",
    "\n",
    "my_dataset_generator = ssms.dataset_generators.lan_mlp.data_generator(\n",
    "    generator_config=generator_config, model_config=model_config\n",
    ")\n",
    "\n",
    "training_data = my_dataset_generator.generate_data_training_uniform(save=True)"
   ]
  },
  {
   "cell_type": "code",
   "execution_count": 4,
   "metadata": {},
   "outputs": [],
   "source": [
    "# training_data"
   ]
  },
  {
   "cell_type": "markdown",
   "metadata": {},
   "source": [
    "#### Prepare for Training\n",
    "\n",
    "Next we set up dataloaders for training with pytorch. The `LANfactory` uses custom dataloaders, taking into account particularities of the expected training data.\n",
    "Specifically, we expect to receive a bunch of training data files (the present example generates only one), where each file hosts a large number of training examples. \n",
    "So we want to define a dataloader which spits out batches from data with a specific training data file, and keeps checking when to load in a new file. \n",
    "The way this is implemented here, is via the `DatasetTorch` class in `lanfactory.trainers`, which inherits from `torch.utils.data.Dataset` and prespecifies a `batch_size`. Finally this is supplied to a [`DataLoader`](https://pytorch.org/docs/stable/data.html), for which we keep the `batch_size` argument at 0.\n",
    "\n",
    "The `DatasetTorch` class is then called as an iterator via the DataLoader and takes care of batching as well as file loading internally. \n",
    "\n",
    "You may choose your own way of defining the `DataLoader` classes, downstream you are simply expected to supply one."
   ]
  },
  {
   "cell_type": "code",
   "execution_count": 5,
   "metadata": {},
   "outputs": [],
   "source": [
    "# MAKE DATALOADERS\n",
    "\n",
    "# List of datafiles (here only one)\n",
    "folder_ = \"data/lan_mlp/\" + model + \"/\"  # + \"/training_data_0_nbins_0_n_1000/\"\n",
    "file_list_ = [folder_ + file_ for file_ in os.listdir(folder_)]\n",
    "\n",
    "# Training dataset\n",
    "torch_training_dataset = lanfactory.trainers.DatasetTorch(\n",
    "    file_ids=file_list_,\n",
    "    batch_size=128,\n",
    "    features_key=\"lan_data\",\n",
    "    label_key=\"lan_labels\",\n",
    ")\n",
    "\n",
    "torch_training_dataloader = torch.utils.data.DataLoader(\n",
    "    torch_training_dataset,\n",
    "    shuffle=True,\n",
    "    batch_size=None,\n",
    "    num_workers=1,\n",
    "    pin_memory=True,\n",
    ")\n",
    "\n",
    "# Validation dataset\n",
    "torch_validation_dataset = lanfactory.trainers.DatasetTorch(\n",
    "    file_ids=file_list_,\n",
    "    batch_size=128,\n",
    "    features_key=\"lan_data\",\n",
    "    label_key=\"lan_labels\",\n",
    ")\n",
    "\n",
    "torch_validation_dataloader = torch.utils.data.DataLoader(\n",
    "    torch_validation_dataset,\n",
    "    shuffle=True,\n",
    "    batch_size=None,\n",
    "    num_workers=1,\n",
    "    pin_memory=True,\n",
    ")"
   ]
  },
  {
   "cell_type": "markdown",
   "metadata": {},
   "source": [
    "Now we define two configuration dictionariers,\n",
    "\n",
    "1. The `network_config` dictionary defines the architecture and properties of the network\n",
    "2. The `train_config` dictionary defines properties concerning training hyperparameters\n",
    "\n",
    "Two examples (which we take as provided by the package, but which you can adjust according to your needs) are provided below."
   ]
  },
  {
   "cell_type": "code",
   "execution_count": 6,
   "metadata": {},
   "outputs": [
    {
     "name": "stdout",
     "output_type": "stream",
     "text": [
      "Network config: \n",
      "{'layer_sizes': [100, 100, 1], 'activations': ['tanh', 'tanh', 'linear'], 'train_output_type': 'logprob'}\n",
      "Train config: \n",
      "{'cpu_batch_size': 128, 'gpu_batch_size': 256, 'n_epochs': 5, 'optimizer': 'adam', 'learning_rate': 0.002, 'lr_scheduler': 'reduce_on_plateau', 'lr_scheduler_params': {}, 'weight_decay': 0.0, 'loss': 'huber', 'save_history': True}\n"
     ]
    }
   ],
   "source": [
    "# SPECIFY NETWORK CONFIGS AND TRAINING CONFIGS\n",
    "\n",
    "network_config = lanfactory.config.network_configs.network_config_mlp\n",
    "\n",
    "print(\"Network config: \")\n",
    "print(network_config)\n",
    "\n",
    "train_config = lanfactory.config.network_configs.train_config_mlp\n",
    "\n",
    "print(\"Train config: \")\n",
    "print(train_config)"
   ]
  },
  {
   "cell_type": "markdown",
   "metadata": {},
   "source": [
    "We can now load a network, and save the configuration files for convenience."
   ]
  },
  {
   "cell_type": "code",
   "execution_count": 7,
   "metadata": {},
   "outputs": [
    {
     "name": "stdout",
     "output_type": "stream",
     "text": [
      "Setting network type to \"lan\" or \"cpn\" based on train_output_type. \n",
      "Note: This is only a default setting, and can be overwritten by the network_type argument.\n",
      "tanh\n",
      "tanh\n",
      "linear\n",
      "Found folder:  data\n",
      "Moving on...\n",
      "Found folder:  data/torch_models\n",
      "Moving on...\n",
      "Found folder:  data/torch_models/angle\n",
      "Moving on...\n",
      "Saved network config\n",
      "Saved train config\n"
     ]
    }
   ],
   "source": [
    "# LOAD NETWORK\n",
    "net = lanfactory.trainers.TorchMLP(\n",
    "    network_config=deepcopy(network_config),\n",
    "    input_shape=torch_training_dataset.input_dim,\n",
    "    save_folder=\"/data/torch_models/\",\n",
    "    generative_model_id=\"angle\",\n",
    ")\n",
    "\n",
    "# SAVE CONFIGS\n",
    "lanfactory.utils.save_configs(\n",
    "    model_id=\"angle\" + \"_torch_\",\n",
    "    save_folder=\"data/torch_models/angle/\",\n",
    "    network_config=network_config,\n",
    "    train_config=train_config,\n",
    "    allow_abs_path_folder_generation=True,\n",
    ")"
   ]
  },
  {
   "cell_type": "markdown",
   "metadata": {},
   "source": [
    "To finally train the network we supply our network, the dataloaders and training config to the `ModelTrainerTorchMLP` class, from `lanfactory.trainers`."
   ]
  },
  {
   "cell_type": "code",
   "execution_count": 8,
   "metadata": {},
   "outputs": [
    {
     "name": "stdout",
     "output_type": "stream",
     "text": [
      "Torch Device:  cpu\n",
      "train_config is passed as dictionary: \n",
      "{'cpu_batch_size': 128, 'gpu_batch_size': 256, 'n_epochs': 5, 'optimizer': 'adam', 'learning_rate': 0.002, 'lr_scheduler': 'reduce_on_plateau', 'lr_scheduler_params': {}, 'weight_decay': 0.0, 'loss': 'huber', 'save_history': True}\n",
      "{'cpu_batch_size': 128, 'gpu_batch_size': 256, 'n_epochs': 5, 'optimizer': 'adam', 'learning_rate': 0.002, 'lr_scheduler': 'reduce_on_plateau', 'lr_scheduler_params': {}, 'weight_decay': 0.0, 'loss': 'huber', 'save_history': True}\n",
      "Found folder:  data\n",
      "Moving on...\n",
      "name 'wandb' is not defined\n",
      "wandb not available, not storing results there\n",
      "passing 4\n",
      "name 'wandb' is not defined\n"
     ]
    },
    {
     "name": "stderr",
     "output_type": "stream",
     "text": [
      "/Users/afengler/miniconda3/envs/lanfactory/lib/python3.11/site-packages/torch/optim/lr_scheduler.py:62: UserWarning: The verbose parameter is deprecated. Please use get_last_lr() to access the learning rate.\n",
      "  warnings.warn(\n"
     ]
    },
    {
     "name": "stdout",
     "output_type": "stream",
     "text": [
      "wandb not available\n",
      "wandb not available\n",
      "epoch: 0 / 5, batch: 0 / 6248, batch_loss: 18.424171447753906\n",
      "epoch: 0 / 5, batch: 100 / 6248, batch_loss: 26.35689926147461\n",
      "epoch: 0 / 5, batch: 200 / 6248, batch_loss: 21.270301818847656\n",
      "epoch: 0 / 5, batch: 300 / 6248, batch_loss: 41.69943618774414\n",
      "epoch: 0 / 5, batch: 400 / 6248, batch_loss: 12.145707130432129\n",
      "epoch: 0 / 5, batch: 500 / 6248, batch_loss: 7.219738006591797\n",
      "epoch: 0 / 5, batch: 600 / 6248, batch_loss: 14.006623268127441\n",
      "epoch: 0 / 5, batch: 700 / 6248, batch_loss: 13.515326499938965\n",
      "epoch: 0 / 5, batch: 800 / 6248, batch_loss: 17.281633377075195\n",
      "epoch: 0 / 5, batch: 900 / 6248, batch_loss: 7.4594902992248535\n",
      "epoch: 0 / 5, batch: 1000 / 6248, batch_loss: 20.00450897216797\n",
      "epoch: 0 / 5, batch: 1100 / 6248, batch_loss: 7.115589141845703\n",
      "epoch: 0 / 5, batch: 1200 / 6248, batch_loss: 6.586312770843506\n",
      "epoch: 0 / 5, batch: 1300 / 6248, batch_loss: 8.359161376953125\n",
      "epoch: 0 / 5, batch: 1400 / 6248, batch_loss: 10.252017974853516\n",
      "epoch: 0 / 5, batch: 1500 / 6248, batch_loss: 7.556928634643555\n",
      "epoch: 0 / 5, batch: 1600 / 6248, batch_loss: 9.202360153198242\n",
      "epoch: 0 / 5, batch: 1700 / 6248, batch_loss: 14.47900390625\n",
      "epoch: 0 / 5, batch: 1800 / 6248, batch_loss: 15.528148651123047\n",
      "epoch: 0 / 5, batch: 1900 / 6248, batch_loss: 22.215539932250977\n",
      "epoch: 0 / 5, batch: 2000 / 6248, batch_loss: 28.170188903808594\n",
      "epoch: 0 / 5, batch: 2100 / 6248, batch_loss: 117.04457092285156\n",
      "epoch: 0 / 5, batch: 2200 / 6248, batch_loss: 9.00933837890625\n",
      "epoch: 0 / 5, batch: 2300 / 6248, batch_loss: 15.27622127532959\n",
      "epoch: 0 / 5, batch: 2400 / 6248, batch_loss: 28.07713508605957\n",
      "epoch: 0 / 5, batch: 2500 / 6248, batch_loss: 5.567930221557617\n",
      "epoch: 0 / 5, batch: 2600 / 6248, batch_loss: 5.655803203582764\n",
      "epoch: 0 / 5, batch: 2700 / 6248, batch_loss: 4.361502647399902\n",
      "epoch: 0 / 5, batch: 2800 / 6248, batch_loss: 16.26578140258789\n",
      "epoch: 0 / 5, batch: 2900 / 6248, batch_loss: 15.86043643951416\n",
      "epoch: 0 / 5, batch: 3000 / 6248, batch_loss: 18.201242446899414\n",
      "epoch: 0 / 5, batch: 3100 / 6248, batch_loss: 5.630181789398193\n",
      "epoch: 0 / 5, batch: 3200 / 6248, batch_loss: 5.413924694061279\n",
      "epoch: 0 / 5, batch: 3300 / 6248, batch_loss: 10.452692031860352\n",
      "epoch: 0 / 5, batch: 3400 / 6248, batch_loss: 5.651644229888916\n",
      "epoch: 0 / 5, batch: 3500 / 6248, batch_loss: 2.2360763549804688\n",
      "epoch: 0 / 5, batch: 3600 / 6248, batch_loss: 6.055055618286133\n",
      "epoch: 0 / 5, batch: 3700 / 6248, batch_loss: 8.54580307006836\n",
      "epoch: 0 / 5, batch: 3800 / 6248, batch_loss: 4.23875093460083\n",
      "epoch: 0 / 5, batch: 3900 / 6248, batch_loss: 7.544300556182861\n",
      "epoch: 0 / 5, batch: 4000 / 6248, batch_loss: 6.990339756011963\n",
      "epoch: 0 / 5, batch: 4100 / 6248, batch_loss: 5.147078990936279\n",
      "epoch: 0 / 5, batch: 4200 / 6248, batch_loss: 16.651050567626953\n",
      "epoch: 0 / 5, batch: 4300 / 6248, batch_loss: 6.522802352905273\n",
      "epoch: 0 / 5, batch: 4400 / 6248, batch_loss: 7.322534561157227\n",
      "epoch: 0 / 5, batch: 4500 / 6248, batch_loss: 3.5635647773742676\n",
      "epoch: 0 / 5, batch: 4600 / 6248, batch_loss: 19.539169311523438\n",
      "epoch: 0 / 5, batch: 4700 / 6248, batch_loss: 2.392941474914551\n",
      "epoch: 0 / 5, batch: 4800 / 6248, batch_loss: 6.605629920959473\n",
      "epoch: 0 / 5, batch: 4900 / 6248, batch_loss: 11.018367767333984\n",
      "epoch: 0 / 5, batch: 5000 / 6248, batch_loss: 9.82219409942627\n",
      "epoch: 0 / 5, batch: 5100 / 6248, batch_loss: 3.830484628677368\n",
      "epoch: 0 / 5, batch: 5200 / 6248, batch_loss: 1.8000483512878418\n",
      "epoch: 0 / 5, batch: 5300 / 6248, batch_loss: 16.260841369628906\n",
      "epoch: 0 / 5, batch: 5400 / 6248, batch_loss: 17.147472381591797\n",
      "epoch: 0 / 5, batch: 5500 / 6248, batch_loss: 10.085953712463379\n",
      "epoch: 0 / 5, batch: 5600 / 6248, batch_loss: 6.210273742675781\n",
      "epoch: 0 / 5, batch: 5700 / 6248, batch_loss: 5.421726703643799\n",
      "epoch: 0 / 5, batch: 5800 / 6248, batch_loss: 25.590669631958008\n",
      "epoch: 0 / 5, batch: 5900 / 6248, batch_loss: 2.8900420665740967\n",
      "epoch: 0 / 5, batch: 6000 / 6248, batch_loss: 3.811896562576294\n",
      "epoch: 0 / 5, batch: 6100 / 6248, batch_loss: 0.8129540681838989\n",
      "epoch: 0 / 5, batch: 6200 / 6248, batch_loss: 0.9393517971038818\n",
      "Epoch took 0 / 5,  took 26.938950777053833 seconds\n",
      "wandb not available\n",
      "wandb not available\n",
      "epoch 0 / 5, validation_loss: 12.69\n",
      "passing 5\n",
      "name 'wandb' is not defined\n",
      "wandb not available\n",
      "wandb not available\n",
      "epoch: 1 / 5, batch: 0 / 6248, batch_loss: 2.916593074798584\n",
      "epoch: 1 / 5, batch: 100 / 6248, batch_loss: 6.199081897735596\n",
      "epoch: 1 / 5, batch: 200 / 6248, batch_loss: 10.125048637390137\n",
      "epoch: 1 / 5, batch: 300 / 6248, batch_loss: 32.554256439208984\n",
      "epoch: 1 / 5, batch: 400 / 6248, batch_loss: 16.39636993408203\n",
      "epoch: 1 / 5, batch: 500 / 6248, batch_loss: 7.576246738433838\n",
      "epoch: 1 / 5, batch: 600 / 6248, batch_loss: 17.355613708496094\n",
      "epoch: 1 / 5, batch: 700 / 6248, batch_loss: 11.501689910888672\n",
      "epoch: 1 / 5, batch: 800 / 6248, batch_loss: 3.552396774291992\n",
      "epoch: 1 / 5, batch: 900 / 6248, batch_loss: 18.60572624206543\n",
      "epoch: 1 / 5, batch: 1000 / 6248, batch_loss: 22.339616775512695\n",
      "epoch: 1 / 5, batch: 1100 / 6248, batch_loss: 9.483509063720703\n",
      "epoch: 1 / 5, batch: 1200 / 6248, batch_loss: 10.513774871826172\n",
      "epoch: 1 / 5, batch: 1300 / 6248, batch_loss: 1.6283797025680542\n",
      "epoch: 1 / 5, batch: 1400 / 6248, batch_loss: 6.762075901031494\n",
      "epoch: 1 / 5, batch: 1500 / 6248, batch_loss: 21.324249267578125\n",
      "epoch: 1 / 5, batch: 1600 / 6248, batch_loss: 25.508773803710938\n",
      "epoch: 1 / 5, batch: 1700 / 6248, batch_loss: 1.1320406198501587\n",
      "epoch: 1 / 5, batch: 1800 / 6248, batch_loss: 2.2140390872955322\n",
      "epoch: 1 / 5, batch: 1900 / 6248, batch_loss: 18.65582275390625\n",
      "epoch: 1 / 5, batch: 2000 / 6248, batch_loss: 9.36327838897705\n",
      "epoch: 1 / 5, batch: 2100 / 6248, batch_loss: 10.27192211151123\n",
      "epoch: 1 / 5, batch: 2200 / 6248, batch_loss: 2.4746015071868896\n",
      "epoch: 1 / 5, batch: 2300 / 6248, batch_loss: 14.252975463867188\n",
      "epoch: 1 / 5, batch: 2400 / 6248, batch_loss: 22.501874923706055\n",
      "epoch: 1 / 5, batch: 2500 / 6248, batch_loss: 2.3512606620788574\n",
      "epoch: 1 / 5, batch: 2600 / 6248, batch_loss: 3.6053552627563477\n",
      "epoch: 1 / 5, batch: 2700 / 6248, batch_loss: 16.11327362060547\n",
      "epoch: 1 / 5, batch: 2800 / 6248, batch_loss: 4.100347995758057\n",
      "epoch: 1 / 5, batch: 2900 / 6248, batch_loss: 1.8121297359466553\n",
      "epoch: 1 / 5, batch: 3000 / 6248, batch_loss: 6.521814346313477\n",
      "epoch: 1 / 5, batch: 3100 / 6248, batch_loss: 5.876171588897705\n",
      "epoch: 1 / 5, batch: 3200 / 6248, batch_loss: 4.293362617492676\n",
      "epoch: 1 / 5, batch: 3300 / 6248, batch_loss: 5.608534336090088\n",
      "epoch: 1 / 5, batch: 3400 / 6248, batch_loss: 2.534605026245117\n",
      "epoch: 1 / 5, batch: 3500 / 6248, batch_loss: 3.059785842895508\n",
      "epoch: 1 / 5, batch: 3600 / 6248, batch_loss: 34.93362045288086\n",
      "epoch: 1 / 5, batch: 3700 / 6248, batch_loss: 18.400196075439453\n",
      "epoch: 1 / 5, batch: 3800 / 6248, batch_loss: 12.421780586242676\n",
      "epoch: 1 / 5, batch: 3900 / 6248, batch_loss: 9.627634048461914\n",
      "epoch: 1 / 5, batch: 4000 / 6248, batch_loss: 9.883007049560547\n",
      "epoch: 1 / 5, batch: 4100 / 6248, batch_loss: 24.601343154907227\n",
      "epoch: 1 / 5, batch: 4200 / 6248, batch_loss: 3.733724594116211\n",
      "epoch: 1 / 5, batch: 4300 / 6248, batch_loss: 25.589256286621094\n",
      "epoch: 1 / 5, batch: 4400 / 6248, batch_loss: 8.407793998718262\n",
      "epoch: 1 / 5, batch: 4500 / 6248, batch_loss: 1.862131953239441\n",
      "epoch: 1 / 5, batch: 4600 / 6248, batch_loss: 7.546970367431641\n",
      "epoch: 1 / 5, batch: 4700 / 6248, batch_loss: 15.335176467895508\n",
      "epoch: 1 / 5, batch: 4800 / 6248, batch_loss: 1.721323847770691\n",
      "epoch: 1 / 5, batch: 4900 / 6248, batch_loss: 5.1945295333862305\n",
      "epoch: 1 / 5, batch: 5000 / 6248, batch_loss: 2.6280040740966797\n",
      "epoch: 1 / 5, batch: 5100 / 6248, batch_loss: 1.9248709678649902\n",
      "epoch: 1 / 5, batch: 5200 / 6248, batch_loss: 1.7881675958633423\n",
      "epoch: 1 / 5, batch: 5300 / 6248, batch_loss: 7.1162824630737305\n",
      "epoch: 1 / 5, batch: 5400 / 6248, batch_loss: 21.415637969970703\n",
      "epoch: 1 / 5, batch: 5500 / 6248, batch_loss: 3.9836742877960205\n",
      "epoch: 1 / 5, batch: 5600 / 6248, batch_loss: 1.6126636266708374\n",
      "epoch: 1 / 5, batch: 5700 / 6248, batch_loss: 15.508781433105469\n",
      "epoch: 1 / 5, batch: 5800 / 6248, batch_loss: 4.549023628234863\n",
      "epoch: 1 / 5, batch: 5900 / 6248, batch_loss: 3.9345669746398926\n",
      "epoch: 1 / 5, batch: 6000 / 6248, batch_loss: 5.369487762451172\n",
      "epoch: 1 / 5, batch: 6100 / 6248, batch_loss: 9.147500991821289\n",
      "epoch: 1 / 5, batch: 6200 / 6248, batch_loss: 2.971890926361084\n",
      "Epoch took 1 / 5,  took 31.633978128433228 seconds\n",
      "wandb not available\n",
      "wandb not available\n",
      "epoch 1 / 5, validation_loss: 9.103\n",
      "passing 5\n",
      "name 'wandb' is not defined\n",
      "wandb not available\n",
      "wandb not available\n",
      "epoch: 2 / 5, batch: 0 / 6248, batch_loss: 18.177335739135742\n",
      "epoch: 2 / 5, batch: 100 / 6248, batch_loss: 7.160423755645752\n",
      "epoch: 2 / 5, batch: 200 / 6248, batch_loss: 1.0833526849746704\n",
      "epoch: 2 / 5, batch: 300 / 6248, batch_loss: 0.7689553499221802\n",
      "epoch: 2 / 5, batch: 400 / 6248, batch_loss: 7.863158226013184\n",
      "epoch: 2 / 5, batch: 500 / 6248, batch_loss: 31.456398010253906\n",
      "epoch: 2 / 5, batch: 600 / 6248, batch_loss: 1.6489198207855225\n",
      "epoch: 2 / 5, batch: 700 / 6248, batch_loss: 7.911120414733887\n",
      "epoch: 2 / 5, batch: 800 / 6248, batch_loss: 2.726231336593628\n",
      "epoch: 2 / 5, batch: 900 / 6248, batch_loss: 2.043830156326294\n",
      "epoch: 2 / 5, batch: 1000 / 6248, batch_loss: 17.249248504638672\n",
      "epoch: 2 / 5, batch: 1100 / 6248, batch_loss: 1.9473541975021362\n",
      "epoch: 2 / 5, batch: 1200 / 6248, batch_loss: 4.596618175506592\n",
      "epoch: 2 / 5, batch: 1300 / 6248, batch_loss: 7.390196323394775\n",
      "epoch: 2 / 5, batch: 1400 / 6248, batch_loss: 4.65122652053833\n",
      "epoch: 2 / 5, batch: 1500 / 6248, batch_loss: 1.6893219947814941\n",
      "epoch: 2 / 5, batch: 1600 / 6248, batch_loss: 1.5878593921661377\n",
      "epoch: 2 / 5, batch: 1700 / 6248, batch_loss: 12.68493366241455\n",
      "epoch: 2 / 5, batch: 1800 / 6248, batch_loss: 1.863877534866333\n",
      "epoch: 2 / 5, batch: 1900 / 6248, batch_loss: 8.68303108215332\n",
      "epoch: 2 / 5, batch: 2000 / 6248, batch_loss: 1.3251135349273682\n",
      "epoch: 2 / 5, batch: 2100 / 6248, batch_loss: 9.0327730178833\n",
      "epoch: 2 / 5, batch: 2200 / 6248, batch_loss: 1.561706304550171\n",
      "epoch: 2 / 5, batch: 2300 / 6248, batch_loss: 3.551076650619507\n",
      "epoch: 2 / 5, batch: 2400 / 6248, batch_loss: 1.4739888906478882\n",
      "epoch: 2 / 5, batch: 2500 / 6248, batch_loss: 3.4899544715881348\n",
      "epoch: 2 / 5, batch: 2600 / 6248, batch_loss: 2.405264377593994\n",
      "epoch: 2 / 5, batch: 2700 / 6248, batch_loss: 9.408719062805176\n",
      "epoch: 2 / 5, batch: 2800 / 6248, batch_loss: 3.167339563369751\n",
      "epoch: 2 / 5, batch: 2900 / 6248, batch_loss: 3.569464683532715\n",
      "epoch: 2 / 5, batch: 3000 / 6248, batch_loss: 1.433802843093872\n",
      "epoch: 2 / 5, batch: 3100 / 6248, batch_loss: 10.608311653137207\n",
      "epoch: 2 / 5, batch: 3200 / 6248, batch_loss: 10.512945175170898\n",
      "epoch: 2 / 5, batch: 3300 / 6248, batch_loss: 28.54212188720703\n",
      "epoch: 2 / 5, batch: 3400 / 6248, batch_loss: 1.9291532039642334\n",
      "epoch: 2 / 5, batch: 3500 / 6248, batch_loss: 0.6310811638832092\n",
      "epoch: 2 / 5, batch: 3600 / 6248, batch_loss: 1.8336838483810425\n",
      "epoch: 2 / 5, batch: 3700 / 6248, batch_loss: 5.743785381317139\n",
      "epoch: 2 / 5, batch: 3800 / 6248, batch_loss: 6.902609348297119\n",
      "epoch: 2 / 5, batch: 3900 / 6248, batch_loss: 1.1317849159240723\n",
      "epoch: 2 / 5, batch: 4000 / 6248, batch_loss: 0.6954737305641174\n",
      "epoch: 2 / 5, batch: 4100 / 6248, batch_loss: 2.868868350982666\n",
      "epoch: 2 / 5, batch: 4200 / 6248, batch_loss: 3.122647285461426\n",
      "epoch: 2 / 5, batch: 4300 / 6248, batch_loss: 3.0988526344299316\n",
      "epoch: 2 / 5, batch: 4400 / 6248, batch_loss: 6.4876532554626465\n",
      "epoch: 2 / 5, batch: 4500 / 6248, batch_loss: 0.3020702600479126\n",
      "epoch: 2 / 5, batch: 4600 / 6248, batch_loss: 1.7590858936309814\n",
      "epoch: 2 / 5, batch: 4700 / 6248, batch_loss: 2.8763742446899414\n",
      "epoch: 2 / 5, batch: 4800 / 6248, batch_loss: 2.724623680114746\n",
      "epoch: 2 / 5, batch: 4900 / 6248, batch_loss: 5.63917350769043\n",
      "epoch: 2 / 5, batch: 5000 / 6248, batch_loss: 20.56009864807129\n",
      "epoch: 2 / 5, batch: 5100 / 6248, batch_loss: 13.702452659606934\n",
      "epoch: 2 / 5, batch: 5200 / 6248, batch_loss: 2.0691349506378174\n",
      "epoch: 2 / 5, batch: 5300 / 6248, batch_loss: 10.479930877685547\n",
      "epoch: 2 / 5, batch: 5400 / 6248, batch_loss: 0.8936798572540283\n",
      "epoch: 2 / 5, batch: 5500 / 6248, batch_loss: 6.050797939300537\n",
      "epoch: 2 / 5, batch: 5600 / 6248, batch_loss: 1.5894570350646973\n",
      "epoch: 2 / 5, batch: 5700 / 6248, batch_loss: 4.0408525466918945\n",
      "epoch: 2 / 5, batch: 5800 / 6248, batch_loss: 8.634786605834961\n",
      "epoch: 2 / 5, batch: 5900 / 6248, batch_loss: 1.6445071697235107\n",
      "epoch: 2 / 5, batch: 6000 / 6248, batch_loss: 3.3243021965026855\n",
      "epoch: 2 / 5, batch: 6100 / 6248, batch_loss: 1.1728134155273438\n",
      "epoch: 2 / 5, batch: 6200 / 6248, batch_loss: 4.719942569732666\n",
      "Epoch took 2 / 5,  took 28.473190784454346 seconds\n",
      "wandb not available\n",
      "wandb not available\n",
      "epoch 2 / 5, validation_loss: 7.6\n",
      "passing 5\n",
      "name 'wandb' is not defined\n",
      "wandb not available\n",
      "wandb not available\n",
      "epoch: 3 / 5, batch: 0 / 6248, batch_loss: 11.20986270904541\n",
      "epoch: 3 / 5, batch: 100 / 6248, batch_loss: 4.879384994506836\n",
      "epoch: 3 / 5, batch: 200 / 6248, batch_loss: 10.518756866455078\n",
      "epoch: 3 / 5, batch: 300 / 6248, batch_loss: 1.7004778385162354\n",
      "epoch: 3 / 5, batch: 400 / 6248, batch_loss: 10.379594802856445\n",
      "epoch: 3 / 5, batch: 500 / 6248, batch_loss: 3.0820789337158203\n",
      "epoch: 3 / 5, batch: 600 / 6248, batch_loss: 6.677118301391602\n",
      "epoch: 3 / 5, batch: 700 / 6248, batch_loss: 1.2418594360351562\n",
      "epoch: 3 / 5, batch: 800 / 6248, batch_loss: 2.9810616970062256\n",
      "epoch: 3 / 5, batch: 900 / 6248, batch_loss: 2.4596235752105713\n",
      "epoch: 3 / 5, batch: 1000 / 6248, batch_loss: 12.875043869018555\n",
      "epoch: 3 / 5, batch: 1100 / 6248, batch_loss: 1.7667275667190552\n",
      "epoch: 3 / 5, batch: 1200 / 6248, batch_loss: 2.129171848297119\n",
      "epoch: 3 / 5, batch: 1300 / 6248, batch_loss: 3.8405673503875732\n",
      "epoch: 3 / 5, batch: 1400 / 6248, batch_loss: 6.10286283493042\n",
      "epoch: 3 / 5, batch: 1500 / 6248, batch_loss: 2.039433240890503\n",
      "epoch: 3 / 5, batch: 1600 / 6248, batch_loss: 0.7429957985877991\n",
      "epoch: 3 / 5, batch: 1700 / 6248, batch_loss: 3.034165382385254\n",
      "epoch: 3 / 5, batch: 1800 / 6248, batch_loss: 8.705617904663086\n",
      "epoch: 3 / 5, batch: 1900 / 6248, batch_loss: 3.8629262447357178\n",
      "epoch: 3 / 5, batch: 2000 / 6248, batch_loss: 22.68282127380371\n",
      "epoch: 3 / 5, batch: 2100 / 6248, batch_loss: 0.9397985339164734\n",
      "epoch: 3 / 5, batch: 2200 / 6248, batch_loss: 1.8767139911651611\n",
      "epoch: 3 / 5, batch: 2300 / 6248, batch_loss: 3.945666551589966\n",
      "epoch: 3 / 5, batch: 2400 / 6248, batch_loss: 5.117251873016357\n",
      "epoch: 3 / 5, batch: 2500 / 6248, batch_loss: 3.562479019165039\n",
      "epoch: 3 / 5, batch: 2600 / 6248, batch_loss: 9.357687950134277\n",
      "epoch: 3 / 5, batch: 2700 / 6248, batch_loss: 4.645717144012451\n",
      "epoch: 3 / 5, batch: 2800 / 6248, batch_loss: 0.5134652256965637\n",
      "epoch: 3 / 5, batch: 2900 / 6248, batch_loss: 3.4245641231536865\n",
      "epoch: 3 / 5, batch: 3000 / 6248, batch_loss: 1.4013506174087524\n",
      "epoch: 3 / 5, batch: 3100 / 6248, batch_loss: 3.5509908199310303\n",
      "epoch: 3 / 5, batch: 3200 / 6248, batch_loss: 11.406017303466797\n",
      "epoch: 3 / 5, batch: 3300 / 6248, batch_loss: 0.497477650642395\n",
      "epoch: 3 / 5, batch: 3400 / 6248, batch_loss: 19.900798797607422\n",
      "epoch: 3 / 5, batch: 3500 / 6248, batch_loss: 15.575096130371094\n",
      "epoch: 3 / 5, batch: 3600 / 6248, batch_loss: 4.218257904052734\n",
      "epoch: 3 / 5, batch: 3700 / 6248, batch_loss: 6.017703533172607\n",
      "epoch: 3 / 5, batch: 3800 / 6248, batch_loss: 4.993248462677002\n",
      "epoch: 3 / 5, batch: 3900 / 6248, batch_loss: 3.6399292945861816\n",
      "epoch: 3 / 5, batch: 4000 / 6248, batch_loss: 9.613175392150879\n",
      "epoch: 3 / 5, batch: 4100 / 6248, batch_loss: 4.65733003616333\n",
      "epoch: 3 / 5, batch: 4200 / 6248, batch_loss: 12.048975944519043\n",
      "epoch: 3 / 5, batch: 4300 / 6248, batch_loss: 3.8053112030029297\n",
      "epoch: 3 / 5, batch: 4400 / 6248, batch_loss: 7.079024791717529\n",
      "epoch: 3 / 5, batch: 4500 / 6248, batch_loss: 1.0926227569580078\n",
      "epoch: 3 / 5, batch: 4600 / 6248, batch_loss: 0.8070131540298462\n",
      "epoch: 3 / 5, batch: 4700 / 6248, batch_loss: 0.5585042238235474\n",
      "epoch: 3 / 5, batch: 4800 / 6248, batch_loss: 0.5513670444488525\n",
      "epoch: 3 / 5, batch: 4900 / 6248, batch_loss: 0.5275300145149231\n",
      "epoch: 3 / 5, batch: 5000 / 6248, batch_loss: 6.935880661010742\n",
      "epoch: 3 / 5, batch: 5100 / 6248, batch_loss: 5.937623023986816\n",
      "epoch: 3 / 5, batch: 5200 / 6248, batch_loss: 2.511467695236206\n",
      "epoch: 3 / 5, batch: 5300 / 6248, batch_loss: 5.006554126739502\n",
      "epoch: 3 / 5, batch: 5400 / 6248, batch_loss: 36.16102600097656\n",
      "epoch: 3 / 5, batch: 5500 / 6248, batch_loss: 0.6847551465034485\n",
      "epoch: 3 / 5, batch: 5600 / 6248, batch_loss: 3.9064245223999023\n",
      "epoch: 3 / 5, batch: 5700 / 6248, batch_loss: 0.49317577481269836\n",
      "epoch: 3 / 5, batch: 5800 / 6248, batch_loss: 1.3496861457824707\n",
      "epoch: 3 / 5, batch: 5900 / 6248, batch_loss: 1.7833096981048584\n",
      "epoch: 3 / 5, batch: 6000 / 6248, batch_loss: 4.133869647979736\n",
      "epoch: 3 / 5, batch: 6100 / 6248, batch_loss: 14.814723014831543\n",
      "epoch: 3 / 5, batch: 6200 / 6248, batch_loss: 16.379371643066406\n",
      "Epoch took 3 / 5,  took 29.750263214111328 seconds\n",
      "wandb not available\n",
      "wandb not available\n",
      "epoch 3 / 5, validation_loss: 7.5\n",
      "passing 5\n",
      "name 'wandb' is not defined\n",
      "wandb not available\n",
      "wandb not available\n",
      "epoch: 4 / 5, batch: 0 / 6248, batch_loss: 5.8787946701049805\n",
      "epoch: 4 / 5, batch: 100 / 6248, batch_loss: 1.6356234550476074\n",
      "epoch: 4 / 5, batch: 200 / 6248, batch_loss: 4.545633792877197\n",
      "epoch: 4 / 5, batch: 300 / 6248, batch_loss: 0.6724920272827148\n",
      "epoch: 4 / 5, batch: 400 / 6248, batch_loss: 1.5256768465042114\n",
      "epoch: 4 / 5, batch: 500 / 6248, batch_loss: 13.512426376342773\n",
      "epoch: 4 / 5, batch: 600 / 6248, batch_loss: 12.820659637451172\n",
      "epoch: 4 / 5, batch: 700 / 6248, batch_loss: 1.34501051902771\n",
      "epoch: 4 / 5, batch: 800 / 6248, batch_loss: 8.646514892578125\n",
      "epoch: 4 / 5, batch: 900 / 6248, batch_loss: 3.8529038429260254\n",
      "epoch: 4 / 5, batch: 1000 / 6248, batch_loss: 8.1100492477417\n",
      "epoch: 4 / 5, batch: 1100 / 6248, batch_loss: 1.5255681276321411\n",
      "epoch: 4 / 5, batch: 1200 / 6248, batch_loss: 7.932858467102051\n",
      "epoch: 4 / 5, batch: 1300 / 6248, batch_loss: 98.44223022460938\n",
      "epoch: 4 / 5, batch: 1400 / 6248, batch_loss: 6.510103225708008\n",
      "epoch: 4 / 5, batch: 1500 / 6248, batch_loss: 1.4880013465881348\n",
      "epoch: 4 / 5, batch: 1600 / 6248, batch_loss: 1.0249238014221191\n",
      "epoch: 4 / 5, batch: 1700 / 6248, batch_loss: 1.373228669166565\n",
      "epoch: 4 / 5, batch: 1800 / 6248, batch_loss: 6.032616138458252\n",
      "epoch: 4 / 5, batch: 1900 / 6248, batch_loss: 3.3218276500701904\n",
      "epoch: 4 / 5, batch: 2000 / 6248, batch_loss: 1.3221908807754517\n",
      "epoch: 4 / 5, batch: 2100 / 6248, batch_loss: 6.059354782104492\n",
      "epoch: 4 / 5, batch: 2200 / 6248, batch_loss: 8.933648109436035\n",
      "epoch: 4 / 5, batch: 2300 / 6248, batch_loss: 2.414980173110962\n",
      "epoch: 4 / 5, batch: 2400 / 6248, batch_loss: 1.2065949440002441\n",
      "epoch: 4 / 5, batch: 2500 / 6248, batch_loss: 2.1951138973236084\n",
      "epoch: 4 / 5, batch: 2600 / 6248, batch_loss: 1.74544095993042\n",
      "epoch: 4 / 5, batch: 2700 / 6248, batch_loss: 2.0079307556152344\n",
      "epoch: 4 / 5, batch: 2800 / 6248, batch_loss: 1.1665210723876953\n",
      "epoch: 4 / 5, batch: 2900 / 6248, batch_loss: 0.790613055229187\n",
      "epoch: 4 / 5, batch: 3000 / 6248, batch_loss: 3.746497631072998\n",
      "epoch: 4 / 5, batch: 3100 / 6248, batch_loss: 6.304383754730225\n",
      "epoch: 4 / 5, batch: 3200 / 6248, batch_loss: 3.4822640419006348\n",
      "epoch: 4 / 5, batch: 3300 / 6248, batch_loss: 4.5432844161987305\n",
      "epoch: 4 / 5, batch: 3400 / 6248, batch_loss: 3.0952796936035156\n",
      "epoch: 4 / 5, batch: 3500 / 6248, batch_loss: 2.022463798522949\n",
      "epoch: 4 / 5, batch: 3600 / 6248, batch_loss: 0.32596150040626526\n",
      "epoch: 4 / 5, batch: 3700 / 6248, batch_loss: 5.023234844207764\n",
      "epoch: 4 / 5, batch: 3800 / 6248, batch_loss: 25.301870346069336\n",
      "epoch: 4 / 5, batch: 3900 / 6248, batch_loss: 8.250364303588867\n",
      "epoch: 4 / 5, batch: 4000 / 6248, batch_loss: 18.745418548583984\n",
      "epoch: 4 / 5, batch: 4100 / 6248, batch_loss: 1.3826156854629517\n",
      "epoch: 4 / 5, batch: 4200 / 6248, batch_loss: 3.672250270843506\n",
      "epoch: 4 / 5, batch: 4300 / 6248, batch_loss: 13.193106651306152\n",
      "epoch: 4 / 5, batch: 4400 / 6248, batch_loss: 0.753337562084198\n",
      "epoch: 4 / 5, batch: 4500 / 6248, batch_loss: 1.8329994678497314\n",
      "epoch: 4 / 5, batch: 4600 / 6248, batch_loss: 7.841012954711914\n",
      "epoch: 4 / 5, batch: 4700 / 6248, batch_loss: 2.2451441287994385\n",
      "epoch: 4 / 5, batch: 4800 / 6248, batch_loss: 5.123344421386719\n",
      "epoch: 4 / 5, batch: 4900 / 6248, batch_loss: 15.224817276000977\n",
      "epoch: 4 / 5, batch: 5000 / 6248, batch_loss: 0.6639282703399658\n",
      "epoch: 4 / 5, batch: 5100 / 6248, batch_loss: 2.339409828186035\n",
      "epoch: 4 / 5, batch: 5200 / 6248, batch_loss: 0.4993884563446045\n",
      "epoch: 4 / 5, batch: 5300 / 6248, batch_loss: 0.6163206100463867\n",
      "epoch: 4 / 5, batch: 5400 / 6248, batch_loss: 1.4182488918304443\n",
      "epoch: 4 / 5, batch: 5500 / 6248, batch_loss: 6.47085428237915\n",
      "epoch: 4 / 5, batch: 5600 / 6248, batch_loss: 12.12121295928955\n",
      "epoch: 4 / 5, batch: 5700 / 6248, batch_loss: 5.5967607498168945\n",
      "epoch: 4 / 5, batch: 5800 / 6248, batch_loss: 25.024938583374023\n",
      "epoch: 4 / 5, batch: 5900 / 6248, batch_loss: 1.4893072843551636\n",
      "epoch: 4 / 5, batch: 6000 / 6248, batch_loss: 1.1123461723327637\n",
      "epoch: 4 / 5, batch: 6100 / 6248, batch_loss: 0.9011953473091125\n",
      "epoch: 4 / 5, batch: 6200 / 6248, batch_loss: 2.996565580368042\n",
      "Epoch took 4 / 5,  took 26.869418144226074 seconds\n",
      "wandb not available\n",
      "wandb not available\n",
      "epoch 4 / 5, validation_loss: 6.278\n",
      "passing 5\n",
      "name 'wandb' is not defined\n",
      "Saving training history\n",
      "Saving training history to: data//fileid_lan_runid_torch_training_history.csv\n",
      "Saving model state dict\n",
      "Saving model parameters to: data//fileid_lan_runid_train_state_dict_torch.pt\n",
      "Saving training config to: data//fileid_lan_runid_train_config.pickle\n",
      "Saving training data details to: data//fileid_lan_runid_data_details.pickle\n",
      "Saving model to ONNX format\n",
      "Saving model to ONNX format to: data//fileid_lan_runid_torch_model.onnx\n",
      "passing 6\n",
      "name 'wandb' is not defined\n",
      "Training finished successfully...\n"
     ]
    }
   ],
   "source": [
    "# TRAIN MODEL\n",
    "model_trainer = lanfactory.trainers.ModelTrainerTorchMLP(\n",
    "    model=net,\n",
    "    train_config=train_config,\n",
    "    train_dl=torch_training_dataloader,\n",
    "    valid_dl=torch_validation_dataloader,\n",
    "    allow_abs_path_folder_generation=False,\n",
    "    pin_memory=True,\n",
    "    seed=None,\n",
    ")\n",
    "\n",
    "# model_trainer.train_model(save_history=True, save_model=True, verbose=0)\n",
    "model_trainer.train_and_evaluate()\n",
    "# LOAD MODEL"
   ]
  },
  {
   "cell_type": "markdown",
   "metadata": {},
   "source": [
    "#### Load Model for Inference and Call"
   ]
  },
  {
   "cell_type": "markdown",
   "metadata": {},
   "source": [
    "The `LANfactory` provides some convenience functions to use networks for inference after training. \n",
    "We can load a model using the `LoadTorchMLPInfer` class, which then allows us to run fast inference via either\n",
    "a direct call, which expects a `torch.tensor` as input, or the `predict_on_batch` method, which expects a `numpy.array` \n",
    "of `dtype`, `np.float32`. "
   ]
  },
  {
   "cell_type": "code",
   "execution_count": 9,
   "metadata": {},
   "outputs": [
    {
     "name": "stdout",
     "output_type": "stream",
     "text": [
      "Setting network type to \"lan\" or \"cpn\" based on train_output_type. \n",
      "Note: This is only a default setting, and can be overwritten by the network_type argument.\n",
      "tanh\n",
      "tanh\n",
      "linear\n"
     ]
    },
    {
     "name": "stderr",
     "output_type": "stream",
     "text": [
      "/Users/afengler/Library/CloudStorage/OneDrive-Personal/project_lanfactory/LANfactory/lanfactory/trainers/torch_mlp.py:704: FutureWarning: You are using `torch.load` with `weights_only=False` (the current default value), which uses the default pickle module implicitly. It is possible to construct malicious pickle data which will execute arbitrary code during unpickling (See https://github.com/pytorch/pytorch/blob/main/SECURITY.md#untrusted-models for more details). In a future release, the default value for `weights_only` will be flipped to `True`. This limits the functions that could be executed during unpickling. Arbitrary objects will no longer be allowed to be loaded via this mode unless they are explicitly allowlisted by the user via `torch.serialization.add_safe_globals`. We recommend you start setting `weights_only=True` for any use case where you don't have full control of the loaded file. Please open an issue on GitHub for any issues related to this experimental feature.\n",
      "  self.net.load_state_dict(torch.load(self.model_file_path))\n"
     ]
    }
   ],
   "source": [
    "network_path_list = os.listdir(\"data/torch_models/angle/\")\n",
    "network_file_path = [\n",
    "    \"data/torch_models/angle/\" + file_\n",
    "    for file_ in network_path_list\n",
    "    if \"state_dict\" in file_\n",
    "][0]\n",
    "\n",
    "network = lanfactory.trainers.LoadTorchMLPInfer(\n",
    "    model_file_path=network_file_path,\n",
    "    network_config=network_config,\n",
    "    input_dim=torch_training_dataset.input_dim,\n",
    ")"
   ]
  },
  {
   "cell_type": "code",
   "execution_count": 10,
   "metadata": {},
   "outputs": [
    {
     "name": "stdout",
     "output_type": "stream",
     "text": [
      "direct call out:  tensor([-66.0045])\n",
      "predict_on_batch out:  [-66.00449]\n"
     ]
    }
   ],
   "source": [
    "# Two ways to call the network\n",
    "\n",
    "# Direct call --> need tensor input\n",
    "direct_out = network(\n",
    "    torch.from_numpy(np.array([1, 1.5, 0.5, 1.0, 0.1, 0.65, 1], dtype=np.float32))\n",
    ")\n",
    "print(\"direct call out: \", direct_out)\n",
    "\n",
    "# predict_on_batch method\n",
    "predict_on_batch_out = network.predict_on_batch(\n",
    "    np.array([1, 1.5, 0.5, 1.0, 0.1, 0.65, 1], dtype=np.float32)\n",
    ")\n",
    "print(\"predict_on_batch out: \", predict_on_batch_out)"
   ]
  },
  {
   "cell_type": "markdown",
   "metadata": {},
   "source": [
    "#### A peek into the first passage distribution computed by the network\n",
    "\n",
    "We can compare the learned likelihood function in our `network` with simulation data from the underlying generative model.\n",
    "For this purpose we recruit the [`ssms`](https://github.com/AlexanderFengler/ssm_simulators) package again."
   ]
  },
  {
   "cell_type": "code",
   "execution_count": 55,
   "metadata": {},
   "outputs": [],
   "source": [
    "import pandas as pd\n",
    "import matplotlib.pyplot as plt\n",
    "\n",
    "data = pd.DataFrame(\n",
    "    np.zeros((2000, 7), dtype=np.float32),\n",
    "    columns=[\"v\", \"a\", \"z\", \"t\", \"theta\", \"rt\", \"choice\"],\n",
    ")\n",
    "data[\"v\"] = 0.5\n",
    "data[\"a\"] = 0.75\n",
    "data[\"z\"] = 0.5\n",
    "data[\"t\"] = 0.2\n",
    "data[\"theta\"] = 0.1\n",
    "data.loc[np.arange(0, 1000), \"rt\"] = np.linspace(5, 0, 1000).astype(np.float32)\n",
    "data.loc[np.arange(1000, 2000), \"rt\"] = np.linspace(0, 5, 1000).astype(np.float32)\n",
    "data.loc[np.arange(0, 1000), \"choice\"] = -1\n",
    "data.loc[np.arange(1000, 2000), \"choice\"] = 1\n",
    "\n",
    "# Network predictions\n",
    "predict_on_batch_out = network.predict_on_batch(data.values.astype(np.float32))\n",
    "\n",
    "# Simulations\n",
    "from ssms.basic_simulators.simulator import simulator\n",
    "\n",
    "sim_out = simulator(model=\"angle\", theta=data.values[0, :-2], n_samples=2000)"
   ]
  },
  {
   "cell_type": "code",
   "execution_count": 56,
   "metadata": {},
   "outputs": [
    {
     "data": {
      "text/plain": [
       "Text(0, 0.5, 'likelihod')"
      ]
     },
     "execution_count": 56,
     "metadata": {},
     "output_type": "execute_result"
    },
    {
     "data": {
      "image/png": "[encoded data removed]",
      "text/plain": [
       "<Figure size 640x480 with 1 Axes>"
      ]
     },
     "metadata": {},
     "output_type": "display_data"
    }
   ],
   "source": [
    "# Plot network predictions\n",
    "plt.plot(\n",
    "    data[\"rt\"] * data[\"choice\"],\n",
    "    np.exp(predict_on_batch_out),\n",
    "    color=\"black\",\n",
    "    label=\"network\",\n",
    ")\n",
    "\n",
    "# Plot simulations\n",
    "plt.hist(\n",
    "    sim_out[\"rts\"] * sim_out[\"choices\"],\n",
    "    bins=100,\n",
    "    histtype=\"step\",\n",
    "    label=\"simulations\",\n",
    "    color=\"blue\",\n",
    "    density=True,\n",
    ")\n",
    "plt.legend()\n",
    "plt.title(\"SSM likelihood\")\n",
    "plt.xlabel(\"rt\")\n",
    "plt.ylabel(\"likelihod\")"
   ]
  },
  {
   "cell_type": "code",
   "execution_count": 57,
   "metadata": {},
   "outputs": [],
   "source": [
    "import pandas as pd\n",
    "import matplotlib.pyplot as plt\n",
    "\n",
    "data = pd.DataFrame(\n",
    "    np.zeros((2000, 7), dtype=np.float32),\n",
    "    columns=[\"v\", \"a\", \"z\", \"t\", \"theta\", \"rt\", \"choice\"],\n",
    ")\n",
    "data[\"v\"] = 0.5\n",
    "data[\"a\"] = 0.75\n",
    "data[\"z\"] = 0.5\n",
    "data[\"t\"] = 0.2\n",
    "data[\"theta\"] = 0.1\n",
    "data.loc[np.arange(0, 1000), \"rt\"] = np.linspace(20, 0, 1000).astype(np.float32)\n",
    "data.loc[np.arange(1000, 2000), \"rt\"] = np.linspace(0, 20, 1000).astype(np.float32)\n",
    "data.loc[np.arange(0, 1000), \"choice\"] = -1\n",
    "data.loc[np.arange(1000, 2000), \"choice\"] = 1\n",
    "\n",
    "# Network predictions\n",
    "predict_on_batch_out = network.predict_on_batch(data.values.astype(np.float32))\n",
    "\n",
    "# Simulations\n",
    "from ssms.basic_simulators.simulator import simulator\n",
    "\n",
    "sim_out = simulator(model=\"angle\", theta=data.values[0, :-2], n_samples=2000)"
   ]
  },
  {
   "cell_type": "code",
   "execution_count": 59,
   "metadata": {},
   "outputs": [
    {
     "data": {
      "text/plain": [
       "Text(0, 0.5, 'logl')"
      ]
     },
     "execution_count": 59,
     "metadata": {},
     "output_type": "execute_result"
    },
    {
     "data": {
      "image/png": "[encoded data removed]",
      "text/plain": [
       "<Figure size 640x480 with 1 Axes>"
      ]
     },
     "metadata": {},
     "output_type": "display_data"
    }
   ],
   "source": [
    "# Plot network predictions\n",
    "plt.plot(\n",
    "    data[\"rt\"] * data[\"choice\"],\n",
    "    predict_on_batch_out,\n",
    "    color=\"black\",\n",
    "    label=\"network\",\n",
    ")\n",
    "\n",
    "plt.legend()\n",
    "plt.title(\"SSM log-likelihood\")\n",
    "plt.xlabel(\"rt\")\n",
    "plt.ylabel(\"logl\")"
   ]
  },
  {
   "cell_type": "markdown",
   "metadata": {},
   "source": [
    "We hope this package may be helpful in case you attempt to train [LANs](https://elifesciences.org/articles/65074) for your own research."
   ]
  },
  {
   "cell_type": "markdown",
   "metadata": {},
   "source": [
    "#### END"
   ]
  }
 ],
 "metadata": {
  "kernelspec": {
   "display_name": "Python 3.8.10 ('cssm')",
   "language": "python",
   "name": "python3"
  },
  "language_info": {
   "codemirror_mode": {
    "name": "ipython",
    "version": 3
   },
   "file_extension": ".py",
   "mimetype": "text/x-python",
   "name": "python",
   "nbconvert_exporter": "python",
   "pygments_lexer": "ipython3",
   "version": "3.11.10"
  },
  "orig_nbformat": 4,
  "vscode": {
   "interpreter": {
    "hash": "c2404e761a8d4e2a34f63613cf4c9a9997cd3109cabb959a7904b2035989131a"
   }
  }
 },
 "nbformat": 4,
 "nbformat_minor": 2
}
